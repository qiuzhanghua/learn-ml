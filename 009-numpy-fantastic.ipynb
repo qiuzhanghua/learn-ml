{
 "cells": [
  {
   "cell_type": "code",
   "id": "373df433-3e51-4f68-bc16-a82b18b5c561",
   "metadata": {},
   "source": [
    "import numpy as np"
   ],
   "outputs": [],
   "execution_count": null
  },
  {
   "cell_type": "code",
   "id": "f6d2dd11-b74c-443f-a7ea-c38eac8010ab",
   "metadata": {},
   "source": [
    "x = np.arange(10)\n",
    "x"
   ],
   "outputs": [],
   "execution_count": null
  },
  {
   "cell_type": "code",
   "id": "138d85a3-7099-4232-985b-cd971239adef",
   "metadata": {},
   "source": [
    "x[2:8]"
   ],
   "outputs": [],
   "execution_count": null
  },
  {
   "cell_type": "code",
   "id": "d752d759-3ad3-493e-a5e6-b93c11a1ed00",
   "metadata": {},
   "source": [
    "x[2:8:2]"
   ],
   "outputs": [],
   "execution_count": null
  },
  {
   "cell_type": "code",
   "id": "d9ec3473-1fa5-4cee-a05d-79ffe6d25402",
   "metadata": {},
   "source": [
    "index = [2, 5, 8]\n",
    "x[index]"
   ],
   "outputs": [],
   "execution_count": null
  },
  {
   "cell_type": "code",
   "id": "a7429f07-ee4f-4c68-8ac0-3fc8feca2b62",
   "metadata": {},
   "source": [
    "index = np.array([\n",
    "    [1, 3, 5],\n",
    "    [2, 4, 6]\n",
    "])\n",
    "x[index]"
   ],
   "outputs": [],
   "execution_count": null
  },
  {
   "cell_type": "markdown",
   "id": "edf84fe1-b319-407d-8b15-ca7158165aee",
   "metadata": {},
   "source": [
    "### 神奇索引应用于二维数组"
   ]
  },
  {
   "cell_type": "code",
   "id": "7c6586a0-493e-4e38-9701-23495dd9f995",
   "metadata": {},
   "source": [
    "X = x.reshape(2, -1)\n",
    "X"
   ],
   "outputs": [],
   "execution_count": null
  },
  {
   "cell_type": "code",
   "id": "db1e5fb4-a143-4663-aa9c-1ad7cd3c006b",
   "metadata": {},
   "source": [
    "row = np.array([0, 1, 0])\n",
    "col = np.array([0, 2, 4])\n",
    "X[row, col]"
   ],
   "outputs": [],
   "execution_count": null
  },
  {
   "cell_type": "code",
   "id": "bbd4914a-38cd-4c9d-a186-1901aac1894e",
   "metadata": {},
   "source": [
    "X[0, col]"
   ],
   "outputs": [],
   "execution_count": null
  },
  {
   "cell_type": "code",
   "id": "8aefedbc-a22c-4deb-8f64-94a0fb6de466",
   "metadata": {},
   "source": [
    "X[row, :2]"
   ],
   "outputs": [],
   "execution_count": null
  },
  {
   "cell_type": "code",
   "id": "697db3b1-5c85-4720-a60f-12abf4bad85f",
   "metadata": {},
   "source": [
    "col = [True, False, True, False, True]\n",
    "X[0, col]"
   ],
   "outputs": [],
   "execution_count": null
  },
  {
   "cell_type": "markdown",
   "id": "6c96e866-598b-46fa-8527-87ee2e328c4b",
   "metadata": {},
   "source": [
    "### 比较"
   ]
  },
  {
   "cell_type": "code",
   "id": "7981ebb3-f57e-462f-a3ee-435adceabee3",
   "metadata": {},
   "source": [
    "x < 5"
   ],
   "outputs": [],
   "execution_count": null
  },
  {
   "cell_type": "code",
   "id": "a9c5c79b-25f1-4e78-aaab-765edb9e0a9e",
   "metadata": {},
   "source": "x * x == 9",
   "outputs": [],
   "execution_count": null
  },
  {
   "cell_type": "code",
   "id": "0e1a659e-ec7d-4108-81ce-c4ca449df745",
   "metadata": {},
   "source": [
    "X > 1"
   ],
   "outputs": [],
   "execution_count": null
  },
  {
   "cell_type": "code",
   "id": "ee6d1338-4a24-4da8-874c-2886ffff7517",
   "metadata": {},
   "source": [
    "x[x>3]"
   ],
   "outputs": [],
   "execution_count": null
  },
  {
   "cell_type": "code",
   "id": "74f6a490-bec0-4c69-b0e1-b5017faaa7cb",
   "metadata": {},
   "source": [
    "x[x % 2 == 0]"
   ],
   "outputs": [],
   "execution_count": null
  },
  {
   "cell_type": "markdown",
   "id": "9de43235-b2ce-4466-9715-f46b99b98024",
   "metadata": {},
   "source": [
    "### 更多"
   ]
  },
  {
   "cell_type": "code",
   "id": "b7d647a3-8068-4cb6-a61d-af3f9764aebe",
   "metadata": {},
   "source": [
    "x"
   ],
   "outputs": [],
   "execution_count": null
  },
  {
   "cell_type": "code",
   "id": "eb57bdd8-b2fa-4587-b831-b89a775a7236",
   "metadata": {},
   "source": [
    "np.count_nonzero(x < 5)"
   ],
   "outputs": [],
   "execution_count": null
  },
  {
   "cell_type": "code",
   "id": "ea03e157-2a98-4610-989c-1cf6a14a110b",
   "metadata": {},
   "source": [
    "np.sum(x < 5)"
   ],
   "outputs": [],
   "execution_count": null
  },
  {
   "cell_type": "code",
   "id": "f2481e14-104e-4fd5-9952-8d657be5252d",
   "metadata": {},
   "source": [
    "np.any(x < 0)"
   ],
   "outputs": [],
   "execution_count": null
  },
  {
   "cell_type": "code",
   "id": "b522683a-1a74-47f5-aacf-673b9ac5f990",
   "metadata": {},
   "source": [
    "np.any(x > 5)"
   ],
   "outputs": [],
   "execution_count": null
  },
  {
   "cell_type": "code",
   "id": "909c1269-7e57-44d3-80eb-529ab4f2cb9b",
   "metadata": {},
   "source": [
    "np.all(x > 4)"
   ],
   "outputs": [],
   "execution_count": null
  },
  {
   "cell_type": "code",
   "id": "00cd807f-7ae3-49bd-8470-26c5de998f29",
   "metadata": {},
   "source": [
    "np.sum(X % 2 == 0)"
   ],
   "outputs": [],
   "execution_count": null
  },
  {
   "cell_type": "code",
   "id": "3a7555cc-9155-4c01-b359-8f12817d00a3",
   "metadata": {},
   "source": [
    "X"
   ],
   "outputs": [],
   "execution_count": null
  },
  {
   "cell_type": "code",
   "id": "95fd221d-c949-41ab-81b3-f140d7ea215d",
   "metadata": {},
   "source": [
    "np.sum(X % 2 == 0, axis = 1)"
   ],
   "outputs": [],
   "execution_count": null
  },
  {
   "cell_type": "code",
   "id": "74fe5339-937d-45e2-9f1f-fcc32ebbbe7e",
   "metadata": {},
   "source": [
    "np.sum(X % 2 == 0, axis = 0)"
   ],
   "outputs": [],
   "execution_count": null
  },
  {
   "cell_type": "code",
   "id": "d619f374-e3d0-4816-9b53-0c0232ebe165",
   "metadata": {},
   "source": [
    "np.all(X >2, axis = 0)"
   ],
   "outputs": [],
   "execution_count": null
  },
  {
   "cell_type": "markdown",
   "id": "bc0e282c-18e1-4fc6-9380-bd54874e80ed",
   "metadata": {},
   "source": [
    "### 与或非 & | ~"
   ]
  },
  {
   "cell_type": "code",
   "id": "98992b03-a4b1-468d-95f1-aae51a9b105b",
   "metadata": {},
   "source": [
    "x"
   ],
   "outputs": [],
   "execution_count": null
  },
  {
   "cell_type": "code",
   "id": "d2cf738c-2993-475f-a3d2-f37f560f1952",
   "metadata": {},
   "source": [
    "np.sum((x < 5) & (x > 1))"
   ],
   "outputs": [],
   "execution_count": null
  },
  {
   "cell_type": "code",
   "id": "b976723e-e5b8-40a8-8a95-cf633d36d196",
   "metadata": {},
   "source": [
    "x[~(x > 8)]"
   ],
   "outputs": [],
   "execution_count": null
  },
  {
   "cell_type": "code",
   "id": "d5142f2a-8853-4337-b4d9-e7945625d7f5",
   "metadata": {},
   "source": [],
   "outputs": [],
   "execution_count": null
  }
 ],
 "metadata": {
  "kernelspec": {
   "display_name": "all",
   "language": "python",
   "name": "python3"
  },
  "language_info": {
   "codemirror_mode": {
    "name": "ipython",
    "version": 3
   },
   "file_extension": ".py",
   "mimetype": "text/x-python",
   "name": "python",
   "nbconvert_exporter": "python",
   "pygments_lexer": "ipython3",
   "version": "3.12.2"
  }
 },
 "nbformat": 4,
 "nbformat_minor": 5
}
