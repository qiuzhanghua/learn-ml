{
 "cells": [
  {
   "cell_type": "code",
   "id": "initial_id",
   "metadata": {
    "collapsed": true
   },
   "source": [
    "import numpy as np\n",
    "from sklearn import datasets"
   ],
   "outputs": [],
   "execution_count": null
  },
  {
   "metadata": {},
   "cell_type": "code",
   "source": [
    "iris = datasets.load_iris()\n",
    "X = iris.data\n",
    "y = iris.target.copy()\n"
   ],
   "id": "583b76025e271e3f",
   "outputs": [],
   "execution_count": null
  },
  {
   "metadata": {},
   "cell_type": "code",
   "source": "y[y !=0] = 1",
   "id": "3d01bfb1e49772cc",
   "outputs": [],
   "execution_count": null
  },
  {
   "metadata": {},
   "cell_type": "code",
   "source": [
    "from sklearn.model_selection import train_test_split\n",
    "from sklearn.linear_model import LogisticRegression\n",
    "\n",
    "X_train, X_test, y_train, y_test = train_test_split(X, y, random_state=666)\n",
    "\n",
    "log_reg = LogisticRegression()\n",
    "model = log_reg.fit(X_train, y_train)\n",
    "y_predict = model.predict(X_test)"
   ],
   "id": "a6d0520aaf1fbbb6",
   "outputs": [],
   "execution_count": null
  },
  {
   "metadata": {},
   "cell_type": "markdown",
   "source": "### Precision Recall F1 Score",
   "id": "aa55548fa1150b01"
  },
  {
   "metadata": {},
   "cell_type": "code",
   "source": [
    "TN = np.sum((y_predict == 0)&(y_test == 0))\n",
    "FP = np.sum((y_predict == 1)&(y_test == 0))\n",
    "FN = np.sum((y_predict == 0)&(y_test == 1))\n",
    "TP = np.sum((y_predict == 1)&(y_test == 1))"
   ],
   "id": "49f48c440f479373",
   "outputs": [],
   "execution_count": null
  },
  {
   "metadata": {},
   "cell_type": "code",
   "source": [
    "confusion_matrix = np.array(\n",
    "    [\n",
    "        [TN, FP],\n",
    "        [FN, TP]\n",
    "    ]\n",
    ")\n",
    "confusion_matrix"
   ],
   "id": "2d02c4ab6fbd226c",
   "outputs": [],
   "execution_count": null
  },
  {
   "metadata": {},
   "cell_type": "code",
   "source": [
    "precision = TP / (FP + TP)\n",
    "recall = TP / (FN + TP)\n",
    "f1_score = 2 * precision * recall / (precision + recall)\n",
    "precision, recall, f1_score"
   ],
   "id": "fe2c85729d417ba4",
   "outputs": [],
   "execution_count": null
  },
  {
   "metadata": {},
   "cell_type": "markdown",
   "source": "### scikit-learn封装实现",
   "id": "c3a0c927033fbeb6"
  },
  {
   "metadata": {},
   "cell_type": "code",
   "source": [
    "from sklearn.metrics import confusion_matrix\n",
    "confusion_matrix(y_test, y_predict)"
   ],
   "id": "a9d064ad51c160ee",
   "outputs": [],
   "execution_count": null
  },
  {
   "metadata": {},
   "cell_type": "code",
   "source": [
    "from sklearn.metrics import precision_score, recall_score, f1_score\n",
    "precision_score(y_test, y_predict), recall_score(y_test, y_predict), f1_score(y_test, y_predict)"
   ],
   "id": "6e900119d0f97946",
   "outputs": [],
   "execution_count": null
  }
 ],
 "metadata": {
  "kernelspec": {
   "display_name": "Python 3",
   "language": "python",
   "name": "python3"
  },
  "language_info": {
   "codemirror_mode": {
    "name": "ipython",
    "version": 2
   },
   "file_extension": ".py",
   "mimetype": "text/x-python",
   "name": "python",
   "nbconvert_exporter": "python",
   "pygments_lexer": "ipython2",
   "version": "2.7.6"
  }
 },
 "nbformat": 4,
 "nbformat_minor": 5
}
