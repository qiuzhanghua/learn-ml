{
 "cells": [
  {
   "cell_type": "code",
   "id": "initial_id",
   "metadata": {
    "collapsed": true
   },
   "source": [
    "import numpy as np\n",
    "from sklearn import datasets\n",
    "from torch.ao.nn.quantized.functional import threshold"
   ],
   "outputs": [],
   "execution_count": null
  },
  {
   "metadata": {},
   "cell_type": "code",
   "source": [
    "iris = datasets.load_iris()\n",
    "X = iris.data\n",
    "y = iris.target.copy()\n"
   ],
   "id": "583b76025e271e3f",
   "outputs": [],
   "execution_count": null
  },
  {
   "metadata": {},
   "cell_type": "code",
   "source": "y[y !=0] = 1",
   "id": "3d01bfb1e49772cc",
   "outputs": [],
   "execution_count": null
  },
  {
   "metadata": {},
   "cell_type": "code",
   "source": [
    "from sklearn.model_selection import train_test_split\n",
    "from sklearn.linear_model import LogisticRegression\n",
    "\n",
    "X_train, X_test, y_train, y_test = train_test_split(X, y, random_state=666)\n",
    "\n",
    "log_reg = LogisticRegression()\n",
    "model = log_reg.fit(X_train, y_train)\n",
    "y_predict = model.predict(X_test)"
   ],
   "id": "a6d0520aaf1fbbb6",
   "outputs": [],
   "execution_count": null
  },
  {
   "metadata": {},
   "cell_type": "code",
   "source": [
    "decision_scores = model.decision_function(X_test)\n",
    "decision_scores"
   ],
   "id": "ed0abf960e0b34b2",
   "outputs": [],
   "execution_count": null
  },
  {
   "metadata": {},
   "cell_type": "code",
   "source": [
    "from sklearn.metrics import precision_score\n",
    "from sklearn.metrics import recall_score\n",
    "from sklearn.metrics import f1_score\n",
    "from sklearn.metrics import roc_auc_score\n",
    "\n",
    "precision_scores = []\n",
    "recall_scores = []\n",
    "thresholds = np.sort(decision_scores)\n",
    "for threshold in thresholds:\n",
    "    y_predict = np.array(decision_scores >= threshold, dtype='int')\n",
    "    precision_scores.append(precision_score(y_test, y_predict))\n",
    "    recall_scores.append(recall_score(y_test, y_predict))"
   ],
   "id": "49f48c440f479373",
   "outputs": [],
   "execution_count": null
  },
  {
   "metadata": {},
   "cell_type": "code",
   "source": [
    "import matplotlib.pyplot as plt\n",
    "plt.plot(thresholds, precision_scores, label='precision', color='r')\n",
    "plt.plot(thresholds, recall_scores, label='recall', color='b')\n",
    "plt.legend()\n",
    "plt.show()"
   ],
   "id": "1b2959278810d534",
   "outputs": [],
   "execution_count": null
  },
  {
   "metadata": {},
   "cell_type": "markdown",
   "source": "## Precision-Recall 曲线",
   "id": "9ba98d1d47ec8576"
  },
  {
   "metadata": {},
   "cell_type": "code",
   "source": [
    "plt.plot(recall_scores, precision_scores)\n",
    "plt.xlabel('recall')\n",
    "plt.ylabel('precision')\n",
    "plt.show()"
   ],
   "id": "e23bd03b25aa1ae0",
   "outputs": [],
   "execution_count": null
  },
  {
   "metadata": {},
   "cell_type": "markdown",
   "source": "## scikit-learn 中的 PR 曲线",
   "id": "66966af10e558a7c"
  },
  {
   "metadata": {},
   "cell_type": "code",
   "source": [
    "from sklearn.metrics import precision_recall_curve\n",
    "precision_scores, recall_scores, thresholds = precision_recall_curve(y_test, decision_scores)"
   ],
   "id": "6e8034a8c8490fd0",
   "outputs": [],
   "execution_count": null
  },
  {
   "metadata": {},
   "cell_type": "code",
   "source": [
    "import matplotlib.pyplot as plt\n",
    "plt.plot(thresholds, precision_scores[:-1], label='precision', color='r')\n",
    "plt.plot(thresholds, recall_scores[:-1], label='recall', color='b')\n",
    "plt.legend()\n",
    "plt.show()"
   ],
   "id": "35b68dc6b5555fdd",
   "outputs": [],
   "execution_count": null
  },
  {
   "metadata": {},
   "cell_type": "code",
   "source": [
    "plt.plot(recall_scores, precision_scores)\n",
    "plt.xlabel('recall')\n",
    "plt.ylabel('precision')\n",
    "plt.show()"
   ],
   "id": "9347a96c117a335a",
   "outputs": [],
   "execution_count": null
  },
  {
   "metadata": {},
   "cell_type": "markdown",
   "source": [
    "### ROC 曲线\n",
    "Receiver Operating Characteristic Curve\n",
    "\n",
    "TPR = True Positive Rate = Recall = TP / (TP + FN)\n",
    "\n",
    "FPR = False Positive Rate = FP / (FP + TN)"
   ],
   "id": "88e34a420666dbca"
  },
  {
   "metadata": {},
   "cell_type": "code",
   "source": [
    "from sklearn.metrics import roc_curve\n",
    "fprs, tprs, thresholds = roc_curve(y_test, decision_scores)"
   ],
   "id": "211aecc08f04735",
   "outputs": [],
   "execution_count": null
  },
  {
   "metadata": {},
   "cell_type": "code",
   "source": [
    "plt.plot(fprs, tprs)\n",
    "plt.xlabel('FPR')\n",
    "plt.ylabel('TPR')\n",
    "plt.show()"
   ],
   "id": "6d669c37f310ad8e",
   "outputs": [],
   "execution_count": null
  },
  {
   "metadata": {},
   "cell_type": "markdown",
   "source": [
    "### AOC\n",
    "area under curve"
   ],
   "id": "c055134bbcd3772e"
  },
  {
   "metadata": {},
   "cell_type": "code",
   "source": [
    "from sklearn.metrics import roc_auc_score\n",
    "auc = roc_auc_score(y_test, decision_scores)\n",
    "auc"
   ],
   "id": "a809d19cf6763614",
   "outputs": [],
   "execution_count": null
  }
 ],
 "metadata": {
  "kernelspec": {
   "display_name": "Python 3",
   "language": "python",
   "name": "python3"
  },
  "language_info": {
   "codemirror_mode": {
    "name": "ipython",
    "version": 2
   },
   "file_extension": ".py",
   "mimetype": "text/x-python",
   "name": "python",
   "nbconvert_exporter": "python",
   "pygments_lexer": "ipython2",
   "version": "2.7.6"
  }
 },
 "nbformat": 4,
 "nbformat_minor": 5
}
