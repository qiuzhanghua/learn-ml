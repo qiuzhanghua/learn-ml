{
 "cells": [
  {
   "cell_type": "code",
   "id": "792c1475-f4e8-4418-8020-9fbfc4d0bca1",
   "metadata": {},
   "source": [
    "import numpy as np\n",
    "import matplotlib.pyplot as plt"
   ],
   "outputs": [],
   "execution_count": null
  },
  {
   "cell_type": "code",
   "id": "5bc264d8-43d3-4748-83f9-fc9a7f7ac0d3",
   "metadata": {},
   "source": [
    "# 样本特征\n",
    "data_X = [\n",
    "    [1.3, 6],\n",
    "    [3.5, 5],\n",
    "    [4.2, 2],\n",
    "    [5, 3.3],\n",
    "    [2, 9],\n",
    "    [5, 7.5],\n",
    "    [7.2, 4],\n",
    "    [8.1, 8],\n",
    "    [9,2.5]\n",
    "]"
   ],
   "outputs": [],
   "execution_count": null
  },
  {
   "cell_type": "code",
   "id": "42b71b16-97b6-459f-85f1-e06369309b00",
   "metadata": {},
   "source": [
    "# 样本标记\n",
    "data_y = [0,0,0,0,1,1,1,1,1]"
   ],
   "outputs": [],
   "execution_count": null
  },
  {
   "cell_type": "code",
   "id": "4081abad-0fe3-4dfc-88c2-1773f198010f",
   "metadata": {},
   "source": [
    "# 训练集\n",
    "X_train = np.array(data_X)\n",
    "y_train = np.array(data_y)"
   ],
   "outputs": [],
   "execution_count": null
  },
  {
   "cell_type": "code",
   "id": "8c97b47b-1147-4474-ab3b-f7fdc06a88fe",
   "metadata": {},
   "source": [
    "plt.scatter(X_train[y_train == 0, 0], X_train[y_train == 0, 1], color='red', marker = 'x')\n",
    "plt.scatter(X_train[y_train == 1, 0], X_train[y_train == 1, 1], color='black', marker = 'o')\n",
    "\n",
    "data_new = np.array([4,5])\n",
    "\n",
    "plt.scatter(data_new[0], data_new[1], color = 'blue', marker='^')\n",
    "plt.show()"
   ],
   "outputs": [],
   "execution_count": null
  },
  {
   "cell_type": "markdown",
   "id": "45fb05d0-2794-4016-bbe1-3b418a78bf34",
   "metadata": {},
   "source": [
    "#### 1 计算新样本与已知样本点之间的距离"
   ]
  },
  {
   "cell_type": "code",
   "id": "6c0c9df1-d607-49fe-8d02-912a2c67e756",
   "metadata": {},
   "source": [
    "for data in X_train:\n",
    "      print(np.sqrt(np.sum((data - data_new) ** 2)))"
   ],
   "outputs": [],
   "execution_count": null
  },
  {
   "cell_type": "code",
   "id": "4fb3663d-bf4f-49fb-8dbb-740e04fb6e41",
   "metadata": {},
   "source": [
    "distance = [np.sqrt(np.sum((data - data_new) ** 2)) for data in X_train]"
   ],
   "outputs": [],
   "execution_count": null
  },
  {
   "cell_type": "markdown",
   "id": "92f7ce5f-3140-49ef-b574-839fded7ae0f",
   "metadata": {},
   "source": [
    "#### 2. 按照距离排序"
   ]
  },
  {
   "cell_type": "code",
   "id": "379f7df5-0fe5-4b7c-b199-affc80a9bc19",
   "metadata": {},
   "source": [
    "sort_index = np.argsort(distance)\n",
    "sort_index"
   ],
   "outputs": [],
   "execution_count": null
  },
  {
   "cell_type": "markdown",
   "id": "1b692eff-98a5-4749-9c50-bf2d7b0cec4f",
   "metadata": {},
   "source": [
    "#### 3. 确定k值"
   ]
  },
  {
   "cell_type": "code",
   "id": "d9e15c31-ab28-4931-be9b-9c4e52f61ee5",
   "metadata": {},
   "source": [
    "k = 5"
   ],
   "outputs": [],
   "execution_count": null
  },
  {
   "cell_type": "markdown",
   "id": "1799cea8-1f08-4e9a-9664-1630df36a48b",
   "metadata": {},
   "source": [
    "#### 4. 最近的k个点投票表决"
   ]
  },
  {
   "cell_type": "code",
   "id": "1f343a43-27ab-44e2-98cc-e4cf19ac23da",
   "metadata": {},
   "source": [
    "first_k = [y_train[i] for i in sort_index[:k]]"
   ],
   "outputs": [],
   "execution_count": null
  },
  {
   "cell_type": "code",
   "id": "f03f3489-c7d1-406d-b9f9-65e029431987",
   "metadata": {},
   "source": [
    "first_k"
   ],
   "outputs": [],
   "execution_count": null
  },
  {
   "cell_type": "code",
   "id": "266d8a66-c35c-416b-a472-23d180360711",
   "metadata": {},
   "source": [
    "from collections import Counter"
   ],
   "outputs": [],
   "execution_count": null
  },
  {
   "cell_type": "code",
   "id": "3afaca70-330b-4048-9790-16afbedb093f",
   "metadata": {},
   "source": [
    "Counter(first_k)"
   ],
   "outputs": [],
   "execution_count": null
  },
  {
   "cell_type": "code",
   "id": "4017c259-9975-42a0-b9b3-d126b91d179d",
   "metadata": {},
   "source": [
    "Counter(first_k).most_common()"
   ],
   "outputs": [],
   "execution_count": null
  },
  {
   "cell_type": "code",
   "id": "89a33a59-a505-49de-bf7c-ec14801e9d28",
   "metadata": {},
   "source": [
    "predict_y = Counter(first_k).most_common(1)[0][0]"
   ],
   "outputs": [],
   "execution_count": null
  },
  {
   "cell_type": "code",
   "id": "e92522ce-6d74-446e-96e9-4f77709b73bc",
   "metadata": {},
   "source": [
    "predict_y"
   ],
   "outputs": [],
   "execution_count": null
  },
  {
   "cell_type": "markdown",
   "id": "41451461-1576-47a3-a6dc-cc6cf321e3f8",
   "metadata": {},
   "source": [
    "#### scikit-learn中的KNN算法"
   ]
  },
  {
   "cell_type": "code",
   "id": "d4495f06-dec2-4ae9-9777-ac3d5734494a",
   "metadata": {},
   "source": [
    "from sklearn.neighbors import KNeighborsClassifier "
   ],
   "outputs": [],
   "execution_count": null
  },
  {
   "cell_type": "markdown",
   "id": "7ffc7477",
   "metadata": {},
   "source": []
  },
  {
   "cell_type": "code",
   "id": "1c6477ce-d2f8-468d-b273-def11b8f9006",
   "metadata": {},
   "source": [
    "knn_classifier = KNeighborsClassifier(n_neighbors = 5)"
   ],
   "outputs": [],
   "execution_count": null
  },
  {
   "cell_type": "code",
   "id": "422b0276-bff9-4b02-885e-8bb9041caea0",
   "metadata": {},
   "source": [
    "knn_classifier.fit(X_train, y_train)"
   ],
   "outputs": [],
   "execution_count": null
  },
  {
   "cell_type": "code",
   "id": "944d590c-3f15-47a7-ae2b-25e52c29f12f",
   "metadata": {},
   "source": [
    "knn_classifier.predict(data_new.reshape([1, -1]))"
   ],
   "outputs": [],
   "execution_count": null
  },
  {
   "cell_type": "code",
   "id": "ec6b8bd4-1d64-4aff-af1f-3048f91f82f1",
   "metadata": {},
   "source": [],
   "outputs": [],
   "execution_count": null
  }
 ],
 "metadata": {
  "kernelspec": {
   "display_name": "all",
   "language": "python",
   "name": "python3"
  },
  "language_info": {
   "codemirror_mode": {
    "name": "ipython",
    "version": 3
   },
   "file_extension": ".py",
   "mimetype": "text/x-python",
   "name": "python",
   "nbconvert_exporter": "python",
   "pygments_lexer": "ipython3",
   "version": "3.12.2"
  }
 },
 "nbformat": 4,
 "nbformat_minor": 5
}
