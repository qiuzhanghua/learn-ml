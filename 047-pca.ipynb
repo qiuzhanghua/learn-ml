{
 "cells": [
  {
   "metadata": {},
   "cell_type": "markdown",
   "source": "### 数据集",
   "id": "1646827980120bc9"
  },
  {
   "cell_type": "code",
   "id": "initial_id",
   "metadata": {
    "collapsed": true
   },
   "source": [
    "import numpy as np\n",
    "import pandas as pd\n",
    "import matplotlib.pyplot as plt"
   ],
   "outputs": [],
   "execution_count": null
  },
  {
   "metadata": {},
   "cell_type": "code",
   "source": "w, b = 1.8, 2.5",
   "id": "4ff97b4464525327",
   "outputs": [],
   "execution_count": null
  },
  {
   "metadata": {},
   "cell_type": "code",
   "source": [
    "np.random.seed(0)\n",
    "x1 = np.random.rand(100) * 4\n",
    "noise = np.random.randn(100)\n",
    "x2 = w * x1 + b + noise"
   ],
   "id": "52f7b5f0d4213d8d",
   "outputs": [],
   "execution_count": null
  },
  {
   "metadata": {},
   "cell_type": "code",
   "source": "x = np.stack([x1, x2]).T",
   "id": "a3dc0920e362bc41",
   "outputs": [],
   "execution_count": null
  },
  {
   "metadata": {},
   "cell_type": "code",
   "source": [
    "# plt.scatter(x1, x2)\n",
    "# plt.show()"
   ],
   "id": "c79e134bf6225ded",
   "outputs": [],
   "execution_count": null
  },
  {
   "metadata": {},
   "cell_type": "code",
   "source": "x = x - np.mean(x, axis=0)",
   "id": "303af04feb54f90d",
   "outputs": [],
   "execution_count": null
  },
  {
   "metadata": {},
   "cell_type": "code",
   "source": [
    "# plt.scatter(x[:, 0], x[:, 1])\n",
    "# plt.show()"
   ],
   "id": "ac361bdd77cf9d0a",
   "outputs": [],
   "execution_count": null
  },
  {
   "metadata": {},
   "cell_type": "markdown",
   "source": "### PCA",
   "id": "e9f59270583d6204"
  },
  {
   "metadata": {},
   "cell_type": "code",
   "source": [
    "from sklearn.decomposition import PCA\n",
    "pca = PCA(n_components=1)\n",
    "pca.fit(x)"
   ],
   "id": "482f1d476146a4c",
   "outputs": [],
   "execution_count": null
  },
  {
   "metadata": {},
   "cell_type": "code",
   "source": "print(pca.explained_variance_ratio_)",
   "id": "e3a6ae4a5213f44a",
   "outputs": [],
   "execution_count": null
  },
  {
   "metadata": {},
   "cell_type": "code",
   "source": "print(pca.components_)",
   "id": "c70e9ff5ad6827ed",
   "outputs": [],
   "execution_count": null
  },
  {
   "metadata": {},
   "cell_type": "code",
   "source": [
    "plt.scatter(x[:, 0], x[:, 1], s = 10)\n",
    "plt.plot(\n",
    "    np.array([pca.components_[0][0] * -1, pca.components_[0][0]]) * 5,\n",
    "    np.array([pca.components_[0][1] * -1, pca.components_[0][1]]) * 5,\n",
    "    c = 'r'\n",
    ")\n",
    "plt.show()"
   ],
   "id": "b4e71609a8c0f776",
   "outputs": [],
   "execution_count": null
  },
  {
   "metadata": {},
   "cell_type": "code",
   "source": [
    "x_pca = pca.transform(x)\n",
    "x_pca.shape"
   ],
   "id": "6ae7ef4907799e07",
   "outputs": [],
   "execution_count": null
  },
  {
   "metadata": {},
   "cell_type": "code",
   "source": [
    "plt.scatter(x_pca, np.zeros(100), s = 10)\n",
    "plt.show()"
   ],
   "id": "b3a16d2987e4ee8c",
   "outputs": [],
   "execution_count": null
  },
  {
   "metadata": {},
   "cell_type": "code",
   "source": "x_pca_inv = pca.inverse_transform(x_pca)",
   "id": "da89a93f3d7f269b",
   "outputs": [],
   "execution_count": null
  },
  {
   "metadata": {},
   "cell_type": "code",
   "source": [
    "plt.scatter(x[:, 0], x[:, 1], s = 10)\n",
    "plt.scatter(x_pca_inv[:, 0], x_pca_inv[:, 1], s = 10, c = 'r')\n",
    "plt.show()"
   ],
   "id": "5e8e0289c7efa1f9",
   "outputs": [],
   "execution_count": null
  },
  {
   "metadata": {},
   "cell_type": "code",
   "source": "",
   "id": "3715288c7d6cf26c",
   "outputs": [],
   "execution_count": null
  }
 ],
 "metadata": {
  "kernelspec": {
   "display_name": "Python 3",
   "language": "python",
   "name": "python3"
  },
  "language_info": {
   "codemirror_mode": {
    "name": "ipython",
    "version": 2
   },
   "file_extension": ".py",
   "mimetype": "text/x-python",
   "name": "python",
   "nbconvert_exporter": "python",
   "pygments_lexer": "ipython2",
   "version": "2.7.6"
  }
 },
 "nbformat": 4,
 "nbformat_minor": 5
}
