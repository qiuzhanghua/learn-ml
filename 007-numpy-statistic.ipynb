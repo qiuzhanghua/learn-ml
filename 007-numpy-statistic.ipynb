{
 "cells": [
  {
   "cell_type": "code",
   "execution_count": 1,
   "id": "ef0cc117-fb95-494f-a116-c6ab2552c93f",
   "metadata": {},
   "outputs": [],
   "source": [
    "import numpy as np"
   ]
  },
  {
   "cell_type": "code",
   "execution_count": null,
   "id": "3edae717-c4f8-445e-bceb-093358188a51",
   "metadata": {},
   "outputs": [],
   "source": [
    "X = np.arange(5000000)\n",
    "X"
   ]
  },
  {
   "cell_type": "code",
   "execution_count": null,
   "id": "dbd640ff-733f-4fdc-9bb7-1a9a507ccb08",
   "metadata": {},
   "outputs": [],
   "source": [
    "np.min(X)"
   ]
  },
  {
   "cell_type": "code",
   "execution_count": null,
   "id": "d0aadf8d-fd6a-4f97-b152-bc65ec47201f",
   "metadata": {},
   "outputs": [],
   "source": [
    "%%time\n",
    "np.max(X)"
   ]
  },
  {
   "cell_type": "code",
   "execution_count": null,
   "id": "c8067ecb-894c-4621-a595-93fc3e6d04a3",
   "metadata": {},
   "outputs": [],
   "source": [
    "%%time\n",
    "max(X)"
   ]
  },
  {
   "cell_type": "code",
   "execution_count": null,
   "id": "534e5fb0-a6cf-495c-a989-b34fd2caa16b",
   "metadata": {},
   "outputs": [],
   "source": [
    "Y = X.reshape(5, -1)\n",
    "Y"
   ]
  },
  {
   "cell_type": "code",
   "execution_count": null,
   "id": "190c5d71-8243-4e8b-b4d5-3d9ee9ac8654",
   "metadata": {},
   "outputs": [],
   "source": [
    "np.min(Y, axis = 0)"
   ]
  },
  {
   "cell_type": "code",
   "execution_count": null,
   "id": "b38801f2-56dc-4ed8-a4cd-54b9668b3149",
   "metadata": {},
   "outputs": [],
   "source": [
    "np.min(Y, axis = 1)"
   ]
  },
  {
   "cell_type": "code",
   "execution_count": null,
   "id": "96b1e874-621d-4df5-8347-8d1c9eccb0ec",
   "metadata": {},
   "outputs": [],
   "source": [
    "X = np.linspace(1, 20, 20).reshape(4,5)\n",
    "X"
   ]
  },
  {
   "cell_type": "code",
   "execution_count": null,
   "id": "5e96881e-5afd-44e3-979d-4c1d8bfe759b",
   "metadata": {},
   "outputs": [],
   "source": [
    "np.sum(X)"
   ]
  },
  {
   "cell_type": "code",
   "execution_count": null,
   "id": "788ed466-3cb3-4178-9b62-a5d66e17d525",
   "metadata": {},
   "outputs": [],
   "source": [
    "np.sum(X, axis = 0)"
   ]
  },
  {
   "cell_type": "code",
   "execution_count": null,
   "id": "4335e13d-66ee-4f44-b996-3dc46fba6a7b",
   "metadata": {},
   "outputs": [],
   "source": [
    "np.sum(X, axis = 1)"
   ]
  },
  {
   "cell_type": "code",
   "execution_count": null,
   "id": "229d87a0-ec75-42ab-9f6c-b8c6e2db4a6d",
   "metadata": {},
   "outputs": [],
   "source": [
    "np.mean(X)"
   ]
  },
  {
   "cell_type": "code",
   "execution_count": null,
   "id": "b30d13b9-54ed-4886-a83d-d8c04d05eecf",
   "metadata": {},
   "outputs": [],
   "source": [
    "np.median(X)"
   ]
  },
  {
   "cell_type": "code",
   "execution_count": null,
   "id": "69eb4e50-be24-40ac-84cb-1f9cb08c5c11",
   "metadata": {},
   "outputs": [],
   "source": [
    "np.std(X)"
   ]
  },
  {
   "cell_type": "code",
   "execution_count": null,
   "id": "f4dece22-ebe1-4d14-bbb1-ef4b3d530583",
   "metadata": {},
   "outputs": [],
   "source": [
    "np.var(X)"
   ]
  },
  {
   "cell_type": "code",
   "execution_count": 17,
   "id": "65e79dc3-432c-40a0-8a25-62035290565e",
   "metadata": {},
   "outputs": [],
   "source": [
    "Z = np.random.normal(0,10,100000)"
   ]
  },
  {
   "cell_type": "code",
   "execution_count": null,
   "id": "c718c421-ef18-4ba4-8e83-a385214e2b19",
   "metadata": {},
   "outputs": [],
   "source": [
    "np.mean(Z)"
   ]
  },
  {
   "cell_type": "code",
   "execution_count": null,
   "id": "ccc3ebef-521a-414e-881e-0c75edf5271b",
   "metadata": {},
   "outputs": [],
   "source": [
    "np.std(Z)"
   ]
  },
  {
   "cell_type": "code",
   "execution_count": null,
   "id": "dd0f26cc-d998-4f13-8ebe-99f3d689f8d0",
   "metadata": {},
   "outputs": [],
   "source": [
    "np.ptp(X) # max - min, peak to peak"
   ]
  },
  {
   "cell_type": "code",
   "execution_count": null,
   "id": "7804b762-1526-43bf-8ec6-c8a52c9fba17",
   "metadata": {},
   "outputs": [],
   "source": [
    "q = np.linspace(0, 100, 5)\n",
    "q"
   ]
  },
  {
   "cell_type": "code",
   "execution_count": null,
   "id": "95479d12-2671-42ab-8f87-3f92668ad3b3",
   "metadata": {},
   "outputs": [],
   "source": [
    "np.percentile(X, q)"
   ]
  },
  {
   "cell_type": "code",
   "execution_count": null,
   "id": "7d8b91ea-bccc-47df-82c8-70f6bb52f403",
   "metadata": {},
   "outputs": [],
   "source": [
    "np.cumsum(X, axis = 1)"
   ]
  },
  {
   "cell_type": "code",
   "execution_count": null,
   "id": "ff53fd48-6192-41cf-8b88-e1a44a69d713",
   "metadata": {},
   "outputs": [],
   "source": [
    "np.diff(X, axis = 1)"
   ]
  },
  {
   "cell_type": "code",
   "execution_count": null,
   "id": "7d222b20-ef33-4290-ba1f-d4dbc068e263",
   "metadata": {},
   "outputs": [],
   "source": [
    "np.prod(X, axis = 1)"
   ]
  },
  {
   "cell_type": "code",
   "execution_count": null,
   "id": "a9e9c521-801e-4e35-98c0-3a76f4296aa9",
   "metadata": {},
   "outputs": [],
   "source": [
    "np.prod(X, axis = 0)"
   ]
  }
 ],
 "metadata": {
  "kernelspec": {
   "display_name": "all",
   "language": "python",
   "name": "python3"
  },
  "language_info": {
   "codemirror_mode": {
    "name": "ipython",
    "version": 3
   },
   "file_extension": ".py",
   "mimetype": "text/x-python",
   "name": "python",
   "nbconvert_exporter": "python",
   "pygments_lexer": "ipython3",
   "version": "3.12.2"
  }
 },
 "nbformat": 4,
 "nbformat_minor": 5
}
