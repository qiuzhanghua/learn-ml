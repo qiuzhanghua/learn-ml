{
 "cells": [
  {
   "cell_type": "code",
   "id": "792c1475-f4e8-4418-8020-9fbfc4d0bca1",
   "metadata": {},
   "source": [
    "import numpy as np\n",
    "import matplotlib.pyplot as plt"
   ],
   "outputs": [],
   "execution_count": null
  },
  {
   "cell_type": "code",
   "id": "5bc264d8-43d3-4748-83f9-fc9a7f7ac0d3",
   "metadata": {},
   "source": [
    "# 样本特征\n",
    "data_X = [\n",
    "    [1.3, 6],\n",
    "    [3.5, 5],\n",
    "    [4.2, 2],\n",
    "    [5, 3.3],\n",
    "    [2, 9],\n",
    "    [5, 7.5],\n",
    "    [7.2, 4],\n",
    "    [8.1, 8],\n",
    "    [9,2.5]\n",
    "]"
   ],
   "outputs": [],
   "execution_count": null
  },
  {
   "cell_type": "code",
   "id": "42b71b16-97b6-459f-85f1-e06369309b00",
   "metadata": {},
   "source": [
    "# 样本标记\n",
    "data_y = [0.1,0.3,0.5,0.7,0.9,1.1,1.3,1.5,1.7]"
   ],
   "outputs": [],
   "execution_count": null
  },
  {
   "cell_type": "code",
   "id": "4081abad-0fe3-4dfc-88c2-1773f198010f",
   "metadata": {},
   "source": [
    "# 训练集\n",
    "X_train = np.array(data_X)\n",
    "y_train = np.array(data_y)"
   ],
   "outputs": [],
   "execution_count": null
  },
  {
   "cell_type": "code",
   "id": "8c97b47b-1147-4474-ab3b-f7fdc06a88fe",
   "metadata": {},
   "source": [
    "plt.scatter(X_train[:, 0], X_train[:, 1], color='black')\n",
    "\n",
    "data_new = np.array([4,5])\n",
    "\n",
    "plt.scatter(data_new[0], data_new[1], color = 'blue', marker='^')\n",
    "\n",
    "for i in range(len(y_train)):\n",
    "    plt.annotate(y_train[i], (X_train[i, 0], X_train[i, 1]), xytext=(-15,-15), textcoords=\"offset points\")\n",
    "plt.show()"
   ],
   "outputs": [],
   "execution_count": null
  },
  {
   "cell_type": "markdown",
   "id": "45fb05d0-2794-4016-bbe1-3b418a78bf34",
   "metadata": {},
   "source": [
    "#### 1 计算新样本与已知样本点之间的距离"
   ]
  },
  {
   "cell_type": "code",
   "id": "6c0c9df1-d607-49fe-8d02-912a2c67e756",
   "metadata": {},
   "source": [
    "for data in X_train:\n",
    "      print(np.sqrt(np.sum((data - data_new) ** 2)))"
   ],
   "outputs": [],
   "execution_count": null
  },
  {
   "cell_type": "code",
   "id": "4fb3663d-bf4f-49fb-8dbb-740e04fb6e41",
   "metadata": {},
   "source": [
    "distances = [np.sqrt(np.sum((data - data_new) ** 2)) for data in X_train]"
   ],
   "outputs": [],
   "execution_count": null
  },
  {
   "cell_type": "markdown",
   "id": "92f7ce5f-3140-49ef-b574-839fded7ae0f",
   "metadata": {},
   "source": [
    "#### 2. 按照距离排序"
   ]
  },
  {
   "cell_type": "code",
   "id": "379f7df5-0fe5-4b7c-b199-affc80a9bc19",
   "metadata": {},
   "source": [
    "sort_index = np.argsort(distances)\n",
    "sort_index"
   ],
   "outputs": [],
   "execution_count": null
  },
  {
   "cell_type": "markdown",
   "id": "1b692eff-98a5-4749-9c50-bf2d7b0cec4f",
   "metadata": {},
   "source": [
    "#### 3. 确定k值"
   ]
  },
  {
   "cell_type": "code",
   "id": "d9e15c31-ab28-4931-be9b-9c4e52f61ee5",
   "metadata": {},
   "source": [
    "k = 5"
   ],
   "outputs": [],
   "execution_count": null
  },
  {
   "cell_type": "markdown",
   "id": "1799cea8-1f08-4e9a-9664-1630df36a48b",
   "metadata": {},
   "source": [
    "#### 4. 最近的k个点投票表决"
   ]
  },
  {
   "cell_type": "code",
   "id": "1f343a43-27ab-44e2-98cc-e4cf19ac23da",
   "metadata": {},
   "source": [
    "first_k = [y_train[i] for i in sort_index[:k]]"
   ],
   "outputs": [],
   "execution_count": null
  },
  {
   "cell_type": "code",
   "id": "d0b4cd78-37b4-460c-b1d5-47688265f696",
   "metadata": {},
   "source": [
    "np.mean(first_k)"
   ],
   "outputs": [],
   "execution_count": null
  },
  {
   "cell_type": "markdown",
   "id": "41451461-1576-47a3-a6dc-cc6cf321e3f8",
   "metadata": {},
   "source": [
    "#### scikit-learn KNN回归"
   ]
  },
  {
   "cell_type": "code",
   "id": "d4495f06-dec2-4ae9-9777-ac3d5734494a",
   "metadata": {},
   "source": [
    "from sklearn.neighbors import KNeighborsRegressor"
   ],
   "outputs": [],
   "execution_count": null
  },
  {
   "cell_type": "code",
   "id": "1c6477ce-d2f8-468d-b273-def11b8f9006",
   "metadata": {},
   "source": [
    "knn_regressor = KNeighborsRegressor(n_neighbors = 5)"
   ],
   "outputs": [],
   "execution_count": null
  },
  {
   "cell_type": "code",
   "id": "422b0276-bff9-4b02-885e-8bb9041caea0",
   "metadata": {},
   "source": [
    "knn_regressor.fit(X_train, y_train)"
   ],
   "outputs": [],
   "execution_count": null
  },
  {
   "cell_type": "code",
   "id": "944d590c-3f15-47a7-ae2b-25e52c29f12f",
   "metadata": {},
   "source": [
    "knn_regressor.predict(data_new.reshape([1, -1]))"
   ],
   "outputs": [],
   "execution_count": null
  },
  {
   "cell_type": "markdown",
   "id": "88238aa2-1382-4ca9-b735-4bf25744ce20",
   "metadata": {},
   "source": [
    "### Boston 数据集"
   ]
  },
  {
   "cell_type": "code",
   "id": "c87736f0-1d39-4e3f-8432-5e0bd4316eda",
   "metadata": {},
   "source": [
    "import numpy as np\n",
    "import matplotlib.pyplot as plt\n",
    "import sklearn\n",
    "from sklearn.model_selection import train_test_split\n"
   ],
   "outputs": [],
   "execution_count": null
  },
  {
   "cell_type": "code",
   "id": "80f84c01-f1a2-4b2f-b3d6-cd9e819b2757",
   "metadata": {},
   "source": [
    "import pandas as pd\n",
    "import numpy as np\n",
    "\n",
    "data_url = \"http://lib.stat.cmu.edu/datasets/boston\"\n",
    "raw_df = pd.read_csv(data_url, sep=\"\\\\s+\", skiprows=22, header=None)\n",
    "X = np.hstack([raw_df.values[::2, :], raw_df.values[1::2, :2]])\n",
    "y = raw_df.values[1::2, 2]"
   ],
   "outputs": [],
   "execution_count": null
  },
  {
   "cell_type": "code",
   "id": "3de9d879-e18d-4a59-83a5-2d173dced4f2",
   "metadata": {},
   "source": [
    "X.shape, y.shape"
   ],
   "outputs": [],
   "execution_count": null
  },
  {
   "cell_type": "code",
   "id": "024f6a1b-614e-4366-a28d-37bae74a3e8c",
   "metadata": {},
   "source": [
    "X_train, X_test, y_train, y_test = train_test_split(X, y, train_size=0.7, random_state=233)"
   ],
   "outputs": [],
   "execution_count": null
  },
  {
   "cell_type": "code",
   "id": "0b595666-e483-4344-8861-1979444573ba",
   "metadata": {},
   "source": [
    "from sklearn.neighbors import KNeighborsRegressor\n",
    "knn_regressor = KNeighborsRegressor(n_neighbors = 5, weights ='distance', p=2)\n",
    "knn_regressor.fit(X_train, y_train)"
   ],
   "outputs": [],
   "execution_count": null
  },
  {
   "cell_type": "code",
   "id": "bf585bce-c05c-458d-a1fa-20810b5d7fd9",
   "metadata": {},
   "source": [
    "knn_regressor.score(X_test, y_test)"
   ],
   "outputs": [],
   "execution_count": null
  },
  {
   "cell_type": "markdown",
   "id": "9c81f972-137d-4f22-b45c-ec93c72884fb",
   "metadata": {},
   "source": [
    "### 归一化"
   ]
  },
  {
   "cell_type": "code",
   "id": "779ef0c8-5e5d-40e0-9787-b6418a98f033",
   "metadata": {},
   "source": [
    "from sklearn.preprocessing import StandardScaler"
   ],
   "outputs": [],
   "execution_count": null
  },
  {
   "cell_type": "code",
   "id": "02267dbb-bc25-4266-aea7-d6209f715f9a",
   "metadata": {},
   "source": [
    "scaler = StandardScaler()"
   ],
   "outputs": [],
   "execution_count": null
  },
  {
   "cell_type": "code",
   "id": "bb8486ea-c575-47f4-a436-fe508fc84218",
   "metadata": {},
   "source": [
    "scaler.fit(X_train)"
   ],
   "outputs": [],
   "execution_count": null
  },
  {
   "cell_type": "code",
   "id": "f0c13685-fe28-49d5-9283-e8ab0c7a847b",
   "metadata": {},
   "source": [
    "X_train = scaler.transform(X_train)"
   ],
   "outputs": [],
   "execution_count": null
  },
  {
   "cell_type": "code",
   "id": "867a33d7-fcef-4316-b393-d8b1f6f7b5d4",
   "metadata": {},
   "source": [
    "X_test = scaler.transform(X_test)"
   ],
   "outputs": [],
   "execution_count": null
  },
  {
   "cell_type": "code",
   "id": "30e3e424-0d1b-4b5a-ad10-06992e6e297e",
   "metadata": {},
   "source": [
    "knn_regressor.fit(X_train, y_train)"
   ],
   "outputs": [],
   "execution_count": null
  },
  {
   "cell_type": "code",
   "id": "94259386-6de2-4472-9eb8-13c463859887",
   "metadata": {},
   "source": [
    "knn_regressor.score(X_test, y_test)"
   ],
   "outputs": [],
   "execution_count": null
  },
  {
   "cell_type": "code",
   "id": "c0f1aa41-be87-41dd-86e5-fe5ff283a3ca",
   "metadata": {},
   "source": [],
   "outputs": [],
   "execution_count": null
  }
 ],
 "metadata": {
  "kernelspec": {
   "display_name": "Python 3 (ipykernel)",
   "language": "python",
   "name": "python3"
  },
  "language_info": {
   "codemirror_mode": {
    "name": "ipython",
    "version": 3
   },
   "file_extension": ".py",
   "mimetype": "text/x-python",
   "name": "python",
   "nbconvert_exporter": "python",
   "pygments_lexer": "ipython3",
   "version": "3.12.7"
  }
 },
 "nbformat": 4,
 "nbformat_minor": 5
}
