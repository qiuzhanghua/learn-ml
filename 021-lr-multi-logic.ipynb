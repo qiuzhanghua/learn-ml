{
 "cells": [
  {
   "cell_type": "code",
   "id": "initial_id",
   "metadata": {},
   "source": [
    "import numpy as np\n",
    "import matplotlib.pyplot as plt"
   ],
   "outputs": [],
   "execution_count": null
  },
  {
   "metadata": {},
   "cell_type": "code",
   "source": "from sklearn.model_selection import train_test_split",
   "id": "67946b7aae9e6d2f",
   "outputs": [],
   "execution_count": null
  },
  {
   "metadata": {},
   "cell_type": "code",
   "source": [
    "np.random.seed(0)\n",
    "X=np.random.normal(0, 1, (200, 2))\n",
    "y=np.array(X[:, 0]**2 + X[:, 1]**2 < 2, dtype=int) "
   ],
   "id": "6a0b244cb8dac1b3",
   "outputs": [],
   "execution_count": null
  },
  {
   "metadata": {},
   "cell_type": "code",
   "source": "X_train, X_test, y_train, y_test = train_test_split(X, y, test_size=0.3, stratify=y)",
   "id": "988074611e462327",
   "outputs": [],
   "execution_count": null
  },
  {
   "metadata": {},
   "cell_type": "code",
   "source": [
    "plt.scatter(X_train[:, 0], X_train[:, 1], c=y_train)\n",
    "plt.show()"
   ],
   "id": "60eec24acd1bea7e",
   "outputs": [],
   "execution_count": null
  },
  {
   "metadata": {},
   "cell_type": "code",
   "source": "from sklearn.linear_model import LogisticRegression",
   "id": "794cae2b4639083f",
   "outputs": [],
   "execution_count": null
  },
  {
   "metadata": {},
   "cell_type": "code",
   "source": [
    "clf = LogisticRegression()\n",
    "model = clf.fit(X_train, y_train)"
   ],
   "id": "3b0a3febd0741742",
   "outputs": [],
   "execution_count": null
  },
  {
   "metadata": {},
   "cell_type": "code",
   "source": "clf.score(X_train, y_train)",
   "id": "721a3ecbfe4e5fd3",
   "outputs": [],
   "execution_count": null
  },
  {
   "metadata": {},
   "cell_type": "code",
   "source": "clf.score(X_test, y_test)",
   "id": "c0238d888de5388f",
   "outputs": [],
   "execution_count": null
  },
  {
   "metadata": {},
   "cell_type": "markdown",
   "source": "### 多项式逻辑回归",
   "id": "3dce0c9a8608cf38"
  },
  {
   "metadata": {},
   "cell_type": "code",
   "source": [
    "from sklearn.preprocessing import PolynomialFeatures\n",
    "poly = PolynomialFeatures(degree=2)"
   ],
   "id": "fe6a352463fac507",
   "outputs": [],
   "execution_count": null
  },
  {
   "metadata": {},
   "cell_type": "code",
   "source": "model=poly.fit(X_train)",
   "id": "6e625b18b8910b99",
   "outputs": [],
   "execution_count": null
  },
  {
   "metadata": {},
   "cell_type": "code",
   "source": [
    "X_train_poly = poly.transform(X_train)\n",
    "X_test_poly = poly.transform(X_test)"
   ],
   "id": "6fafcc6cb1078cc1",
   "outputs": [],
   "execution_count": null
  },
  {
   "metadata": {},
   "cell_type": "code",
   "source": "model=clf.fit(X_train_poly, y_train)",
   "id": "398c59787a21d477",
   "outputs": [],
   "execution_count": null
  },
  {
   "metadata": {},
   "cell_type": "code",
   "source": "clf.score(X_train_poly, y_train)",
   "id": "e41ac00b5507ac00",
   "outputs": [],
   "execution_count": null
  },
  {
   "metadata": {},
   "cell_type": "code",
   "source": "clf.score(X_test_poly, y_test)",
   "id": "f60ff634319ddb00",
   "outputs": [],
   "execution_count": null
  },
  {
   "metadata": {},
   "cell_type": "markdown",
   "source": "### 多分类OvR和OvO代码实现",
   "id": "faba9da2f3f7495f"
  },
  {
   "metadata": {},
   "cell_type": "code",
   "source": [
    "from sklearn.datasets import load_iris\n",
    "iris=load_iris()\n",
    "x=iris.data\n",
    "y=iris.target\n",
    "x_train, x_test, y_train, y_test = train_test_split(x, y, random_state=666)"
   ],
   "id": "5b3adf0031712dbb",
   "outputs": [],
   "execution_count": null
  },
  {
   "metadata": {},
   "cell_type": "code",
   "source": [
    "plt.scatter(x_train[:, 0], x_train[:, 1], c=y_train)\n",
    "plt.show()"
   ],
   "id": "bc77c9ead501bdd1",
   "outputs": [],
   "execution_count": null
  },
  {
   "metadata": {},
   "cell_type": "code",
   "source": [
    "from sklearn.multiclass import OneVsRestClassifier\n",
    "ovr = OneVsRestClassifier(clf)\n",
    "model = ovr.fit(x_train, y_train)\n",
    "ovr.score(x_test, y_test)"
   ],
   "id": "140ec853dc4a38ac",
   "outputs": [],
   "execution_count": null
  },
  {
   "metadata": {},
   "cell_type": "code",
   "source": [
    "from sklearn.multiclass import OneVsOneClassifier\n",
    "ovo = OneVsOneClassifier(clf)\n",
    "model = ovo.fit(x_train, y_train)\n",
    "ovo.score(x_test, y_test)"
   ],
   "id": "d8ad358b0941ab13",
   "outputs": [],
   "execution_count": null
  },
  {
   "metadata": {},
   "cell_type": "code",
   "source": "",
   "id": "6649ca0e25ad9609",
   "outputs": [],
   "execution_count": null
  }
 ],
 "metadata": {
  "kernelspec": {
   "display_name": "Python 3 (ipykernel)",
   "language": "python",
   "name": "python3"
  },
  "language_info": {
   "codemirror_mode": {
    "name": "ipython",
    "version": 3
   },
   "file_extension": ".py",
   "mimetype": "text/x-python",
   "name": "python",
   "nbconvert_exporter": "python",
   "pygments_lexer": "ipython3",
   "version": "3.11.8"
  }
 },
 "nbformat": 4,
 "nbformat_minor": 5
}
