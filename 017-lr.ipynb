{
 "cells": [
  {
   "cell_type": "code",
   "id": "initial_id",
   "metadata": {},
   "source": [
    "import numpy as np\n",
    "import matplotlib.pyplot as plt\n",
    "from sklearn import datasets\n",
    "from sklearn.model_selection import train_test_split\n",
    "from sklearn.linear_model import LinearRegression\n",
    "import pandas as pd"
   ],
   "outputs": [],
   "execution_count": null
  },
  {
   "cell_type": "code",
   "id": "b1d301691a1ef71e",
   "metadata": {},
   "source": [
    "# 1. 数据准备\n",
    "data_url = \"https://lib.stat.cmu.edu/datasets/boston\"\n",
    "raw_df = pd.read_csv(data_url, sep=\"\\\\s+\", skiprows=22, header=None)\n",
    "data = np.hstack([raw_df.values[::2, :], raw_df.values[1::2, :2]])\n",
    "target = raw_df.values[1::2, 2]"
   ],
   "outputs": [],
   "execution_count": null
  },
  {
   "cell_type": "code",
   "id": "fa74e1667c6a40f",
   "metadata": {},
   "source": [
    "x = data[:, 5]\n",
    "y = target"
   ],
   "outputs": [],
   "execution_count": null
  },
  {
   "cell_type": "code",
   "id": "49e30813f6b7bc13",
   "metadata": {},
   "source": [
    "plt.scatter(x, y)\n",
    "plt.show()"
   ],
   "outputs": [],
   "execution_count": null
  },
  {
   "cell_type": "code",
   "id": "d5b8bc238dea11ae",
   "metadata": {},
   "source": [
    "# 2. 模型训练\n",
    "x_train, x_test, y_train, y_test = train_test_split(x, y, random_state=22)\n",
    "x_train = x_train.reshape(-1, 1)\n",
    "x_test = x_test.reshape(-1, 1)\n",
    "lin_reg = LinearRegression()\n",
    "lin_reg.fit(x_train, y_train)"
   ],
   "outputs": [],
   "execution_count": null
  },
  {
   "cell_type": "code",
   "id": "41f6f3e0cab48ae3",
   "metadata": {},
   "source": [
    "lin_reg.score(x_test, y_test)"
   ],
   "outputs": [],
   "execution_count": null
  },
  {
   "cell_type": "code",
   "id": "f5c88c70d2014a9e",
   "metadata": {},
   "source": [
    "lin_reg.coef_, lin_reg.intercept_"
   ],
   "outputs": [],
   "execution_count": null
  },
  {
   "cell_type": "code",
   "id": "2e00c7643751b2c8",
   "metadata": {},
   "source": [
    "# 3. 模型预测\n",
    "y_predict = lin_reg.predict(x_test)\n"
   ],
   "outputs": [],
   "execution_count": null
  },
  {
   "cell_type": "code",
   "id": "fd75073cf59d0ccf",
   "metadata": {},
   "source": [
    "plt.scatter(x_test, y_test)\n",
    "plt.plot(x_test, y_predict, color=\"r\")\n",
    "plt.show()"
   ],
   "outputs": [],
   "execution_count": null
  },
  {
   "cell_type": "code",
   "id": "7504c478382dde4a",
   "metadata": {},
   "source": [
    "def fit(x, y):\n",
    "    mean_x = np.mean(x)\n",
    "    mean_y = np.mean(y)\n",
    "    a = np.sum((x - mean_x) * (y - mean_y)) / np.sum((x - mean_x) ** 2)\n",
    "    b = mean_y - a * mean_x\n",
    "    return a, b"
   ],
   "outputs": [],
   "execution_count": null
  },
  {
   "cell_type": "code",
   "id": "57c13ff6ab8e6655",
   "metadata": {},
   "source": [
    "x_train, x_test, y_train, y_test = train_test_split(x, y, random_state=22)\n",
    "a, b = fit(x_train, y_train)\n",
    "a, b"
   ],
   "outputs": [],
   "execution_count": null
  },
  {
   "cell_type": "code",
   "id": "25ae4e7e619251de",
   "metadata": {},
   "source": [
    "x = data\n",
    "y = target"
   ],
   "outputs": [],
   "execution_count": null
  },
  {
   "cell_type": "code",
   "id": "13a8e9a54f61a0d4",
   "metadata": {},
   "source": [
    "x_train, x_test, y_train, y_test = train_test_split(x, y, random_state=22)\n",
    "lin_reg = LinearRegression()\n",
    "lin_reg.fit(x_train, y_train)"
   ],
   "outputs": [],
   "execution_count": null
  },
  {
   "cell_type": "code",
   "id": "cd8fb7897481e0a8",
   "metadata": {},
   "source": [
    "lin_reg.score(x_test, y_test)"
   ],
   "outputs": [],
   "execution_count": null
  },
  {
   "cell_type": "code",
   "id": "9258738f28347dbe",
   "metadata": {},
   "source": [
    "lin_reg.coef_, lin_reg.intercept_"
   ],
   "outputs": [],
   "execution_count": null
  },
  {
   "cell_type": "code",
   "id": "eb79528fd11dba57",
   "metadata": {},
   "source": [
    "y_predict = lin_reg.predict(x_test)"
   ],
   "outputs": [],
   "execution_count": null
  },
  {
   "cell_type": "code",
   "id": "c3d9772e18a25ec1",
   "metadata": {},
   "source": [
    "plt.scatter(x_test[:, 5], y_test)\n",
    "plt.scatter(x_test[:, 5], y_predict, color=\"r\")\n",
    "plt.show()"
   ],
   "outputs": [],
   "execution_count": null
  },
  {
   "cell_type": "code",
   "id": "1a1c63f6b9e2cf30",
   "metadata": {},
   "source": [],
   "outputs": [],
   "execution_count": null
  }
 ],
 "metadata": {
  "kernelspec": {
   "display_name": "Python 3 (ipykernel)",
   "language": "python",
   "name": "python3"
  },
  "language_info": {
   "codemirror_mode": {
    "name": "ipython",
    "version": 3
   },
   "file_extension": ".py",
   "mimetype": "text/x-python",
   "name": "python",
   "nbconvert_exporter": "python",
   "pygments_lexer": "ipython3",
   "version": "3.11.8"
  }
 },
 "nbformat": 4,
 "nbformat_minor": 5
}
