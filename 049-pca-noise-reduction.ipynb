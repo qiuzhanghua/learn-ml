{
 "cells": [
  {
   "cell_type": "code",
   "id": "initial_id",
   "metadata": {
    "collapsed": true
   },
   "source": [
    "import numpy as np\n",
    "import matplotlib.pyplot as plt\n",
    "from sympy.ntheory import digits"
   ],
   "outputs": [],
   "execution_count": null
  },
  {
   "metadata": {},
   "cell_type": "code",
   "source": [
    "w, b = 1.8, 2.5\n",
    "np.random.seed(0)\n",
    "x1 = np.random.rand(100) * 4\n",
    "noise = np.random.randn(100)\n",
    "x2 = w * x1 + b + noise\n",
    "x = np.stack([x1, x2]).T\n",
    "x -= np.mean(x, axis=0)\n",
    "x.shape"
   ],
   "id": "1eeefdbe8d77dfcf",
   "outputs": [],
   "execution_count": null
  },
  {
   "metadata": {},
   "cell_type": "code",
   "source": [
    "plt.scatter(x[:, 0], x[:, 1])\n",
    "plt.show()"
   ],
   "id": "ba1d8595053233d4",
   "outputs": [],
   "execution_count": null
  },
  {
   "metadata": {},
   "cell_type": "code",
   "source": [
    "from sklearn.decomposition import PCA\n",
    "pca = PCA(n_components=1)\n",
    "pca.fit(x)"
   ],
   "id": "8464f235687780fa",
   "outputs": [],
   "execution_count": null
  },
  {
   "metadata": {},
   "cell_type": "code",
   "source": [
    "x_pca = pca.transform(x)\n",
    "x_pca_inv = pca.inverse_transform(x_pca)"
   ],
   "id": "130bfb99dffb489f",
   "outputs": [],
   "execution_count": null
  },
  {
   "metadata": {},
   "cell_type": "code",
   "source": [
    "plt.scatter(x[:, 0], x[:, 1], s = 10)\n",
    "plt.scatter(x_pca_inv[:, 0], x_pca_inv[:, 1], s = 10, c = 'r')\n",
    "plt.show()"
   ],
   "id": "c51761db7ed1832c",
   "outputs": [],
   "execution_count": null
  },
  {
   "metadata": {},
   "cell_type": "markdown",
   "source": "### 图像降噪",
   "id": "771f7ed1cca3210d"
  },
  {
   "metadata": {},
   "cell_type": "code",
   "source": [
    "from sklearn.datasets import load_digits\n",
    "digits = load_digits()\n",
    "x = digits.data\n",
    "y = digits.target"
   ],
   "id": "ab7efbed63dca4bb",
   "outputs": [],
   "execution_count": null
  },
  {
   "metadata": {},
   "cell_type": "code",
   "source": [
    "def plot_top20_digits(x):\n",
    "    for i in range(20):\n",
    "        plt.subplot(4, 5, i + 1)\n",
    "        plt.xticks([])\n",
    "        plt.yticks([])\n",
    "        plt.imshow(x[i].reshape(8,8), cmap=plt.cm.gray_r, interpolation='nearest')\n",
    "    plt.show()"
   ],
   "id": "f083a8ecfb2aa91",
   "outputs": [],
   "execution_count": null
  },
  {
   "metadata": {},
   "cell_type": "code",
   "source": "plot_top20_digits(x)",
   "id": "28238c75830e37e5",
   "outputs": [],
   "execution_count": null
  },
  {
   "metadata": {},
   "cell_type": "code",
   "source": [
    "np.random.seed(0)\n",
    "x_noise = x + np.random.randn(x.shape[0], x.shape[1]) * 3"
   ],
   "id": "a6640e3f629e0c7f",
   "outputs": [],
   "execution_count": null
  },
  {
   "metadata": {},
   "cell_type": "code",
   "source": "# plot_top20_digits(x_noise)",
   "id": "9cb9b2f00798c3cc",
   "outputs": [],
   "execution_count": null
  },
  {
   "metadata": {
    "ExecuteTime": {
     "end_time": "2024-10-28T12:23:14.020600Z",
     "start_time": "2024-10-28T12:23:13.994348Z"
    }
   },
   "cell_type": "code",
   "source": [
    "pca = PCA(0.5)\n",
    "pca.fit(x_noise)\n",
    "x_noise_pca = pca.transform(x_noise)\n",
    "x_noise_inv = pca.inverse_transform(x_noise_pca)"
   ],
   "id": "29139eb542acc5ad",
   "outputs": [],
   "execution_count": 56
  },
  {
   "metadata": {},
   "cell_type": "code",
   "source": "plot_top20_digits(x_noise_inv)",
   "id": "d287a5b552e81a8",
   "outputs": [],
   "execution_count": null
  }
 ],
 "metadata": {
  "kernelspec": {
   "display_name": "Python 3",
   "language": "python",
   "name": "python3"
  },
  "language_info": {
   "codemirror_mode": {
    "name": "ipython",
    "version": 2
   },
   "file_extension": ".py",
   "mimetype": "text/x-python",
   "name": "python",
   "nbconvert_exporter": "python",
   "pygments_lexer": "ipython2",
   "version": "2.7.6"
  }
 },
 "nbformat": 4,
 "nbformat_minor": 5
}
