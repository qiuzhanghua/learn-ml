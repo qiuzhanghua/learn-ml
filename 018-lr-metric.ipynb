{
 "cells": [
  {
   "cell_type": "code",
   "id": "initial_id",
   "metadata": {},
   "source": [
    "import numpy as np\n",
    "import matplotlib.pyplot as plt\n",
    "from sklearn.linear_model import LinearRegression\n",
    "import pandas as pd"
   ],
   "outputs": [],
   "execution_count": null
  },
  {
   "cell_type": "code",
   "id": "b1d301691a1ef71e",
   "metadata": {},
   "source": [
    "# 1. 数据准备\n",
    "data_url = \"https://lib.stat.cmu.edu/datasets/boston\"\n",
    "raw_df = pd.read_csv(data_url, sep=\"\\\\s+\", skiprows=22, header=None)\n",
    "data = np.hstack([raw_df.values[::2, :], raw_df.values[1::2, :2]])\n",
    "target = raw_df.values[1::2, 2]"
   ],
   "outputs": [],
   "execution_count": null
  },
  {
   "cell_type": "code",
   "id": "fa74e1667c6a40f",
   "metadata": {},
   "source": [
    "x = data[:, -1].reshape(-1, 1)\n",
    "y = target.reshape(-1, 1)"
   ],
   "outputs": [],
   "execution_count": null
  },
  {
   "cell_type": "code",
   "id": "49e30813f6b7bc13",
   "metadata": {},
   "source": [
    "from sklearn.model_selection import train_test_split\n",
    "x_train, x_test, y_train, y_test = train_test_split(x, y, random_state=0)"
   ],
   "outputs": [],
   "execution_count": null
  },
  {
   "metadata": {},
   "cell_type": "code",
   "source": [
    "plt.scatter(x_train, y_train, s=10)\n",
    "plt.show()"
   ],
   "id": "86c82a1607f0135e",
   "outputs": [],
   "execution_count": null
  },
  {
   "cell_type": "code",
   "id": "d5b8bc238dea11ae",
   "metadata": {},
   "source": [
    "# 2. 模型训练\n",
    "lin_reg = LinearRegression()\n",
    "model = lin_reg.fit(x_train, y_train)"
   ],
   "outputs": [],
   "execution_count": null
  },
  {
   "cell_type": "code",
   "id": "41f6f3e0cab48ae3",
   "metadata": {},
   "source": "y_predict = model.predict(x_test)",
   "outputs": [],
   "execution_count": null
  },
  {
   "cell_type": "code",
   "id": "fd75073cf59d0ccf",
   "metadata": {},
   "source": [
    "plt.scatter(x_test, y_test, s=10)\n",
    "plt.plot(x_test, y_predict, c=\"r\")\n",
    "plt.show()"
   ],
   "outputs": [],
   "execution_count": null
  },
  {
   "cell_type": "code",
   "id": "7504c478382dde4a",
   "metadata": {},
   "source": "# 3. 模型评估",
   "outputs": [],
   "execution_count": null
  },
  {
   "cell_type": "code",
   "id": "1a1c63f6b9e2cf30",
   "metadata": {},
   "source": "from sklearn.metrics import mean_squared_error, r2_score, root_mean_squared_error, mean_absolute_error",
   "outputs": [],
   "execution_count": null
  },
  {
   "metadata": {},
   "cell_type": "code",
   "source": "mean_squared_error(y_test, y_predict), root_mean_squared_error(y_test, y_predict), r2_score(y_test, y_predict), mean_absolute_error(y_test, y_predict)",
   "id": "d9e3d79608dcec62",
   "outputs": [],
   "execution_count": null
  },
  {
   "metadata": {},
   "cell_type": "code",
   "source": [
    "mse = np.sum((y_test - y_predict) ** 2) / len(y_test)\n",
    "mse"
   ],
   "id": "df69ee3a7948dc0e",
   "outputs": [],
   "execution_count": null
  },
  {
   "metadata": {},
   "cell_type": "code",
   "source": [
    "rmse = np.sqrt(mse)\n",
    "rmse"
   ],
   "id": "bad9a8b00a46992f",
   "outputs": [],
   "execution_count": null
  },
  {
   "metadata": {},
   "cell_type": "code",
   "source": [
    "mae = np.sum(np.abs(y_test - y_predict)) / len(y_test)\n",
    "mae"
   ],
   "id": "6fd82b79fec607e2",
   "outputs": [],
   "execution_count": null
  },
  {
   "metadata": {},
   "cell_type": "code",
   "source": [
    "# coefficient of determination\n",
    "r2 = 1 - mse / np.var(y_test)\n",
    "r2"
   ],
   "id": "c4de75480f43e912",
   "outputs": [],
   "execution_count": null
  },
  {
   "metadata": {},
   "cell_type": "code",
   "source": "model.score(x_test, y_test)",
   "id": "67946b7aae9e6d2f",
   "outputs": [],
   "execution_count": null
  }
 ],
 "metadata": {
  "kernelspec": {
   "display_name": "Python 3 (ipykernel)",
   "language": "python",
   "name": "python3"
  },
  "language_info": {
   "codemirror_mode": {
    "name": "ipython",
    "version": 3
   },
   "file_extension": ".py",
   "mimetype": "text/x-python",
   "name": "python",
   "nbconvert_exporter": "python",
   "pygments_lexer": "ipython3",
   "version": "3.11.8"
  }
 },
 "nbformat": 4,
 "nbformat_minor": 5
}
