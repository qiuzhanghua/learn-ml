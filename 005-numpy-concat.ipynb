{
 "cells": [
  {
   "cell_type": "markdown",
   "id": "b6917482-6a73-410c-a700-d4ce21059505",
   "metadata": {},
   "source": [
    "### 数组合并"
   ]
  },
  {
   "cell_type": "code",
   "execution_count": 1,
   "id": "ecf5f4dd-3df7-44b5-aa32-37d905d9ce25",
   "metadata": {},
   "outputs": [],
   "source": [
    "import numpy as np"
   ]
  },
  {
   "cell_type": "code",
   "execution_count": null,
   "id": "4196926e-778f-4171-b246-2e0843056f9c",
   "metadata": {},
   "outputs": [],
   "source": [
    "X = np.arange(12).reshape(3, 4)\n",
    "X"
   ]
  },
  {
   "cell_type": "code",
   "execution_count": null,
   "id": "d84940a8-904c-4dc1-bce4-d9d64368baa7",
   "metadata": {},
   "outputs": [],
   "source": [
    "a = np.array([6, 6, 6, 6])\n",
    "a"
   ]
  },
  {
   "cell_type": "code",
   "execution_count": null,
   "id": "67305b78-dedd-44b4-9dbf-e8cf7f15adc5",
   "metadata": {},
   "outputs": [],
   "source": "np.concatenate((X, a.reshape(1,4)))"
  },
  {
   "cell_type": "code",
   "execution_count": null,
   "id": "deefdf7a-22fa-4400-ba6c-572ad1b2519e",
   "metadata": {},
   "outputs": [],
   "source": [
    "np.vstack((X,a))"
   ]
  },
  {
   "cell_type": "code",
   "execution_count": null,
   "id": "29840001-2238-41ee-891b-e601e6b0d036",
   "metadata": {},
   "outputs": [],
   "source": [
    "B = np.full((3,2), 777)\n",
    "B"
   ]
  },
  {
   "cell_type": "code",
   "execution_count": null,
   "id": "711561dd-b90d-4ae7-ba1e-2bf4dc85dcb8",
   "metadata": {},
   "outputs": [],
   "source": [
    "np.hstack((X,B))"
   ]
  },
  {
   "cell_type": "code",
   "execution_count": null,
   "id": "d3dd76b6-ccce-4a11-81cd-2e372267840c",
   "metadata": {},
   "outputs": [],
   "source": [
    "np.concatenate((X, B), axis = 1)"
   ]
  },
  {
   "cell_type": "markdown",
   "id": "13f8a9b2-db70-4f70-be83-ae125cffc75e",
   "metadata": {},
   "source": [
    "### 数组的拆分"
   ]
  },
  {
   "cell_type": "code",
   "execution_count": null,
   "id": "62bc91f7-3a33-4fe1-87f2-88d17ef5bde1",
   "metadata": {},
   "outputs": [],
   "source": [
    "np.split(X, [-1])"
   ]
  },
  {
   "cell_type": "code",
   "execution_count": null,
   "id": "a96cca9e-2f58-4821-ae97-095d97fba1ff",
   "metadata": {},
   "outputs": [],
   "source": [
    "X1, X2 = np.split(X, [-1], axis = 1)\n",
    "X1"
   ]
  },
  {
   "cell_type": "code",
   "execution_count": null,
   "id": "0bcece0d-313f-43df-8f79-91e551297826",
   "metadata": {},
   "outputs": [],
   "source": [
    "X2"
   ]
  },
  {
   "cell_type": "code",
   "execution_count": null,
   "id": "e66beb03-0406-4806-b4d9-b623745814ae",
   "metadata": {},
   "outputs": [],
   "source": [
    "np.vsplit(X, [2]) # [0,2] [2:]"
   ]
  },
  {
   "cell_type": "code",
   "execution_count": null,
   "id": "9053d4eb-8df4-406c-a638-f1445c9f2ba5",
   "metadata": {},
   "outputs": [],
   "source": [
    "X1, X2, X3 = np.hsplit(X,[1,3])  # [0:1] [1:3] [3:]\n",
    "X1"
   ]
  },
  {
   "cell_type": "code",
   "execution_count": null,
   "id": "3f284644-2ed8-40b3-a075-8449c74c2303",
   "metadata": {
    "jp-MarkdownHeadingCollapsed": true
   },
   "outputs": [],
   "source": [
    "X2"
   ]
  },
  {
   "cell_type": "code",
   "execution_count": null,
   "id": "b2af4fb7-7e7f-40cc-a10c-3dd3271a6f58",
   "metadata": {},
   "outputs": [],
   "source": [
    "X3"
   ]
  }
 ],
 "metadata": {
  "kernelspec": {
   "display_name": "all",
   "language": "python",
   "name": "python3"
  },
  "language_info": {
   "codemirror_mode": {
    "name": "ipython",
    "version": 3
   },
   "file_extension": ".py",
   "mimetype": "text/x-python",
   "name": "python",
   "nbconvert_exporter": "python",
   "pygments_lexer": "ipython3",
   "version": "3.12.2"
  }
 },
 "nbformat": 4,
 "nbformat_minor": 5
}
