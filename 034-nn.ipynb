{
 "cells": [
  {
   "cell_type": "code",
   "id": "initial_id",
   "metadata": {
    "collapsed": true
   },
   "source": [
    "from sys import pycache_prefix\n",
    "\n",
    "import numpy as np\n",
    "import matplotlib.pyplot as plt"
   ],
   "outputs": [],
   "execution_count": null
  },
  {
   "metadata": {},
   "cell_type": "code",
   "source": "w, b = 1.8, 2.5",
   "id": "8cf964e1c5172d3b",
   "outputs": [],
   "execution_count": null
  },
  {
   "metadata": {},
   "cell_type": "code",
   "source": [
    "np.random.seed(0)\n",
    "x = np.random.rand(100) * 4 - 2\n",
    "noise = np.random.randn(100) / 3\n",
    "y = w * x + b + noise"
   ],
   "id": "1cb8ef39e7430047",
   "outputs": [],
   "execution_count": null
  },
  {
   "metadata": {},
   "cell_type": "code",
   "source": "x = x.reshape(-1, 1)",
   "id": "8838a16e2868375d",
   "outputs": [],
   "execution_count": null
  },
  {
   "metadata": {},
   "cell_type": "code",
   "source": [
    "plt.scatter(x, y)\n",
    "plt.show()"
   ],
   "id": "98b8e0a7a1584693",
   "outputs": [],
   "execution_count": null
  },
  {
   "metadata": {},
   "cell_type": "markdown",
   "source": "### sklearn中的神经网络",
   "id": "c16b45a9ab19c785"
  },
  {
   "metadata": {},
   "cell_type": "code",
   "source": "from sklearn.neural_network import MLPRegressor",
   "id": "9e406760aff4cab3",
   "outputs": [],
   "execution_count": null
  },
  {
   "metadata": {},
   "cell_type": "code",
   "source": [
    "mlp = MLPRegressor(hidden_layer_sizes=(1, ), \n",
    "                    activation='identity',\n",
    "                    learning_rate_init=0.01,\n",
    "                    random_state=233\n",
    "                   )"
   ],
   "id": "45dec7e018415766",
   "outputs": [],
   "execution_count": null
  },
  {
   "metadata": {},
   "cell_type": "code",
   "source": "model = mlp.fit(x, y)",
   "id": "d879bc49c7d154e4",
   "outputs": [],
   "execution_count": null
  },
  {
   "metadata": {},
   "cell_type": "code",
   "source": "model.score(x, y)",
   "id": "8bd9722e46b16dda",
   "outputs": [],
   "execution_count": null
  },
  {
   "metadata": {},
   "cell_type": "code",
   "source": "y_pred = model.predict(x)",
   "id": "5e154b5ed54b2ae7",
   "outputs": [],
   "execution_count": null
  },
  {
   "metadata": {},
   "cell_type": "code",
   "source": [
    "plt.scatter(x, y)\n",
    "plt.plot(x, y_pred, color='r')\n",
    "plt.show()"
   ],
   "id": "919c7fbae6c61454",
   "outputs": [],
   "execution_count": null
  },
  {
   "metadata": {},
   "cell_type": "code",
   "source": [
    "w1, w2 = np.array(model.coefs_).reshape(-1)\n",
    "b1, b2 = np.array(model.intercepts_).reshape(-1)\n",
    "w1, w2, b1, b2"
   ],
   "id": "ea5b7592b7015a08",
   "outputs": [],
   "execution_count": null
  },
  {
   "metadata": {},
   "cell_type": "code",
   "source": "w1 * w2, w2 * b1 + b2",
   "id": "cc2f09d7c35fac04",
   "outputs": [],
   "execution_count": null
  },
  {
   "metadata": {},
   "cell_type": "markdown",
   "source": "### 反向传播权重更新",
   "id": "868cc246cb1ce8a"
  },
  {
   "metadata": {},
   "cell_type": "code",
   "source": [
    "w1, b1, w2, b2 = np.random.rand(4)\n",
    "y_real = y.reshape(-1, 1)\n",
    "lr = 0.01"
   ],
   "id": "9caf68f94088a288",
   "outputs": [],
   "execution_count": null
  },
  {
   "metadata": {},
   "cell_type": "code",
   "source": [
    "for i in range(100):\n",
    "    y1 = w1 * x + b1\n",
    "    y_pred = w2 * y1 + b2\n",
    "    loss = ((y_pred - y_real) ** 2)/2\n",
    "    \n",
    "    dy = y_pred - y_real\n",
    "    dy1 = dy * w2\n",
    "    \n",
    "    dw1 = np.mean(x * dy1)\n",
    "    dw2 = np.mean(y1 * dy)\n",
    "    db1 = np.mean(dy1)\n",
    "    db2 = np.mean(dy)\n",
    "    \n",
    "    w1 -= lr * dw1\n",
    "    w2 -= lr * dw2\n",
    "    b1 -= lr * db1\n",
    "    b2 -= lr * db2\n",
    "    if i % 10 == 0:\n",
    "        print(f'loss: {np.mean(loss)}')\n",
    "print(w1, b1, w2, b2)"
   ],
   "id": "c64b58a803397a8e",
   "outputs": [],
   "execution_count": null
  },
  {
   "metadata": {},
   "cell_type": "code",
   "source": "y_pred = w2 * (w1 * x + b1) + b2",
   "id": "a4666b357f8b0ebb",
   "outputs": [],
   "execution_count": null
  },
  {
   "metadata": {},
   "cell_type": "code",
   "source": [
    "plt.scatter(x, y)\n",
    "plt.plot(x, y_pred, color='r')\n",
    "plt.show()"
   ],
   "id": "eeca9f55a795e101",
   "outputs": [],
   "execution_count": null
  },
  {
   "metadata": {},
   "cell_type": "code",
   "source": "w1 * w2, w2 * b1 + b2",
   "id": "307946c3eac6b9a0",
   "outputs": [],
   "execution_count": null
  }
 ],
 "metadata": {
  "kernelspec": {
   "display_name": "Python 3",
   "language": "python",
   "name": "python3"
  },
  "language_info": {
   "codemirror_mode": {
    "name": "ipython",
    "version": 2
   },
   "file_extension": ".py",
   "mimetype": "text/x-python",
   "name": "python",
   "nbconvert_exporter": "python",
   "pygments_lexer": "ipython2",
   "version": "2.7.6"
  }
 },
 "nbformat": 4,
 "nbformat_minor": 5
}
