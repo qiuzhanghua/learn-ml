{
 "cells": [
  {
   "cell_type": "code",
   "id": "4073feb6-1509-49de-9b77-881150921412",
   "metadata": {},
   "source": [
    "import numpy as np"
   ],
   "outputs": [],
   "execution_count": null
  },
  {
   "cell_type": "code",
   "id": "d6170993-a47a-403e-9891-22213cb534fc",
   "metadata": {},
   "source": [
    "np.__version__"
   ],
   "outputs": [],
   "execution_count": null
  },
  {
   "cell_type": "code",
   "id": "554dab4c-f4f4-44ed-84c5-628f355fb06d",
   "metadata": {},
   "source": [
    "n = 1000000"
   ],
   "outputs": [],
   "execution_count": null
  },
  {
   "cell_type": "markdown",
   "id": "cc15d96b-d87e-4a2c-b66e-6ba634be14ce",
   "metadata": {},
   "source": [
    "### Python Native"
   ]
  },
  {
   "cell_type": "code",
   "id": "beb63f1d-f5e3-4305-b628-771d99b16816",
   "metadata": {},
   "source": [
    "%%timeit\n",
    "x = [i for i in range(n+1)]\n",
    "sum_x = 0\n",
    "for i in x:\n",
    "    sum_x += i ** 2\n",
    "sum_x"
   ],
   "outputs": [],
   "execution_count": null
  },
  {
   "cell_type": "markdown",
   "id": "1b620d58-85f2-495c-b0a5-62a9e385cce7",
   "metadata": {},
   "source": [
    "### Numpy"
   ]
  },
  {
   "cell_type": "code",
   "id": "44796826-fe58-401d-b0a0-f1daaf65342c",
   "metadata": {},
   "source": [
    "%%timeit\n",
    "x = np.arange(n+1)\n",
    "sum_x = np.sum(x**2)\n",
    "sum_x"
   ],
   "outputs": [],
   "execution_count": null
  },
  {
   "cell_type": "code",
   "id": "e71ef707-da60-4ee2-a3e1-9a7ba8e3552d",
   "metadata": {},
   "source": [],
   "outputs": [],
   "execution_count": null
  }
 ],
 "metadata": {
  "kernelspec": {
   "display_name": "all",
   "language": "python",
   "name": "python3"
  },
  "language_info": {
   "codemirror_mode": {
    "name": "ipython",
    "version": 3
   },
   "file_extension": ".py",
   "mimetype": "text/x-python",
   "name": "python",
   "nbconvert_exporter": "python",
   "pygments_lexer": "ipython3",
   "version": "3.12.2"
  }
 },
 "nbformat": 4,
 "nbformat_minor": 5
}
