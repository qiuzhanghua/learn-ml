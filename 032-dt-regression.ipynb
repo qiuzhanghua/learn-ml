{
 "cells": [
  {
   "cell_type": "code",
   "id": "initial_id",
   "metadata": {
    "collapsed": true
   },
   "source": [
    "import numpy as np\n",
    "import matplotlib.pyplot as plt\n",
    "import pandas as pd"
   ],
   "outputs": [],
   "execution_count": null
  },
  {
   "metadata": {},
   "cell_type": "code",
   "source": [
    "from sklearn import datasets\n",
    "from sklearn.model_selection import train_test_split\n",
    "import warnings\n",
    "warnings.filterwarnings(\"ignore\")"
   ],
   "id": "d8c207910c6e1594",
   "outputs": [],
   "execution_count": null
  },
  {
   "metadata": {},
   "cell_type": "code",
   "source": [
    "data_url = \"https://lib.stat.cmu.edu/datasets/boston\"\n",
    "raw_df = pd.read_csv(data_url, sep=\"\\\\s+\", skiprows=22, header=None)\n",
    "data = np.hstack([raw_df.values[::2, :], raw_df.values[1::2, :2]])\n",
    "target = raw_df.values[1::2, 2]"
   ],
   "id": "3dcaeee61c6ee779",
   "outputs": [],
   "execution_count": null
  },
  {
   "metadata": {},
   "cell_type": "code",
   "source": [
    "x = data\n",
    "y = target\n",
    "x_train, x_test, y_train, y_test = train_test_split(x, y, random_state=233)"
   ],
   "id": "588b35d6ba554533",
   "outputs": [],
   "execution_count": null
  },
  {
   "metadata": {},
   "cell_type": "code",
   "source": [
    "from sklearn.tree import DecisionTreeRegressor\n",
    "reg = DecisionTreeRegressor()\n",
    "reg.fit(x_train, y_train)"
   ],
   "id": "8e79aea0960437ba",
   "outputs": [],
   "execution_count": null
  },
  {
   "metadata": {},
   "cell_type": "code",
   "source": "reg.score(x_test, y_test), reg.score(x_train, y_train)",
   "id": "ea97b30e34feea53",
   "outputs": [],
   "execution_count": null
  },
  {
   "metadata": {},
   "cell_type": "markdown",
   "source": "### 绘制学习曲线",
   "id": "2a6aacc94200e401"
  },
  {
   "metadata": {},
   "cell_type": "code",
   "source": [
    "from sklearn.metrics import r2_score\n",
    "plt.rcParams['figure.figsize'] = (12, 8)\n",
    "\n",
    "max_depth = [2, 5, 10, 20]\n",
    "\n",
    "for i in range(len(max_depth)):\n",
    "    reg = DecisionTreeRegressor(max_depth=max_depth[i])\n",
    "    train_error, test_error = [], []\n",
    "    for k in range(len(x_train)):\n",
    "        reg.fit(x_train[:k+1], y_train[:k+1])\n",
    "        y_train_pred = reg.predict(x_train[:k+1])\n",
    "        train_error.append(r2_score(y_train[:k+1], y_train_pred))\n",
    "        y_test_pred = reg.predict(x_test)\n",
    "        test_error.append(r2_score(y_test, y_test_pred))\n",
    "        \n",
    "    plt.subplot(2, 2, i+1)\n",
    "    plt.ylim(0, 1.1)\n",
    "    plt.title(\"Depth=%d\" % max_depth[i])\n",
    "    plt.plot(range(1, len(x_train)+1), train_error, label=\"train\", color='r')\n",
    "    plt.plot(range(1, len(x_train)+1), test_error, label=\"test\", color='b')\n",
    "    plt.legend()\n",
    "plt.show()"
   ],
   "id": "50ce14f30c8a508a",
   "outputs": [],
   "execution_count": null
  },
  {
   "metadata": {},
   "cell_type": "markdown",
   "source": "### 网格搜索",
   "id": "7379ca8db3c1ea21"
  },
  {
   "metadata": {},
   "cell_type": "code",
   "source": [
    "from sklearn.model_selection import GridSearchCV\n",
    "\n",
    "params = {\n",
    "    \"max_depth\": [n for n in range(2, 15)],\n",
    "    \"min_samples_leaf\": [n for n in range(3, 20)]\n",
    "}"
   ],
   "id": "1374233ea0223c4d",
   "outputs": [],
   "execution_count": null
  },
  {
   "metadata": {},
   "cell_type": "code",
   "source": "grid = GridSearchCV(DecisionTreeRegressor(), params, n_jobs=-1, cv=5)",
   "id": "b05ffaf9a7956385",
   "outputs": [],
   "execution_count": null
  },
  {
   "metadata": {},
   "cell_type": "code",
   "source": "grid.fit(x_train, y_train)",
   "id": "cc7ecc7de4c2ec7",
   "outputs": [],
   "execution_count": null
  },
  {
   "metadata": {},
   "cell_type": "code",
   "source": "grid.best_params_, grid.best_score_",
   "id": "a51a7c3407c81823",
   "outputs": [],
   "execution_count": null
  },
  {
   "metadata": {},
   "cell_type": "code",
   "source": [
    "reg = grid.best_estimator_\n",
    "reg.score(x_test, y_test), reg.score(x_train, y_train)"
   ],
   "id": "1a1a76dd9f43e8d4",
   "outputs": [],
   "execution_count": null
  }
 ],
 "metadata": {
  "kernelspec": {
   "display_name": "Python 3",
   "language": "python",
   "name": "python3"
  },
  "language_info": {
   "codemirror_mode": {
    "name": "ipython",
    "version": 2
   },
   "file_extension": ".py",
   "mimetype": "text/x-python",
   "name": "python",
   "nbconvert_exporter": "python",
   "pygments_lexer": "ipython2",
   "version": "2.7.6"
  }
 },
 "nbformat": 4,
 "nbformat_minor": 5
}
