{
 "cells": [
  {
   "cell_type": "markdown",
   "id": "dcbdafa2-b706-45b0-8a3d-fa5ebe9766f1",
   "metadata": {},
   "source": [
    "### Numpy 矩阵运算的不同"
   ]
  },
  {
   "cell_type": "code",
   "execution_count": 1,
   "id": "27594b79-6883-46a0-8e2b-6aa4cc6c28a8",
   "metadata": {},
   "outputs": [],
   "source": [
    "n = 5000000\n",
    "x = [i for i in range(n)]"
   ]
  },
  {
   "cell_type": "code",
   "execution_count": null,
   "id": "b571ec48-8cb8-4ace-98e6-c5bd6b745790",
   "metadata": {},
   "outputs": [],
   "source": [
    "x[:3]"
   ]
  },
  {
   "cell_type": "code",
   "execution_count": null,
   "id": "0fcae81b-d29c-4807-b37a-aece07358a69",
   "metadata": {},
   "outputs": [],
   "source": [
    "%%time\n",
    "y = [i * 2 for i in x]"
   ]
  },
  {
   "cell_type": "code",
   "execution_count": null,
   "id": "11d81dff-9bdb-44a7-9b81-d901daf3bb9e",
   "metadata": {},
   "outputs": [],
   "source": [
    "y[:5]"
   ]
  },
  {
   "cell_type": "code",
   "execution_count": 5,
   "id": "ce728ef3-3c86-49bd-9de3-48bff4af7126",
   "metadata": {},
   "outputs": [],
   "source": [
    "import numpy as np"
   ]
  },
  {
   "cell_type": "code",
   "execution_count": null,
   "id": "d5e3f131-af34-4777-b652-601110444619",
   "metadata": {},
   "outputs": [],
   "source": [
    "X = np.arange(n)\n",
    "X"
   ]
  },
  {
   "cell_type": "code",
   "execution_count": null,
   "id": "ad638daa-6f73-40bd-8eff-ae6f365a2d8c",
   "metadata": {},
   "outputs": [],
   "source": [
    "%%time\n",
    "Y = X * 2\n",
    "Y"
   ]
  },
  {
   "cell_type": "markdown",
   "id": "09a2841c-b726-48cd-abb6-37fce6554b00",
   "metadata": {},
   "source": [
    "### 一元运算"
   ]
  },
  {
   "cell_type": "code",
   "execution_count": 8,
   "id": "6f1b0f5c-b3d5-457e-9f8e-66d8de447e40",
   "metadata": {},
   "outputs": [],
   "source": [
    "X = np.arange(1, 11, 0.5).reshape(4,5)"
   ]
  },
  {
   "cell_type": "code",
   "execution_count": null,
   "id": "d79464eb-2313-465d-8ef2-aa2318b80a5f",
   "metadata": {},
   "outputs": [],
   "source": [
    "X"
   ]
  },
  {
   "cell_type": "code",
   "execution_count": null,
   "id": "b8923735-b40b-465c-8b95-c9f0e6d494f4",
   "metadata": {},
   "outputs": [],
   "source": [
    "np.abs(X)"
   ]
  },
  {
   "cell_type": "code",
   "execution_count": null,
   "id": "9947e906-fa08-4ccf-aed2-13ccff2aa617",
   "metadata": {},
   "outputs": [],
   "source": [
    "np.sqrt(X)"
   ]
  },
  {
   "cell_type": "code",
   "execution_count": null,
   "id": "75fec7d0-9ab0-468f-a3c7-7dadb4ba6f9b",
   "metadata": {},
   "outputs": [],
   "source": [
    "np.square(X)"
   ]
  },
  {
   "cell_type": "code",
   "execution_count": null,
   "id": "109d9f4b-b8e7-4c84-a8a0-2e35b0d2524b",
   "metadata": {},
   "outputs": [],
   "source": [
    "np.exp(X)"
   ]
  },
  {
   "cell_type": "code",
   "execution_count": null,
   "id": "058613b8-8ba5-41a6-94af-40e99085fabe",
   "metadata": {},
   "outputs": [],
   "source": [
    "np.log(X)"
   ]
  },
  {
   "cell_type": "code",
   "execution_count": null,
   "id": "5748e5a6-4c87-424e-8c5d-e99962afcf28",
   "metadata": {},
   "outputs": [],
   "source": [
    "np.log2(X)"
   ]
  },
  {
   "cell_type": "code",
   "execution_count": null,
   "id": "65949f10-1e96-41bf-b42d-00f5123b770f",
   "metadata": {},
   "outputs": [],
   "source": [
    "np.log10(X)"
   ]
  },
  {
   "cell_type": "code",
   "execution_count": null,
   "id": "afd51dca-2c2b-4289-bbba-dec3dfe0d117",
   "metadata": {},
   "outputs": [],
   "source": [
    "np.ceil(X)"
   ]
  },
  {
   "cell_type": "code",
   "execution_count": null,
   "id": "47e32427-7136-4adb-a374-909472d520e1",
   "metadata": {},
   "outputs": [],
   "source": [
    "np.floor(X)"
   ]
  },
  {
   "cell_type": "code",
   "execution_count": null,
   "id": "ec44b69b-78d0-461f-bc7a-822114e2ba6e",
   "metadata": {},
   "outputs": [],
   "source": [
    "np.round(X)"
   ]
  },
  {
   "cell_type": "code",
   "execution_count": null,
   "id": "fa83852f-6754-4445-a7ba-e22c2388fd21",
   "metadata": {},
   "outputs": [],
   "source": [
    "np.sin(X) ## cos tan"
   ]
  },
  {
   "cell_type": "markdown",
   "id": "39b3042f-269c-4875-a2e9-2dbd63f063ba",
   "metadata": {},
   "source": [
    "### 二元运算"
   ]
  },
  {
   "cell_type": "code",
   "execution_count": null,
   "id": "232e4b30-8b43-42cf-9bd0-5e107f215c94",
   "metadata": {},
   "outputs": [],
   "source": [
    "X + 1"
   ]
  },
  {
   "cell_type": "code",
   "execution_count": null,
   "id": "d01e4539-29f5-4b7c-8804-60e2638c2541",
   "metadata": {},
   "outputs": [],
   "source": [
    "np.add(X, 2)"
   ]
  },
  {
   "cell_type": "code",
   "execution_count": null,
   "id": "581cc9e2-35dc-4e7a-a155-aad3f2f81ee9",
   "metadata": {},
   "outputs": [],
   "source": [
    "X - 1"
   ]
  },
  {
   "cell_type": "code",
   "execution_count": null,
   "id": "386977d4-1263-4c27-8cef-b07d9290f10b",
   "metadata": {},
   "outputs": [],
   "source": [
    "2 / X"
   ]
  },
  {
   "cell_type": "code",
   "execution_count": null,
   "id": "2ec5155a-bf10-46b0-9455-e01200dbe812",
   "metadata": {},
   "outputs": [],
   "source": [
    "X // 2"
   ]
  },
  {
   "cell_type": "code",
   "execution_count": null,
   "id": "95de7580-31af-4f59-b58a-1b474dcbbbde",
   "metadata": {},
   "outputs": [],
   "source": [
    "X % 2"
   ]
  },
  {
   "cell_type": "code",
   "execution_count": null,
   "id": "643eb0ef-da50-4c52-a9fa-feb13632efc4",
   "metadata": {},
   "outputs": [],
   "source": [
    "X ** 3"
   ]
  },
  {
   "cell_type": "markdown",
   "id": "7cb01a53-3d7a-475a-ada7-3dc83128a05a",
   "metadata": {},
   "source": [
    "### 矩阵运算"
   ]
  },
  {
   "cell_type": "code",
   "execution_count": null,
   "id": "522fd283-1622-40ef-a6b6-7fd466fb5686",
   "metadata": {},
   "outputs": [],
   "source": [
    "X = np.linspace(10, 40, 4).reshape(2,2)\n",
    "X"
   ]
  },
  {
   "cell_type": "code",
   "execution_count": 29,
   "id": "bf54457e-7090-44db-a7ae-57f783999b54",
   "metadata": {},
   "outputs": [],
   "source": [
    "Y = np.linspace(1,4,4).reshape(2,2)"
   ]
  },
  {
   "cell_type": "code",
   "execution_count": null,
   "id": "77ba2e05-343f-48d5-9cda-b51d619d60d3",
   "metadata": {},
   "outputs": [],
   "source": [
    "X + Y"
   ]
  },
  {
   "cell_type": "code",
   "execution_count": null,
   "id": "ab2cd8af-e3de-49b8-9758-77d0684d560f",
   "metadata": {},
   "outputs": [],
   "source": [
    "X - Y"
   ]
  },
  {
   "cell_type": "code",
   "execution_count": null,
   "id": "b0c91335-54c0-4d63-836c-36da69893433",
   "metadata": {},
   "outputs": [],
   "source": [
    "X * Y"
   ]
  },
  {
   "cell_type": "code",
   "execution_count": null,
   "id": "496e81af-615d-48c3-8618-bbc85d46648b",
   "metadata": {},
   "outputs": [],
   "source": [
    "X.dot(Y)"
   ]
  },
  {
   "cell_type": "code",
   "execution_count": null,
   "id": "ebf1b67d-6c47-44b8-a6c2-81210f02c4c9",
   "metadata": {},
   "outputs": [],
   "source": [
    "X.T"
   ]
  },
  {
   "cell_type": "code",
   "execution_count": null,
   "id": "7783b42d-5e9b-45a6-9e10-1188fb0f6bfa",
   "metadata": {},
   "outputs": [],
   "source": [
    "np.transpose(X)"
   ]
  },
  {
   "cell_type": "code",
   "execution_count": null,
   "id": "01ba5542-0008-458c-942a-24d888b3d652",
   "metadata": {},
   "outputs": [],
   "source": [
    "Z = np.linspace(1,4,2)\n",
    "Z"
   ]
  },
  {
   "cell_type": "code",
   "execution_count": null,
   "id": "611f8c01-2c0f-47cd-b37d-afa1d448819d",
   "metadata": {},
   "outputs": [],
   "source": [
    "X + Z     # 每行相加"
   ]
  },
  {
   "cell_type": "code",
   "execution_count": null,
   "id": "adcc3d16-bc99-41f2-ba6d-f676ca223e09",
   "metadata": {},
   "outputs": [],
   "source": [
    "X * Z   # 每行相乘"
   ]
  },
  {
   "cell_type": "code",
   "execution_count": null,
   "id": "b194e69a-cb50-4372-b9c4-3d33d7b2dc2c",
   "metadata": {},
   "outputs": [],
   "source": [
    "Z.dot(X)"
   ]
  },
  {
   "cell_type": "code",
   "execution_count": null,
   "id": "27e9cb3e-358b-4072-b666-5af64c7a592c",
   "metadata": {},
   "outputs": [],
   "source": [
    "X.dot(Z)"
   ]
  },
  {
   "cell_type": "code",
   "execution_count": null,
   "id": "92ff1b44-10ad-4ba9-a3cc-e2cfcec995a1",
   "metadata": {},
   "outputs": [],
   "source": [
    "X"
   ]
  },
  {
   "cell_type": "code",
   "execution_count": null,
   "id": "758d7dc6-4c8e-4456-a22f-8178a4304d7b",
   "metadata": {},
   "outputs": [],
   "source": [
    "V = np.linalg.inv(X)\n",
    "V"
   ]
  },
  {
   "cell_type": "code",
   "execution_count": null,
   "id": "5c82d2c8-4101-49a6-8a6a-c17d8a5392e2",
   "metadata": {},
   "outputs": [],
   "source": [
    "X.dot(V)"
   ]
  },
  {
   "cell_type": "code",
   "execution_count": null,
   "id": "a492936b-e4bd-4cc2-b880-d55cc23ed7b4",
   "metadata": {},
   "outputs": [],
   "source": [
    "V.dot(X)"
   ]
  },
  {
   "cell_type": "code",
   "execution_count": null,
   "id": "ac603cba-df2c-4954-8875-e8903fad7c3d",
   "metadata": {},
   "outputs": [],
   "source": [
    "np.linalg.det(X)"
   ]
  },
  {
   "cell_type": "code",
   "execution_count": null,
   "id": "83143be5-0c67-43c0-9b10-3d47430e8979",
   "metadata": {},
   "outputs": [],
   "source": [
    "np.linalg.eig(X)"
   ]
  }
 ],
 "metadata": {
  "kernelspec": {
   "display_name": "all",
   "language": "python",
   "name": "python3"
  },
  "language_info": {
   "codemirror_mode": {
    "name": "ipython",
    "version": 3
   },
   "file_extension": ".py",
   "mimetype": "text/x-python",
   "name": "python",
   "nbconvert_exporter": "python",
   "pygments_lexer": "ipython3",
   "version": "3.12.2"
  }
 },
 "nbformat": 4,
 "nbformat_minor": 5
}
