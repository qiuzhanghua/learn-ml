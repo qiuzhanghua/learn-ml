{
 "cells": [
  {
   "cell_type": "markdown",
   "id": "c2812907-225f-48d0-a4c5-445ebccfedfc",
   "metadata": {},
   "source": [
    "### 基础索引"
   ]
  },
  {
   "cell_type": "code",
   "id": "3db3597f-0bfa-42fa-898e-58ce0fc3dc94",
   "metadata": {},
   "source": [
    "import numpy as np"
   ],
   "outputs": [],
   "execution_count": null
  },
  {
   "cell_type": "code",
   "id": "78c0e880-46d4-45bf-8828-4e8d349fef1b",
   "metadata": {},
   "source": [
    "a = np.arange(10)\n",
    "a"
   ],
   "outputs": [],
   "execution_count": null
  },
  {
   "cell_type": "code",
   "id": "d06375df-9870-402d-b9d7-54c420ee5493",
   "metadata": {},
   "source": [
    "A = np.arange(20).reshape(4, 5)\n",
    "A"
   ],
   "outputs": [],
   "execution_count": null
  },
  {
   "cell_type": "code",
   "id": "29ecdf57-c50a-4d88-8450-8caca51180ce",
   "metadata": {},
   "source": [
    "a[0]"
   ],
   "outputs": [],
   "execution_count": null
  },
  {
   "cell_type": "code",
   "id": "266f2a6c-1608-4218-96de-07c9646bc97e",
   "metadata": {},
   "source": [
    "a[4]"
   ],
   "outputs": [],
   "execution_count": null
  },
  {
   "cell_type": "code",
   "id": "84ea5b9f-b1fb-4d9a-b546-7bfc372da80d",
   "metadata": {},
   "source": [
    "a[-1]"
   ],
   "outputs": [],
   "execution_count": null
  },
  {
   "cell_type": "code",
   "id": "9194a577-4711-4880-9ce1-f4a168c2ff37",
   "metadata": {},
   "source": [
    "a[0:4]"
   ],
   "outputs": [],
   "execution_count": null
  },
  {
   "cell_type": "code",
   "id": "f8cbd165-c4ab-4c43-b476-d6d03a377667",
   "metadata": {},
   "source": [
    "a[:5]"
   ],
   "outputs": [],
   "execution_count": null
  },
  {
   "cell_type": "code",
   "id": "b9159309-3e4a-457f-9afd-5a5c87dd0a34",
   "metadata": {},
   "source": [
    "a[4:]"
   ],
   "outputs": [],
   "execution_count": null
  },
  {
   "cell_type": "code",
   "id": "0cdf7a89-1684-432e-a854-9c8e7efefe87",
   "metadata": {},
   "source": [
    "a[-3:]"
   ],
   "outputs": [],
   "execution_count": null
  },
  {
   "cell_type": "code",
   "id": "1b6be784-48ed-43a0-9f5a-7100cd49074b",
   "metadata": {},
   "source": [
    "a[:]"
   ],
   "outputs": [],
   "execution_count": null
  },
  {
   "cell_type": "code",
   "id": "95175a0d-83d3-4984-9e7d-03b7fde49406",
   "metadata": {},
   "source": [
    "a[::2]"
   ],
   "outputs": [],
   "execution_count": null
  },
  {
   "cell_type": "code",
   "id": "e8c926c2-1869-472c-946f-20a91439f3fe",
   "metadata": {},
   "source": [
    "a[::-1]"
   ],
   "outputs": [],
   "execution_count": null
  },
  {
   "cell_type": "markdown",
   "id": "c6e3f18a-808e-494d-adb3-485af055f862",
   "metadata": {},
   "source": [
    "#### 二维数组"
   ]
  },
  {
   "cell_type": "code",
   "id": "5885d927-cd3a-4734-8030-2d7c8e343903",
   "metadata": {},
   "source": [
    "A"
   ],
   "outputs": [],
   "execution_count": null
  },
  {
   "cell_type": "code",
   "id": "e8d2a3cd-b3ff-4eb2-ab4c-2dff2dfff730",
   "metadata": {},
   "source": [
    "A[0,0]"
   ],
   "outputs": [],
   "execution_count": null
  },
  {
   "cell_type": "code",
   "id": "e5e2925e-852a-4772-b4e4-ab85f9253406",
   "metadata": {},
   "source": [
    "A[1,:]"
   ],
   "outputs": [],
   "execution_count": null
  },
  {
   "cell_type": "code",
   "id": "c9e55c52-3041-4965-b025-9ea67329d977",
   "metadata": {},
   "source": [
    "A[2]"
   ],
   "outputs": [],
   "execution_count": null
  },
  {
   "cell_type": "code",
   "id": "a618d15f-4bf2-42fb-93cb-765d9daa4705",
   "metadata": {},
   "source": [
    "A[-1]"
   ],
   "outputs": [],
   "execution_count": null
  },
  {
   "cell_type": "code",
   "id": "e4de79c4-30f0-4f47-8156-9ae4bd939e76",
   "metadata": {},
   "source": [
    "A[:,0]"
   ],
   "outputs": [],
   "execution_count": null
  },
  {
   "cell_type": "code",
   "id": "211e139b-7096-4ca8-b0cd-7f6bba39e83d",
   "metadata": {},
   "source": [
    "A[:,-1]"
   ],
   "outputs": [],
   "execution_count": null
  },
  {
   "cell_type": "code",
   "id": "10ab89ce-84e8-4b46-b492-015fd2354602",
   "metadata": {},
   "source": [
    "A[:2, :4]"
   ],
   "outputs": [],
   "execution_count": null
  },
  {
   "cell_type": "code",
   "id": "2449b7c8-3750-40a0-a219-6aa97bf8dc6b",
   "metadata": {},
   "source": [
    "A[::-1, ::-1]"
   ],
   "outputs": [],
   "execution_count": null
  },
  {
   "cell_type": "code",
   "id": "7c202857-3f55-40ce-a26e-4fc5c200a0ef",
   "metadata": {},
   "source": [
    "X=A[:2,:3]\n",
    "X"
   ],
   "outputs": [],
   "execution_count": null
  },
  {
   "cell_type": "code",
   "id": "c35ad4d3-c058-446f-8ec4-9e5c3ecd7699",
   "metadata": {},
   "source": [
    "X[0,0]=999"
   ],
   "outputs": [],
   "execution_count": null
  },
  {
   "cell_type": "code",
   "id": "262e4830-47c4-4838-abb4-72fb589345ce",
   "metadata": {},
   "source": [
    "A"
   ],
   "outputs": [],
   "execution_count": null
  },
  {
   "cell_type": "code",
   "id": "85a58ac7-fd98-4460-b015-c8e76e2318d1",
   "metadata": {},
   "source": [
    "A[0,0] = 0\n",
    "A"
   ],
   "outputs": [],
   "execution_count": null
  },
  {
   "cell_type": "code",
   "id": "ec297f50-dc3b-4a1a-ba01-a52af0787026",
   "metadata": {},
   "source": [
    "X"
   ],
   "outputs": [],
   "execution_count": null
  },
  {
   "cell_type": "markdown",
   "id": "38080a47-4f44-492e-83b2-e6173161b8b0",
   "metadata": {},
   "source": [
    "#### copy"
   ]
  },
  {
   "cell_type": "code",
   "id": "8c1e3eb2-cd59-484d-802b-9251751479f3",
   "metadata": {},
   "source": [
    "X = A[:2, :3].copy()\n",
    "X"
   ],
   "outputs": [],
   "execution_count": null
  },
  {
   "cell_type": "code",
   "id": "76b3471f-ebeb-40ac-9e89-d68f079d6332",
   "metadata": {},
   "source": [
    "X[0,0] = 888\n",
    "X"
   ],
   "outputs": [],
   "execution_count": null
  },
  {
   "cell_type": "code",
   "id": "057dd429-ca47-4bf5-b1a1-6a4cf65375a7",
   "metadata": {},
   "source": [
    "A"
   ],
   "outputs": [],
   "execution_count": null
  },
  {
   "cell_type": "code",
   "id": "9ea80158-46b2-4097-8902-6a083ce7bc4c",
   "metadata": {},
   "source": [],
   "outputs": [],
   "execution_count": null
  }
 ],
 "metadata": {
  "kernelspec": {
   "display_name": "all",
   "language": "python",
   "name": "python3"
  },
  "language_info": {
   "codemirror_mode": {
    "name": "ipython",
    "version": 3
   },
   "file_extension": ".py",
   "mimetype": "text/x-python",
   "name": "python",
   "nbconvert_exporter": "python",
   "pygments_lexer": "ipython3",
   "version": "3.12.2"
  }
 },
 "nbformat": 4,
 "nbformat_minor": 5
}
