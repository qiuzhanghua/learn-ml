{
 "cells": [
  {
   "metadata": {},
   "cell_type": "markdown",
   "source": [
    "### Regularization = Normalization + Dropout\n",
    "Norm 0, Norm 1, Norm 2"
   ],
   "id": "5598c5beab1dc155"
  },
  {
   "metadata": {},
   "cell_type": "markdown",
   "source": [
    "#### Least Absolute Shrinkage and Selection Operator (LASSO)\n",
    "L1 regularization"
   ],
   "id": "8476b34c75867625"
  },
  {
   "metadata": {},
   "cell_type": "code",
   "source": [
    "import numpy as np\n",
    "import matplotlib.pyplot as plt\n",
    "from sklearn import datasets\n",
    "import warnings\n",
    "warnings.filterwarnings('ignore')\n",
    "import pandas as pd"
   ],
   "id": "8f1cd45be139053e",
   "outputs": [],
   "execution_count": null
  },
  {
   "metadata": {},
   "cell_type": "code",
   "source": [
    "data_url = \"http://lib.stat.cmu.edu/datasets/boston\"\n",
    "raw_df = pd.read_csv(data_url, sep=\"\\\\s+\", skiprows=22, header=None)\n",
    "data = np.hstack([raw_df.values[::2, :], raw_df.values[1::2, :2]])\n",
    "target = raw_df.values[1::2, 2]"
   ],
   "id": "708a7dae16678c52",
   "outputs": [],
   "execution_count": null
  },
  {
   "metadata": {},
   "cell_type": "code",
   "source": [
    "x = data[:, 12]\n",
    "y = target"
   ],
   "id": "6717eff188687c26",
   "outputs": [],
   "execution_count": null
  },
  {
   "metadata": {},
   "cell_type": "code",
   "source": [
    "x = x[y<50]\n",
    "y = y[y<50]"
   ],
   "id": "a7b0ea922da44a1c",
   "outputs": [],
   "execution_count": null
  },
  {
   "metadata": {},
   "cell_type": "code",
   "source": [
    "plt.scatter(x, y)\n",
    "plt.show()"
   ],
   "id": "5c2ae035b324d75",
   "outputs": [],
   "execution_count": null
  },
  {
   "metadata": {},
   "cell_type": "code",
   "source": [
    "from sklearn.model_selection import train_test_split\n",
    "np.random.seed(666)\n",
    "x_train, x_test, y_train, y_test = train_test_split(x.reshape(-1, 1), y)"
   ],
   "id": "3fb9af73c4b8f3f3",
   "outputs": [],
   "execution_count": null
  },
  {
   "metadata": {},
   "cell_type": "code",
   "source": [
    "from sklearn.linear_model import LinearRegression\n",
    "from sklearn.pipeline import Pipeline\n",
    "from sklearn.preprocessing import StandardScaler\n",
    "from sklearn.preprocessing import PolynomialFeatures"
   ],
   "id": "c9e1b8faf60e245a",
   "outputs": [],
   "execution_count": null
  },
  {
   "metadata": {},
   "cell_type": "code",
   "source": [
    "def polynomial_regression(degree):\n",
    "    return Pipeline([\n",
    "        (\"poly\", PolynomialFeatures(degree=degree)),\n",
    "        (\"std_scaler\", StandardScaler()),\n",
    "        (\"lin_reg\", LinearRegression())\n",
    "    ])"
   ],
   "id": "1f9fe24cc5f20668",
   "outputs": [],
   "execution_count": null
  },
  {
   "metadata": {},
   "cell_type": "code",
   "source": [
    "poly_reg = polynomial_regression(degree=20)\n",
    "model = poly_reg.fit(x_train, y_train)"
   ],
   "id": "ac07294f640f03ed",
   "outputs": [],
   "execution_count": null
  },
  {
   "metadata": {},
   "cell_type": "code",
   "source": [
    "from sklearn.metrics import mean_squared_error\n",
    "y_predict = model.predict(x_test)\n",
    "mean_squared_error(y_test, y_predict)"
   ],
   "id": "30b87d51957c307d",
   "outputs": [],
   "execution_count": null
  },
  {
   "metadata": {},
   "cell_type": "code",
   "source": [
    "def show_plot(model):\n",
    "    x_plot = np.linspace(0, 40, 100).reshape(100, 1)\n",
    "    y_plot = model.predict(x_plot)\n",
    "    plt.scatter(x, y)\n",
    "    plt.plot(x_plot[:, 0], y_plot, color='r')\n",
    "    plt.axis((0, 40, 0, 50))\n",
    "    plt.show()"
   ],
   "id": "2c50ff66374eced5",
   "outputs": [],
   "execution_count": null
  },
  {
   "metadata": {},
   "cell_type": "code",
   "source": "show_plot(model)",
   "id": "61be3be15f9c2d03",
   "outputs": [],
   "execution_count": null
  },
  {
   "metadata": {},
   "cell_type": "code",
   "source": [
    "from sklearn.linear_model import Lasso\n",
    "\n",
    "def lasso_regression(degree, alpha):\n",
    "    return Pipeline([\n",
    "        (\"poly\", PolynomialFeatures(degree=degree)),\n",
    "        (\"std_scaler\", StandardScaler()),\n",
    "        (\"lasso_reg\", Lasso(alpha=alpha))\n",
    "    ])"
   ],
   "id": "e8cced5738f0397b",
   "outputs": [],
   "execution_count": null
  },
  {
   "metadata": {},
   "cell_type": "code",
   "source": [
    "lasso_reg = lasso_regression(20, 0.1)\n",
    "lasso_model = lasso_reg.fit(x_train, y_train)"
   ],
   "id": "1a26a7716fa0febb",
   "outputs": [],
   "execution_count": null
  },
  {
   "metadata": {},
   "cell_type": "code",
   "source": "y_predict = lasso_model.predict(x_test)",
   "id": "1e5463239228c579",
   "outputs": [],
   "execution_count": null
  },
  {
   "metadata": {},
   "cell_type": "code",
   "source": "mean_squared_error(y_test, y_predict)",
   "id": "1683aa13a9bf0a31",
   "outputs": [],
   "execution_count": null
  },
  {
   "metadata": {},
   "cell_type": "code",
   "source": "show_plot(lasso_model)",
   "id": "360f9bbdc6f07436",
   "outputs": [],
   "execution_count": null
  },
  {
   "metadata": {},
   "cell_type": "code",
   "source": "",
   "id": "e1cc635bcefff84c",
   "outputs": [],
   "execution_count": null
  },
  {
   "metadata": {},
   "cell_type": "code",
   "source": [
    "from sklearn.linear_model import Ridge\n",
    "\n",
    "def ridge_regression(degree, alpha):\n",
    "    return Pipeline([\n",
    "        (\"poly\", PolynomialFeatures(degree=degree)),\n",
    "        (\"std_scaler\", StandardScaler()),\n",
    "        (\"ridge_reg\", Ridge(alpha=alpha))\n",
    "    ])"
   ],
   "id": "7cbfe630b26fd194",
   "outputs": [],
   "execution_count": null
  },
  {
   "metadata": {},
   "cell_type": "code",
   "source": [
    "ridge_reg = ridge_regression(20, 100)\n",
    "ridge_model = ridge_reg.fit(x_train, y_train)"
   ],
   "id": "decd1421df3aa202",
   "outputs": [],
   "execution_count": null
  },
  {
   "metadata": {},
   "cell_type": "code",
   "source": [
    "y_predict = ridge_model.predict(x_test)\n",
    "mean_squared_error(y_test, y_predict)"
   ],
   "id": "a7d4a393c0e80e86",
   "outputs": [],
   "execution_count": null
  },
  {
   "metadata": {},
   "cell_type": "code",
   "source": "show_plot(ridge_model)",
   "id": "e76b7cb39f6f746f",
   "outputs": [],
   "execution_count": null
  },
  {
   "metadata": {},
   "cell_type": "code",
   "source": [
    "from sklearn.linear_model import ElasticNet\n",
    "def elastic_net(degree, alpha, l1_ratio):\n",
    "    return Pipeline([\n",
    "        (\"poly\", PolynomialFeatures(degree=degree)),\n",
    "        (\"std_scaler\", StandardScaler()),\n",
    "        (\"elastic_net\", ElasticNet(alpha=alpha, l1_ratio=l1_ratio))\n",
    "    ])"
   ],
   "id": "627208198fa9bbbd",
   "outputs": [],
   "execution_count": null
  },
  {
   "metadata": {},
   "cell_type": "code",
   "source": [
    "elastic_net_reg = elastic_net(20, 0.1, 0.01)\n",
    "elastic_net_model = elastic_net_reg.fit(x_train, y_train)"
   ],
   "id": "ad677536e8f95b4f",
   "outputs": [],
   "execution_count": null
  },
  {
   "metadata": {},
   "cell_type": "code",
   "source": [
    "y_predict = elastic_net_model.predict(x_test)\n",
    "mean_squared_error(y_test, y_predict)"
   ],
   "id": "8c9264eb3e7a273",
   "outputs": [],
   "execution_count": null
  },
  {
   "metadata": {},
   "cell_type": "code",
   "source": "show_plot(elastic_net_model)",
   "id": "4365386d6a1bc051",
   "outputs": [],
   "execution_count": null
  }
 ],
 "metadata": {
  "kernelspec": {
   "display_name": "Python 3",
   "language": "python",
   "name": "python3"
  },
  "language_info": {
   "codemirror_mode": {
    "name": "ipython",
    "version": 2
   },
   "file_extension": ".py",
   "mimetype": "text/x-python",
   "name": "python",
   "nbconvert_exporter": "python",
   "pygments_lexer": "ipython2",
   "version": "2.7.6"
  }
 },
 "nbformat": 4,
 "nbformat_minor": 5
}
