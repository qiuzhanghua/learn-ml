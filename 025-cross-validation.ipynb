{
 "cells": [
  {
   "cell_type": "code",
   "id": "initial_id",
   "metadata": {
    "collapsed": true,
    "ExecuteTime": {
     "end_time": "2024-10-26T09:36:24.869936Z",
     "start_time": "2024-10-26T09:36:24.300537Z"
    }
   },
   "source": [
    "import numpy as np\n",
    "import matplotlib.pyplot as plt\n",
    "from sklearn.datasets import load_iris"
   ],
   "outputs": [],
   "execution_count": 1
  },
  {
   "metadata": {
    "ExecuteTime": {
     "end_time": "2024-10-26T09:36:41.924083Z",
     "start_time": "2024-10-26T09:36:41.916768Z"
    }
   },
   "cell_type": "code",
   "source": [
    "iris = load_iris()\n",
    "x = iris.data\n",
    "y = iris.target"
   ],
   "id": "8e8cccf4237cfd9d",
   "outputs": [],
   "execution_count": 2
  },
  {
   "metadata": {
    "ExecuteTime": {
     "end_time": "2024-10-26T09:37:45.702971Z",
     "start_time": "2024-10-26T09:37:45.695255Z"
    }
   },
   "cell_type": "code",
   "source": [
    "from sklearn.model_selection import train_test_split\n",
    "x_train, x_test, y_train, y_test = train_test_split(x, y, test_size=0.3, random_state=233, stratify=y)\n",
    "x_train.shape, x_test.shape, y_train.shape, y_test.shape"
   ],
   "id": "cbf1da3024b0b624",
   "outputs": [
    {
     "data": {
      "text/plain": [
       "((105, 4), (45, 4), (105,), (45,))"
      ]
     },
     "execution_count": 4,
     "metadata": {},
     "output_type": "execute_result"
    }
   ],
   "execution_count": 4
  },
  {
   "metadata": {
    "ExecuteTime": {
     "end_time": "2024-10-26T09:38:11.514054Z",
     "start_time": "2024-10-26T09:38:11.435297Z"
    }
   },
   "cell_type": "code",
   "source": "from sklearn.neighbors import KNeighborsClassifier",
   "id": "626896ce7befef43",
   "outputs": [],
   "execution_count": 5
  },
  {
   "metadata": {
    "ExecuteTime": {
     "end_time": "2024-10-26T09:40:31.884344Z",
     "start_time": "2024-10-26T09:40:31.642531Z"
    }
   },
   "cell_type": "code",
   "source": [
    "best_score = -1\n",
    "best_n = -1\n",
    "best_weight = ''\n",
    "best_p = -1\n",
    "for n in range(1, 20):\n",
    "    for weight in ['uniform', 'distance']:\n",
    "        for p in range(1, 7):\n",
    "            knn = KNeighborsClassifier(n_neighbors=n, weights=weight, p=p)\n",
    "            knn.fit(x_train, y_train)\n",
    "            score = knn.score(x_test, y_test)\n",
    "            if score > best_score:\n",
    "                best_score = score\n",
    "                best_n = n\n",
    "                best_weight = weight\n",
    "                best_p = p\n",
    "print('n_neighbors:', best_n)\n",
    "print('weights:', best_weight)\n",
    "print('p:', best_p)\n",
    "print('score:', best_score)"
   ],
   "id": "1e1dfa75347f2def",
   "outputs": [
    {
     "name": "stdout",
     "output_type": "stream",
     "text": [
      "n_neighbors: 5\n",
      "weights: uniform\n",
      "p: 2\n",
      "score: 1.0\n"
     ]
    }
   ],
   "execution_count": 6
  },
  {
   "metadata": {
    "ExecuteTime": {
     "end_time": "2024-10-26T09:41:27.457540Z",
     "start_time": "2024-10-26T09:41:27.454187Z"
    }
   },
   "cell_type": "code",
   "source": "from sklearn.model_selection import GridSearchCV",
   "id": "e4a0ceac4e813de2",
   "outputs": [],
   "execution_count": 7
  },
  {
   "metadata": {
    "ExecuteTime": {
     "end_time": "2024-10-26T09:41:52.430602Z",
     "start_time": "2024-10-26T09:41:52.427479Z"
    }
   },
   "cell_type": "code",
   "source": [
    "params = {\n",
    "    'n_neighbors': range(1, 20),\n",
    "    'weights': ['uniform', 'distance'],\n",
    "    'p': range(1, 7)\n",
    "}"
   ],
   "id": "2ae9118704b2c2e3",
   "outputs": [],
   "execution_count": 8
  },
  {
   "metadata": {
    "ExecuteTime": {
     "end_time": "2024-10-26T09:42:35.392018Z",
     "start_time": "2024-10-26T09:42:34.335934Z"
    }
   },
   "cell_type": "code",
   "source": [
    "grid = GridSearchCV(KNeighborsClassifier(), params, n_jobs=-1)\n",
    "model = grid.fit(x_train, y_train)"
   ],
   "id": "67b15af607873ab6",
   "outputs": [],
   "execution_count": 9
  },
  {
   "metadata": {
    "ExecuteTime": {
     "end_time": "2024-10-26T09:42:41.369770Z",
     "start_time": "2024-10-26T09:42:41.364438Z"
    }
   },
   "cell_type": "code",
   "source": "model.best_params_",
   "id": "9b384d7286dc5e9a",
   "outputs": [
    {
     "data": {
      "text/plain": [
       "{'n_neighbors': 9, 'p': 2, 'weights': 'uniform'}"
      ]
     },
     "execution_count": 10,
     "metadata": {},
     "output_type": "execute_result"
    }
   ],
   "execution_count": 10
  },
  {
   "metadata": {
    "ExecuteTime": {
     "end_time": "2024-10-26T09:42:47.261669Z",
     "start_time": "2024-10-26T09:42:47.257050Z"
    }
   },
   "cell_type": "code",
   "source": "model.best_score_",
   "id": "b82763e69c4519ee",
   "outputs": [
    {
     "data": {
      "text/plain": [
       "0.961904761904762"
      ]
     },
     "execution_count": 11,
     "metadata": {},
     "output_type": "execute_result"
    }
   ],
   "execution_count": 11
  },
  {
   "metadata": {
    "ExecuteTime": {
     "end_time": "2024-10-26T09:42:52.769237Z",
     "start_time": "2024-10-26T09:42:52.759587Z"
    }
   },
   "cell_type": "code",
   "source": "model.score(x_test, y_test)",
   "id": "7605889f20ade1d3",
   "outputs": [
    {
     "data": {
      "text/plain": [
       "0.9555555555555556"
      ]
     },
     "execution_count": 12,
     "metadata": {},
     "output_type": "execute_result"
    }
   ],
   "execution_count": 12
  },
  {
   "metadata": {},
   "cell_type": "markdown",
   "source": "### Cross Validation",
   "id": "93140e4cb7431c0a"
  },
  {
   "metadata": {
    "ExecuteTime": {
     "end_time": "2024-10-26T09:45:54.443208Z",
     "start_time": "2024-10-26T09:45:54.425841Z"
    }
   },
   "cell_type": "code",
   "source": [
    "from sklearn.model_selection import cross_val_score\n",
    "\n",
    "neigh = KNeighborsClassifier()\n",
    "cv_scores = cross_val_score(neigh, x_train, y_train, cv=5)\n",
    "cv_scores"
   ],
   "id": "d4ed2685559539f1",
   "outputs": [
    {
     "data": {
      "text/plain": [
       "array([0.95238095, 1.        , 0.95238095, 0.85714286, 1.        ])"
      ]
     },
     "execution_count": 14,
     "metadata": {},
     "output_type": "execute_result"
    }
   ],
   "execution_count": 14
  },
  {
   "metadata": {
    "ExecuteTime": {
     "end_time": "2024-10-26T09:49:10.115526Z",
     "start_time": "2024-10-26T09:49:09.021266Z"
    }
   },
   "cell_type": "code",
   "source": [
    "best_score = -1\n",
    "best_n = -1\n",
    "best_weight = ''\n",
    "best_p = -1\n",
    "best_cv_score = None\n",
    "for n in range(1, 20):\n",
    "    for weight in ['uniform', 'distance']:\n",
    "        for p in range(1, 7):\n",
    "            knn = KNeighborsClassifier(n_neighbors=n, weights=weight, p=p)\n",
    "            cv_scores = cross_val_score(knn, x_train, y_train, cv=5)\n",
    "            score = np.mean(cv_scores)\n",
    "            if score > best_score:\n",
    "                best_score = score\n",
    "                best_n = n\n",
    "                best_weight = weight\n",
    "                best_p = p\n",
    "                best_cv_score = cv_scores\n",
    "                \n",
    "print('n_neighbors:', best_n)\n",
    "print('weights:', best_weight)\n",
    "print('p:', best_p)\n",
    "print('score:', best_score)\n",
    "print('cv_scores:', best_cv_score)"
   ],
   "id": "9695b22e75a50983",
   "outputs": [
    {
     "name": "stdout",
     "output_type": "stream",
     "text": [
      "n_neighbors: 9\n",
      "weights: uniform\n",
      "p: 2\n",
      "score: 0.961904761904762\n",
      "cv_scores: [1.         1.         0.95238095 0.85714286 1.        ]\n"
     ]
    }
   ],
   "execution_count": 15
  },
  {
   "metadata": {
    "ExecuteTime": {
     "end_time": "2024-10-26T09:49:46.290836Z",
     "start_time": "2024-10-26T09:49:46.286129Z"
    }
   },
   "cell_type": "code",
   "source": "np.average(best_cv_score)",
   "id": "a9ee79741e02242b",
   "outputs": [
    {
     "data": {
      "text/plain": [
       "0.961904761904762"
      ]
     },
     "execution_count": 16,
     "metadata": {},
     "output_type": "execute_result"
    }
   ],
   "execution_count": 16
  }
 ],
 "metadata": {
  "kernelspec": {
   "display_name": "Python 3",
   "language": "python",
   "name": "python3"
  },
  "language_info": {
   "codemirror_mode": {
    "name": "ipython",
    "version": 2
   },
   "file_extension": ".py",
   "mimetype": "text/x-python",
   "name": "python",
   "nbconvert_exporter": "python",
   "pygments_lexer": "ipython2",
   "version": "2.7.6"
  }
 },
 "nbformat": 4,
 "nbformat_minor": 5
}
