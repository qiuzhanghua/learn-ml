{
 "cells": [
  {
   "cell_type": "markdown",
   "id": "0b289054-ea72-439c-8e64-2adc1b776820",
   "metadata": {},
   "source": [
    "### 最大值 最小值"
   ]
  },
  {
   "cell_type": "code",
   "id": "68952b1a-1099-4434-92cd-66addd8d3162",
   "metadata": {},
   "source": [
    "import numpy as np"
   ],
   "outputs": [],
   "execution_count": null
  },
  {
   "cell_type": "code",
   "id": "f7196999-0405-421f-aa87-bd0f85677190",
   "metadata": {},
   "source": [
    "X = np.random.normal(0, 1, size=1000000)\n",
    "X"
   ],
   "outputs": [],
   "execution_count": null
  },
  {
   "cell_type": "code",
   "id": "9a8ac1e3-43a7-40c6-9b36-6bc9a2f05965",
   "metadata": {},
   "source": [
    "np.min(X)"
   ],
   "outputs": [],
   "execution_count": null
  },
  {
   "cell_type": "code",
   "id": "bf979bdf-9daa-43c3-83c3-4b81521c0d4c",
   "metadata": {},
   "source": [
    "np.argmin(X)"
   ],
   "outputs": [],
   "execution_count": null
  },
  {
   "cell_type": "code",
   "id": "4b405aa1-248f-485b-8650-5d6c36cf1d35",
   "metadata": {},
   "source": [
    "np.argmax(X)"
   ],
   "outputs": [],
   "execution_count": null
  },
  {
   "cell_type": "code",
   "id": "501f9065-6d4f-4bad-97a7-ce84db8a198a",
   "metadata": {},
   "source": [
    "x = np.arange(10)\n",
    "x"
   ],
   "outputs": [],
   "execution_count": null
  },
  {
   "cell_type": "code",
   "id": "7f5af702-3cc0-4c38-902c-c9f0b728fb67",
   "metadata": {},
   "source": [
    "np.random.shuffle(x)"
   ],
   "outputs": [],
   "execution_count": null
  },
  {
   "cell_type": "code",
   "id": "933b8ef0-785e-4657-a07d-f503adf3f36a",
   "metadata": {},
   "source": [
    "x"
   ],
   "outputs": [],
   "execution_count": null
  },
  {
   "cell_type": "code",
   "id": "24b85439-fb77-40a1-960a-ae638460ad5a",
   "metadata": {},
   "source": [
    "np.sort(x)"
   ],
   "outputs": [],
   "execution_count": null
  },
  {
   "cell_type": "code",
   "id": "ceaed8d8-0e8e-43c0-8b13-720e26eee987",
   "metadata": {},
   "source": [
    "x"
   ],
   "outputs": [],
   "execution_count": null
  },
  {
   "cell_type": "code",
   "id": "42e14331-cb4f-4c38-a364-8cfd9d40a550",
   "metadata": {},
   "source": [
    "x.sort()"
   ],
   "outputs": [],
   "execution_count": null
  },
  {
   "cell_type": "code",
   "id": "c4345138-9021-4c3a-bd0b-123ace9df87f",
   "metadata": {},
   "source": [
    "x"
   ],
   "outputs": [],
   "execution_count": null
  },
  {
   "cell_type": "markdown",
   "id": "3558338e-2466-42ed-9670-f4c0ef2d1278",
   "metadata": {},
   "source": [
    "### 使用索引"
   ]
  },
  {
   "cell_type": "code",
   "id": "52f03c5c-28f6-436f-8a3d-b31d81944f7a",
   "metadata": {},
   "source": [
    "np.random.shuffle(x)\n",
    "x"
   ],
   "outputs": [],
   "execution_count": null
  },
  {
   "cell_type": "markdown",
   "id": "8fcb0921-8f29-440c-b4ac-999c33289120",
   "metadata": {},
   "source": [
    "#### Partition 分区"
   ]
  },
  {
   "cell_type": "code",
   "id": "aacd7f21-b286-4f01-86b0-9970cbb03b2a",
   "metadata": {},
   "source": [
    "np.partition(x, 7)"
   ],
   "outputs": [],
   "execution_count": null
  },
  {
   "cell_type": "code",
   "id": "5945212c-4d6b-47b9-b0b9-c0968c135ce6",
   "metadata": {},
   "source": [
    "np.argpartition(x, 5)"
   ],
   "outputs": [],
   "execution_count": null
  },
  {
   "cell_type": "markdown",
   "id": "05545c9f-6c00-4bdc-af10-ca532abe8a78",
   "metadata": {},
   "source": [
    "### 高维矩阵"
   ]
  },
  {
   "cell_type": "code",
   "id": "1385ce08-0c9e-4f06-9ed2-168218841e18",
   "metadata": {},
   "source": [
    "X = np.random.randint(10, size=(5,6))\n",
    "X"
   ],
   "outputs": [],
   "execution_count": null
  },
  {
   "cell_type": "code",
   "id": "a9cc68ac-94a0-4e2a-977a-ff25d23cce03",
   "metadata": {},
   "source": [
    "np.sort(X)"
   ],
   "outputs": [],
   "execution_count": null
  },
  {
   "cell_type": "code",
   "id": "d4f006d5-a9c9-4350-b6d0-244e1e7c3779",
   "metadata": {},
   "source": [
    "np.sort(X, axis = 1)"
   ],
   "outputs": [],
   "execution_count": null
  },
  {
   "cell_type": "code",
   "id": "2fdc9674-1249-4d1f-95d4-f77b7b76904c",
   "metadata": {},
   "source": [
    "np.argsort(X ,axis = 1)"
   ],
   "outputs": [],
   "execution_count": null
  },
  {
   "cell_type": "code",
   "id": "21718391-4790-467e-8769-febcba0fcdc5",
   "metadata": {},
   "source": [
    "np.argpartition(X , 2, axis = 1)"
   ],
   "outputs": [],
   "execution_count": null
  },
  {
   "cell_type": "code",
   "id": "ea2cb3b9-619f-4cfc-9467-98953b889999",
   "metadata": {},
   "source": [],
   "outputs": [],
   "execution_count": null
  }
 ],
 "metadata": {
  "kernelspec": {
   "display_name": "all",
   "language": "python",
   "name": "python3"
  },
  "language_info": {
   "codemirror_mode": {
    "name": "ipython",
    "version": 3
   },
   "file_extension": ".py",
   "mimetype": "text/x-python",
   "name": "python",
   "nbconvert_exporter": "python",
   "pygments_lexer": "ipython3",
   "version": "3.12.2"
  }
 },
 "nbformat": 4,
 "nbformat_minor": 5
}
