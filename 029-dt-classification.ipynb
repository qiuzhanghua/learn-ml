{
 "cells": [
  {
   "metadata": {},
   "cell_type": "markdown",
   "source": "### 二分类信息熵",
   "id": "3ea4e1a8e2a32633"
  },
  {
   "metadata": {},
   "cell_type": "code",
   "source": [
    "import numpy as np\n",
    "import matplotlib.pyplot as plt"
   ],
   "id": "30ae0d3b04a0ab3b",
   "outputs": [],
   "execution_count": null
  },
  {
   "metadata": {},
   "cell_type": "code",
   "source": [
    "def entropy(p):\n",
    "    return -p * np.log(p) - (1 - p) * np.log(1 - p)"
   ],
   "id": "89338390bcd8f277",
   "outputs": [],
   "execution_count": null
  },
  {
   "metadata": {},
   "cell_type": "code",
   "source": [
    "x = np.linspace(0.001, 0.999, 100)\n",
    "plt.plot(x, entropy(x))\n",
    "plt.show()"
   ],
   "id": "f22db76f6a3b6d5d",
   "outputs": [],
   "execution_count": null
  },
  {
   "metadata": {},
   "cell_type": "markdown",
   "source": "### 数据集",
   "id": "9d65e3e0c57bb601"
  },
  {
   "metadata": {},
   "cell_type": "code",
   "source": [
    "from sklearn import datasets\n",
    "iris = datasets.load_iris()\n",
    "X = iris.data[:, 1:3]\n",
    "y = iris.target"
   ],
   "id": "60d17bf2f3a46c73",
   "outputs": [],
   "execution_count": null
  },
  {
   "metadata": {},
   "cell_type": "code",
   "source": [
    "# plt.scatter(X[y==0, 0], X[y==0, 1])\n",
    "# plt.scatter(X[y==1, 0], X[y==1, 1])\n",
    "# plt.scatter(X[y==2, 0], X[y==2, 1])\n",
    "# or\n",
    "plt.scatter(X[:,0], X[:,1], c = y)\n",
    "plt.show()"
   ],
   "id": "a6a2aec9661da51",
   "outputs": [],
   "execution_count": null
  },
  {
   "metadata": {},
   "cell_type": "code",
   "source": [
    "from sklearn.tree import DecisionTreeClassifier\n",
    "dt_clf = DecisionTreeClassifier(max_depth=2, criterion=\"entropy\")\n",
    "dt_clf.fit(X, y)"
   ],
   "id": "9bfce505d48c78db",
   "outputs": [],
   "execution_count": null
  },
  {
   "metadata": {},
   "cell_type": "code",
   "source": [
    "def decision_boundary_plot(X, y, clf):\n",
    "    axis_x1_min, axis_x1_max = X[:, 0].min(), X[:, 0].max()\n",
    "    axis_x2_min, axis_x2_max = X[:, 1].min(), X[:, 1].max()\n",
    "    \n",
    "    x1, x2 = np.meshgrid(np.linspace(axis_x1_min, axis_x1_max, 1000), np.linspace(axis_x2_min, axis_x2_max, 1000))\n",
    "    z = clf.predict(np.c_[x1.ravel(), x2.ravel()])\n",
    "    z = z.reshape(x1.shape)\n",
    "    \n",
    "    from matplotlib.colors import ListedColormap\n",
    "    custom_cmap = ListedColormap(['#F5B9FF', '#FFFFFF', '#F9F9CB'])\n",
    "    \n",
    "    plt.contourf(x1, x2, z, cmap=custom_cmap)\n",
    "    plt.scatter(X[:, 0], X[:, 1], c=y)\n",
    " \n",
    "    plt.show()"
   ],
   "id": "9e3d285f2b647885",
   "outputs": [],
   "execution_count": null
  },
  {
   "metadata": {},
   "cell_type": "code",
   "source": "decision_boundary_plot(X, y, dt_clf)",
   "id": "a2aae26180d13be9",
   "outputs": [],
   "execution_count": null
  },
  {
   "metadata": {},
   "cell_type": "code",
   "source": [
    "from sklearn.tree import plot_tree\n",
    "plot_tree(dt_clf)"
   ],
   "id": "f5f0e6524616c9eb",
   "outputs": [],
   "execution_count": null
  },
  {
   "metadata": {},
   "cell_type": "markdown",
   "source": "### 最优划分条件",
   "id": "772dbf54892f50fa"
  },
  {
   "metadata": {},
   "cell_type": "code",
   "source": [
    "from collections import Counter\n",
    "Counter(y)"
   ],
   "id": "955cc98f87941e3b",
   "outputs": [],
   "execution_count": null
  },
  {
   "metadata": {},
   "cell_type": "code",
   "source": [
    "def calc_entropy(y):\n",
    "    res = 0\n",
    "    for v in Counter(y).values():\n",
    "        p = v / len(y)\n",
    "        res += -p * np.log2(p)\n",
    "    return res"
   ],
   "id": "1484a54f4c6769e8",
   "outputs": [],
   "execution_count": null
  },
  {
   "metadata": {},
   "cell_type": "code",
   "source": "calc_entropy(y)",
   "id": "92385c56696c4b7e",
   "outputs": [],
   "execution_count": null
  },
  {
   "metadata": {},
   "cell_type": "code",
   "source": [
    "def split_dataset(X, y, dim, value):\n",
    "    index_a = (X[:, dim] <= value)\n",
    "    index_b = (X[:, dim] > value)\n",
    "    return X[index_a], X[index_b], y[index_a], y[index_b]"
   ],
   "id": "ea70f7be1fa85af0",
   "outputs": [],
   "execution_count": null
  },
  {
   "metadata": {},
   "cell_type": "code",
   "source": [
    "def try_split(X, y):\n",
    "    best_entropy = float('inf')\n",
    "    best_dim, best_value = -1, -1\n",
    "    best_entropy_left, best_entropy_right = None, None\n",
    "    for dim in range(X.shape[1]):\n",
    "        sorted_index = np.argsort(X[:, dim])\n",
    "        for i in range(X.shape[0] - 1):\n",
    "            value_left, value_right = X[sorted_index[i], dim], X[sorted_index[i + 1], dim]\n",
    "            if value_left != value_right:\n",
    "                value = (value_left + value_right) / 2\n",
    "                X_l, X_r, y_l, y_r = split_dataset(X, y, dim, value)\n",
    "                entropy_l = calc_entropy(y_l)\n",
    "                entropy_r = calc_entropy(y_r)\n",
    "                e = (len(X_l) * entropy_l + len(X_r) * entropy_r) / X.shape[0]\n",
    "                if e < best_entropy:\n",
    "                    best_entropy, best_dim, best_value = e, dim, value\n",
    "                    best_entropy_left, best_entropy_right = entropy_l, entropy_r\n",
    "    return best_dim, best_value, best_entropy, best_entropy_left, best_entropy_right\n"
   ],
   "id": "84af4a2d03429986",
   "outputs": [],
   "execution_count": null
  },
  {
   "metadata": {},
   "cell_type": "code",
   "source": "try_split(X, y)",
   "id": "d06370d55596266a",
   "outputs": [],
   "execution_count": null
  },
  {
   "metadata": {},
   "cell_type": "code",
   "source": [
    "x_left, x_right, y_left, y_right = split_dataset(X, y, 1, 2.45)\n",
    "try_split(x_right, y_right)\n"
   ],
   "id": "35f2ba9fc82eeb9c",
   "outputs": [],
   "execution_count": null
  }
 ],
 "metadata": {
  "kernelspec": {
   "display_name": "Python 3",
   "language": "python",
   "name": "python3"
  },
  "language_info": {
   "codemirror_mode": {
    "name": "ipython",
    "version": 2
   },
   "file_extension": ".py",
   "mimetype": "text/x-python",
   "name": "python",
   "nbconvert_exporter": "python",
   "pygments_lexer": "ipython2",
   "version": "2.7.6"
  }
 },
 "nbformat": 4,
 "nbformat_minor": 5
}
