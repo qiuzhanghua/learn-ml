{
 "cells": [
  {
   "cell_type": "code",
   "id": "initial_id",
   "metadata": {},
   "source": [
    "import numpy as np\n",
    "import matplotlib.pyplot as plt\n",
    "from sklearn.model_selection import train_test_split\n",
    "from sklearn.linear_model import LogisticRegression\n",
    "from sklearn.datasets import make_classification"
   ],
   "outputs": [],
   "execution_count": null
  },
  {
   "cell_type": "code",
   "id": "1a1c63f6b9e2cf30",
   "metadata": {},
   "source": "x, y = make_classification(n_samples=200, n_features=2, n_redundant=0, n_classes=2,n_clusters_per_class=1, random_state=1024)",
   "outputs": [],
   "execution_count": null
  },
  {
   "metadata": {},
   "cell_type": "code",
   "source": "x_train, x_test, y_train, y_test = train_test_split(x, y, test_size=0.3, random_state=1024)",
   "id": "c1e5fe7afe303206",
   "outputs": [],
   "execution_count": null
  },
  {
   "metadata": {},
   "cell_type": "code",
   "source": "clf = LogisticRegression()",
   "id": "a08e2ec5e282b4dc",
   "outputs": [],
   "execution_count": null
  },
  {
   "metadata": {},
   "cell_type": "code",
   "source": "clf.fit(x_train, y_train)",
   "id": "b1892668ed5287f7",
   "outputs": [],
   "execution_count": null
  },
  {
   "metadata": {},
   "cell_type": "code",
   "source": "clf.score(x_test, y_test)",
   "id": "9c5c40a69482dbd8",
   "outputs": [],
   "execution_count": null
  },
  {
   "metadata": {},
   "cell_type": "code",
   "source": [
    "plt.scatter(x[:, 0], x[:, 1], c=y)\n",
    "plt.show()"
   ],
   "id": "68aac0f5d9759f2a",
   "outputs": [],
   "execution_count": null
  },
  {
   "metadata": {},
   "cell_type": "code",
   "source": "clf.coef_ # w1, w2",
   "id": "499655bcade71d29",
   "outputs": [],
   "execution_count": null
  },
  {
   "metadata": {},
   "cell_type": "code",
   "source": "clf.intercept_ # w0",
   "id": "cbfae33d3acc8944",
   "outputs": [],
   "execution_count": null
  },
  {
   "metadata": {},
   "cell_type": "code",
   "source": [
    "x1 = np.linspace(-3, 3, 1000)\n",
    "x2 = -(clf.coef_[0][0] * x1 + clf.intercept_) / clf.coef_[0][1]\n",
    "plt.scatter(x[:, 0], x[:, 1], c=y)\n",
    "plt.plot(x1, x2)\n",
    "plt.show()"
   ],
   "id": "f7ff9ae8e25d4acd",
   "outputs": [],
   "execution_count": null
  },
  {
   "metadata": {},
   "cell_type": "markdown",
   "source": "### 绘制决策边界",
   "id": "eb711b025ec382b5"
  },
  {
   "metadata": {},
   "cell_type": "code",
   "source": [
    "def decision_boundary_plot(X, y, clf):\n",
    "    axis_x1_min, axis_x1_max = X[:, 0].min(), X[:, 0].max()\n",
    "    axis_x2_min, axis_x2_max = X[:, 1].min(), X[:, 1].max()\n",
    "    \n",
    "    x1, x2 = np.meshgrid(np.linspace(axis_x1_min, axis_x1_max, 1000), np.linspace(axis_x2_min, axis_x2_max, 1000))\n",
    "    z = clf.predict(np.c_[x1.ravel(), x2.ravel()])\n",
    "    z = z.reshape(x1.shape)\n",
    "    \n",
    "    from matplotlib.colors import ListedColormap\n",
    "    custom_cmap = ListedColormap(['#F5B9FF', '#FFFFFF', '#F9F9CB'])\n",
    "    \n",
    "    plt.contourf(x1, x2, z, cmap=custom_cmap)\n",
    "    plt.scatter(X[:, 0], X[:, 1], c=y)\n",
    " \n",
    "    plt.show()"
   ],
   "id": "a74f89b73b91ecaa",
   "outputs": [],
   "execution_count": null
  },
  {
   "metadata": {},
   "cell_type": "code",
   "source": "decision_boundary_plot(x, y, clf)",
   "id": "d02a611a42c802d8",
   "outputs": [],
   "execution_count": null
  },
  {
   "metadata": {},
   "cell_type": "markdown",
   "source": "### 三分类的决策边界",
   "id": "7e486afc4d0d69f7"
  },
  {
   "metadata": {},
   "cell_type": "code",
   "source": [
    "from sklearn import datasets\n",
    "iris = datasets.load_iris()\n",
    "X = iris.data[:, :2]\n",
    "y = iris.target\n",
    "x_train, x_test, y_train, y_test = train_test_split(X, y, random_state=666)\n",
    "plt.scatter(X[:, 0], X[:, 1], c=y)\n",
    "plt.show()"
   ],
   "id": "c95aad9d94ae8794",
   "outputs": [],
   "execution_count": null
  },
  {
   "metadata": {},
   "cell_type": "code",
   "source": [
    "model = clf.fit(x_train, y_train)\n",
    "model.score(x_test, y_test)"
   ],
   "id": "b9731038be7244f6",
   "outputs": [],
   "execution_count": null
  },
  {
   "metadata": {},
   "cell_type": "code",
   "source": "decision_boundary_plot(X, y, model)",
   "id": "70bb9f7821f46676",
   "outputs": [],
   "execution_count": null
  },
  {
   "metadata": {},
   "cell_type": "markdown",
   "source": "### 多项式逻辑回归的决策边界",
   "id": "177c7c336679b1e9"
  },
  {
   "metadata": {},
   "cell_type": "code",
   "source": [
    "np.random.seed(0)\n",
    "x = np.random.normal(0, 1, (200, 2))\n",
    "y = np.array(x[:, 0]**2 + x[:, 1]**2 < 2, dtype=int)\n",
    "x_train, x_test, y_train, y_test = train_test_split(x, y, random_state=666)\n",
    "plt.scatter(x[:, 0], x[:, 1], c=y)\n",
    "plt.show()"
   ],
   "id": "360ee19f9297a66d",
   "outputs": [],
   "execution_count": null
  },
  {
   "metadata": {},
   "cell_type": "code",
   "source": [
    "from sklearn.pipeline import Pipeline\n",
    "from sklearn.preprocessing import PolynomialFeatures\n",
    "from sklearn.preprocessing import StandardScaler"
   ],
   "id": "40903440254fd7ea",
   "outputs": [],
   "execution_count": null
  },
  {
   "metadata": {},
   "cell_type": "code",
   "source": [
    "clf_pipe = Pipeline([\n",
    "    ('poly', PolynomialFeatures(degree=2)),\n",
    "    ('std', StandardScaler()),\n",
    "    ('clf', LogisticRegression())\n",
    "])"
   ],
   "id": "48eb823becac3970",
   "outputs": [],
   "execution_count": null
  },
  {
   "metadata": {},
   "cell_type": "code",
   "source": [
    "model = clf_pipe.fit(x_train, y_train)\n",
    "model.score(x_test, y_test)"
   ],
   "id": "81d7dad7d617c75a",
   "outputs": [],
   "execution_count": null
  },
  {
   "metadata": {},
   "cell_type": "code",
   "source": "decision_boundary_plot(x, y, model)",
   "id": "a3a6933c11c2b6f5",
   "outputs": [],
   "execution_count": null
  },
  {
   "metadata": {},
   "cell_type": "code",
   "source": "",
   "id": "bd2164571e006517",
   "outputs": [],
   "execution_count": null
  }
 ],
 "metadata": {
  "kernelspec": {
   "display_name": "Python 3 (ipykernel)",
   "language": "python",
   "name": "python3"
  },
  "language_info": {
   "codemirror_mode": {
    "name": "ipython",
    "version": 3
   },
   "file_extension": ".py",
   "mimetype": "text/x-python",
   "name": "python",
   "nbconvert_exporter": "python",
   "pygments_lexer": "ipython3",
   "version": "3.11.8"
  }
 },
 "nbformat": 4,
 "nbformat_minor": 5
}
