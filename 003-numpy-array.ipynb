{
 "cells": [
  {
   "cell_type": "code",
   "execution_count": 1,
   "id": "e0a26e2d-b11b-43a0-acd0-875c15427a62",
   "metadata": {},
   "outputs": [],
   "source": [
    "import numpy as np"
   ]
  },
  {
   "cell_type": "markdown",
   "id": "1fe01980-69bd-4e24-97c7-3dfc16604bf7",
   "metadata": {},
   "source": [
    "### 创建numpy数组"
   ]
  },
  {
   "cell_type": "code",
   "execution_count": null,
   "id": "98a9c11f-3fdb-4352-816a-c679af8f88a5",
   "metadata": {},
   "outputs": [],
   "source": [
    "a = np.array([1,2,3,4,5,6])\n",
    "a"
   ]
  },
  {
   "cell_type": "code",
   "execution_count": null,
   "id": "138c3b80-06b1-47f7-86c9-47c598e57a03",
   "metadata": {},
   "outputs": [],
   "source": [
    "A = np.array(\n",
    "    [\n",
    "        [1,2,3],\n",
    "        [4,5,6]\n",
    "    ]\n",
    ")\n",
    "A"
   ]
  },
  {
   "cell_type": "markdown",
   "id": "df01d36e-74e9-407a-bb5b-8f09f83dd0d3",
   "metadata": {},
   "source": [
    "### Numpy属性"
   ]
  },
  {
   "cell_type": "code",
   "execution_count": null,
   "id": "83391137-8345-4d3d-a376-8459f222173d",
   "metadata": {},
   "outputs": [],
   "source": [
    "a.ndim"
   ]
  },
  {
   "cell_type": "code",
   "execution_count": null,
   "id": "29a290e4-98d4-426a-b0d2-199988313767",
   "metadata": {},
   "outputs": [],
   "source": [
    "a.shape"
   ]
  },
  {
   "cell_type": "code",
   "execution_count": null,
   "id": "b90236e2-7b67-4d12-9879-482d4f0efaa1",
   "metadata": {},
   "outputs": [],
   "source": [
    "A.ndim"
   ]
  },
  {
   "cell_type": "code",
   "execution_count": null,
   "id": "3b1a655a-fcbf-43bd-b76c-65262310e2bd",
   "metadata": {},
   "outputs": [],
   "source": [
    "A.shape"
   ]
  },
  {
   "cell_type": "code",
   "execution_count": null,
   "id": "493e4103-3bdc-4e95-b507-b60a0578624e",
   "metadata": {},
   "outputs": [],
   "source": [
    "a.size"
   ]
  },
  {
   "cell_type": "code",
   "execution_count": null,
   "id": "5bf2be13-95cc-4bd0-ac2c-66eb56097ae3",
   "metadata": {},
   "outputs": [],
   "source": [
    "A.size"
   ]
  },
  {
   "cell_type": "code",
   "execution_count": null,
   "id": "e043459e-d95c-4058-b5c8-8d99781e4275",
   "metadata": {},
   "outputs": [],
   "source": [
    "a.dtype"
   ]
  },
  {
   "cell_type": "code",
   "execution_count": null,
   "id": "ffb6d46a-6b6b-4313-90a0-4c502e5d919c",
   "metadata": {},
   "outputs": [],
   "source": [
    "A.dtype"
   ]
  },
  {
   "cell_type": "markdown",
   "id": "91fa2514-58d7-4538-9cec-d3576133e5a4",
   "metadata": {},
   "source": [
    "### 创建数组的便捷函数"
   ]
  },
  {
   "cell_type": "markdown",
   "id": "deb0cf8e-459b-430a-93fb-f1848304de89",
   "metadata": {},
   "source": [
    "#### ones"
   ]
  },
  {
   "cell_type": "code",
   "execution_count": null,
   "id": "f741a30a-32a4-48cd-a334-1af668dc8d63",
   "metadata": {},
   "outputs": [],
   "source": [
    "np.ones(8)"
   ]
  },
  {
   "cell_type": "code",
   "execution_count": null,
   "id": "7df3b0a4-25f9-4d98-8f87-988b853f35b3",
   "metadata": {},
   "outputs": [],
   "source": [
    "np.ones(8).dtype"
   ]
  },
  {
   "cell_type": "code",
   "execution_count": null,
   "id": "af520817-46ae-433a-9fff-ceaa6fe66dd0",
   "metadata": {},
   "outputs": [],
   "source": [
    "np.ones(8, dtype='int64')"
   ]
  },
  {
   "cell_type": "code",
   "execution_count": null,
   "id": "a7bbe5cc-2ac8-4304-acfd-1871adefdff4",
   "metadata": {},
   "outputs": [],
   "source": [
    "np.ones((2,4))"
   ]
  },
  {
   "cell_type": "code",
   "execution_count": null,
   "id": "38f7e40c-48ae-48e9-b340-9c2ed4c71825",
   "metadata": {},
   "outputs": [],
   "source": [
    "np.ones_like(A)"
   ]
  },
  {
   "cell_type": "markdown",
   "id": "e7c7cc0c-5fa5-4b7f-9118-4c0b288b41c2",
   "metadata": {},
   "source": [
    "#### zeros"
   ]
  },
  {
   "cell_type": "code",
   "execution_count": null,
   "id": "113bb2b7-a48e-4968-bedf-4587a8022566",
   "metadata": {},
   "outputs": [],
   "source": [
    "np.zeros(8)"
   ]
  },
  {
   "cell_type": "code",
   "execution_count": null,
   "id": "61772bad-5c1b-4222-ae8b-2c95ebca752d",
   "metadata": {},
   "outputs": [],
   "source": [
    "np.zeros((2,3))"
   ]
  },
  {
   "cell_type": "code",
   "execution_count": null,
   "id": "9bd09007-d366-42b1-a8e6-627e4b1fa9e1",
   "metadata": {},
   "outputs": [],
   "source": [
    "np.zeros_like(A)"
   ]
  },
  {
   "cell_type": "markdown",
   "id": "88ca491a-e4e6-47fe-b8dc-ce4ccc00f873",
   "metadata": {},
   "source": [
    "#### full"
   ]
  },
  {
   "cell_type": "code",
   "execution_count": null,
   "id": "8ba21a26-7742-4529-b5c2-29c8fac1c011",
   "metadata": {},
   "outputs": [],
   "source": [
    "np.full(7, 9.9)"
   ]
  },
  {
   "cell_type": "code",
   "execution_count": null,
   "id": "df127657-97e0-45c4-bb63-0dedeeac4843",
   "metadata": {},
   "outputs": [],
   "source": [
    "np.full((2,5), 10)"
   ]
  },
  {
   "cell_type": "code",
   "execution_count": null,
   "id": "060813f5-2b38-45b5-ad9d-cac3c0db71fe",
   "metadata": {},
   "outputs": [],
   "source": [
    "np.full_like(A, 3.0)"
   ]
  },
  {
   "cell_type": "markdown",
   "id": "87e0a299-4600-48e4-a238-4a399ff69f77",
   "metadata": {},
   "source": [
    "#### empty"
   ]
  },
  {
   "cell_type": "code",
   "execution_count": null,
   "id": "5431a091-0170-47e7-84a9-b5d3b5750ede",
   "metadata": {},
   "outputs": [],
   "source": [
    "np.empty(9)"
   ]
  },
  {
   "cell_type": "code",
   "execution_count": null,
   "id": "03566851-8098-4d20-82cf-81ab473fe851",
   "metadata": {},
   "outputs": [],
   "source": [
    "np.empty((3,4))"
   ]
  },
  {
   "cell_type": "code",
   "execution_count": null,
   "id": "9f2b4d18-6534-47cc-b662-58ab78f9233d",
   "metadata": {},
   "outputs": [],
   "source": [
    "np.empty_like(A)"
   ]
  },
  {
   "cell_type": "markdown",
   "id": "3f997cab-162b-4b3d-b3e8-c95b8521bf01",
   "metadata": {},
   "source": [
    "#### arange"
   ]
  },
  {
   "cell_type": "code",
   "execution_count": null,
   "id": "a386f1e3-9cac-4bc7-9cd8-61fbaa291f1b",
   "metadata": {},
   "outputs": [],
   "source": [
    "np.arange(11)"
   ]
  },
  {
   "cell_type": "code",
   "execution_count": null,
   "id": "8b870b72-20ba-4534-bca8-16357d444ace",
   "metadata": {},
   "outputs": [],
   "source": [
    "np.arange(1,20,2)"
   ]
  },
  {
   "cell_type": "code",
   "execution_count": null,
   "id": "3ad86b22-a61d-4541-b874-6709f241bfae",
   "metadata": {},
   "outputs": [],
   "source": [
    "np.arange(12).reshape(3,4)"
   ]
  },
  {
   "cell_type": "markdown",
   "id": "a022e80b-ab9a-4e3d-9295-39d25e009a2e",
   "metadata": {},
   "source": [
    "#### linspace"
   ]
  },
  {
   "cell_type": "code",
   "execution_count": null,
   "id": "68d2490e-635b-48be-af53-771948cdab77",
   "metadata": {},
   "outputs": [],
   "source": [
    "np.linspace(0, 10, 5)"
   ]
  },
  {
   "cell_type": "markdown",
   "id": "4805c0b8-ab75-4dd3-9bd1-21d014c8a757",
   "metadata": {},
   "source": [
    "#### Random"
   ]
  },
  {
   "cell_type": "markdown",
   "id": "9d819ce9-334a-43ad-a0d8-ae0b7ba552d9",
   "metadata": {},
   "source": [
    "random"
   ]
  },
  {
   "cell_type": "code",
   "execution_count": null,
   "id": "231ad845-12d1-4dfd-a964-243e1ae9570f",
   "metadata": {},
   "outputs": [],
   "source": [
    "np.random.random()"
   ]
  },
  {
   "cell_type": "code",
   "execution_count": null,
   "id": "716181c2-7a3e-4404-8e5c-a64d453ef391",
   "metadata": {},
   "outputs": [],
   "source": [
    "np.random.random(5)"
   ]
  },
  {
   "cell_type": "code",
   "execution_count": null,
   "id": "573dbeee-53f2-483b-a9d5-a7eed786b3b5",
   "metadata": {},
   "outputs": [],
   "source": [
    "np.random.random((2,3))"
   ]
  },
  {
   "cell_type": "markdown",
   "id": "4d532f57-7653-4449-9066-faa903f2d82a",
   "metadata": {},
   "source": [
    "rand"
   ]
  },
  {
   "cell_type": "code",
   "execution_count": null,
   "id": "7bdc35c3-3e0d-402a-a37b-8e15f8fec0a8",
   "metadata": {},
   "outputs": [],
   "source": [
    "np.random.rand()"
   ]
  },
  {
   "cell_type": "code",
   "execution_count": null,
   "id": "1ffca706-6d02-4f90-a801-9cd9accdbdc3",
   "metadata": {},
   "outputs": [],
   "source": [
    "np.random.rand(6)"
   ]
  },
  {
   "cell_type": "code",
   "execution_count": null,
   "id": "56f05a01-16e8-4bc6-a215-53da2c90249b",
   "metadata": {},
   "outputs": [],
   "source": [
    "np.random.rand(2,3,4)"
   ]
  },
  {
   "cell_type": "markdown",
   "id": "17ade5ce-a80e-479f-b5cf-c760ff1e25ed",
   "metadata": {},
   "source": [
    "randint"
   ]
  },
  {
   "cell_type": "code",
   "execution_count": null,
   "id": "06472b91-6dc3-4df4-b208-58c6e1879f38",
   "metadata": {},
   "outputs": [],
   "source": [
    "np.random.randint(10)"
   ]
  },
  {
   "cell_type": "code",
   "execution_count": null,
   "id": "123ef8da-44e0-49e5-9149-8e679241b1cc",
   "metadata": {},
   "outputs": [],
   "source": [
    "np.random.randint(3, 7, 10)"
   ]
  },
  {
   "cell_type": "code",
   "execution_count": null,
   "id": "febbf6a0-1afd-4561-9b68-8b68e5334d8c",
   "metadata": {},
   "outputs": [],
   "source": [
    "np.random.randint(2, 5, size=8)"
   ]
  },
  {
   "cell_type": "code",
   "execution_count": null,
   "id": "b0db09f9-cf04-44fa-be09-8b3c1fa0bb71",
   "metadata": {},
   "outputs": [],
   "source": [
    "np.random.randint(2, 5, size=(2,4))"
   ]
  },
  {
   "cell_type": "markdown",
   "id": "e6f65a13-6863-49f7-ae3f-03b78d7ab775",
   "metadata": {},
   "source": [
    "seed"
   ]
  },
  {
   "cell_type": "code",
   "execution_count": null,
   "id": "535d0144-c824-4b15-8629-1dfac27c7d4c",
   "metadata": {},
   "outputs": [],
   "source": [
    "np.random.seed(47)\n",
    "np.random.randint(1, 10, size=10).reshape(2,5)"
   ]
  },
  {
   "cell_type": "markdown",
   "id": "7cd3cb3f-d7ef-41e9-8f90-f8fbb13f3b08",
   "metadata": {},
   "source": [
    "randn"
   ]
  },
  {
   "cell_type": "code",
   "execution_count": null,
   "id": "92ba5604-dd3d-4eaf-9a20-61046386f046",
   "metadata": {},
   "outputs": [],
   "source": [
    "np.random.randn(5)"
   ]
  },
  {
   "cell_type": "code",
   "execution_count": null,
   "id": "58762ac2-b2ae-4469-a608-efc6f89aedae",
   "metadata": {},
   "outputs": [],
   "source": [
    "np.random.rand(3,4)"
   ]
  },
  {
   "cell_type": "markdown",
   "id": "c24acf0d-eabf-4ada-8828-540add603451",
   "metadata": {},
   "source": [
    "#### normal"
   ]
  },
  {
   "cell_type": "code",
   "execution_count": null,
   "id": "05f7f1fd-bc1d-42b7-9ea4-0435afd471c0",
   "metadata": {},
   "outputs": [],
   "source": [
    "np.random.normal()"
   ]
  },
  {
   "cell_type": "markdown",
   "id": "f4f9c07a-81d9-44ab-b9bd-6c63ab7c13c2",
   "metadata": {},
   "source": [
    "mu = avg = 10, sigma = std = 1000, 20 numbers"
   ]
  },
  {
   "cell_type": "code",
   "execution_count": null,
   "id": "59eacca4-63e5-40af-a507-d4c9146e90ee",
   "metadata": {},
   "outputs": [],
   "source": [
    "np.random.normal(10, 1000, 20)"
   ]
  },
  {
   "cell_type": "code",
   "execution_count": null,
   "id": "71f22664-a04d-45ed-aefc-2fd91bcd5042",
   "metadata": {},
   "outputs": [],
   "source": [
    "np.random.normal(10, 1000, size=(2,10))"
   ]
  },
  {
   "cell_type": "markdown",
   "id": "8e6b0f95-dbd4-4401-a337-671d63ff7456",
   "metadata": {},
   "source": [
    "#### uniform"
   ]
  },
  {
   "cell_type": "code",
   "execution_count": null,
   "id": "8860f19e-449c-4379-a39f-7cc7571ab7d7",
   "metadata": {},
   "outputs": [],
   "source": [
    "np.random.uniform()"
   ]
  },
  {
   "cell_type": "code",
   "execution_count": null,
   "id": "ce38d2c1-39dc-46a5-92da-f557317becc9",
   "metadata": {},
   "outputs": [],
   "source": [
    "np.random.uniform(size=(2,3))"
   ]
  },
  {
   "cell_type": "code",
   "execution_count": null,
   "id": "3d8d6542-d2f5-416c-a3f6-4c5cebd94fb2",
   "metadata": {},
   "outputs": [],
   "source": [
    "np.random.uniform(1,2, size=(3,4))"
   ]
  },
  {
   "cell_type": "markdown",
   "id": "23975e86-7c21-4519-8138-231d64e99792",
   "metadata": {},
   "source": [
    "### Help"
   ]
  },
  {
   "cell_type": "code",
   "execution_count": null,
   "id": "4b6bb340-632b-466f-9f21-1812c33e7555",
   "metadata": {},
   "outputs": [],
   "source": [
    "np.random.randn?"
   ]
  },
  {
   "cell_type": "code",
   "execution_count": null,
   "id": "d368a2d5-c85e-4df9-8182-11c5ee6aa66c",
   "metadata": {},
   "outputs": [],
   "source": [
    "help(np.random.normal)"
   ]
  },
  {
   "cell_type": "code",
   "execution_count": null,
   "id": "f8bf5115-b91d-4d15-aa6e-294c45010256",
   "metadata": {},
   "outputs": [],
   "source": []
  }
 ],
 "metadata": {
  "kernelspec": {
   "display_name": "all",
   "language": "python",
   "name": "python3"
  },
  "language_info": {
   "codemirror_mode": {
    "name": "ipython",
    "version": 3
   },
   "file_extension": ".py",
   "mimetype": "text/x-python",
   "name": "python",
   "nbconvert_exporter": "python",
   "pygments_lexer": "ipython3",
   "version": "3.12.2"
  }
 },
 "nbformat": 4,
 "nbformat_minor": 5
}
