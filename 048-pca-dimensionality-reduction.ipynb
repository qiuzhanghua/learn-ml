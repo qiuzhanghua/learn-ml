{
 "cells": [
  {
   "metadata": {},
   "cell_type": "markdown",
   "source": [
    "### 数据集\n",
    "Dimensionality Reduction"
   ],
   "id": "bb911e71273ccc35"
  },
  {
   "cell_type": "code",
   "id": "initial_id",
   "metadata": {
    "collapsed": true
   },
   "source": [
    "import numpy as np\n",
    "import pandas as pd\n",
    "import matplotlib.pyplot as plt"
   ],
   "outputs": [],
   "execution_count": null
  },
  {
   "metadata": {},
   "cell_type": "code",
   "source": [
    "from sklearn.datasets import load_digits\n",
    "digits = load_digits()\n",
    "x = digits.data\n",
    "y = digits.target"
   ],
   "id": "76b68c694c5e893a",
   "outputs": [],
   "execution_count": null
  },
  {
   "metadata": {},
   "cell_type": "code",
   "source": [
    "from sklearn.model_selection import train_test_split\n",
    "x_train, x_test, y_train, y_test = train_test_split(x, y, random_state=233)"
   ],
   "id": "f3510fcfb9568bf7",
   "outputs": [],
   "execution_count": null
  },
  {
   "metadata": {},
   "cell_type": "code",
   "source": [
    "from sklearn.decomposition import PCA\n",
    "pca = PCA()\n",
    "pca.fit(x_train)"
   ],
   "id": "228f5bc03537a776",
   "outputs": [],
   "execution_count": null
  },
  {
   "metadata": {},
   "cell_type": "code",
   "source": "pca.explained_variance_",
   "id": "7937a2bc7cfb0e0d",
   "outputs": [],
   "execution_count": null
  },
  {
   "metadata": {},
   "cell_type": "code",
   "source": "pca.explained_variance_ratio_",
   "id": "4ef67c06342ba823",
   "outputs": [],
   "execution_count": null
  },
  {
   "metadata": {},
   "cell_type": "code",
   "source": [
    "ratio_cum = np.cumsum(pca.explained_variance_ratio_)\n",
    "ratio_cum"
   ],
   "id": "87bdd7823efa80d3",
   "outputs": [],
   "execution_count": null
  },
  {
   "metadata": {},
   "cell_type": "code",
   "source": [
    "plt.plot(ratio_cum)\n",
    "plt.show()"
   ],
   "id": "79149fc5a73a9b78",
   "outputs": [],
   "execution_count": null
  },
  {
   "metadata": {},
   "cell_type": "code",
   "source": [
    "pca = PCA(n_components=0.9)\n",
    "pca.fit(x_train)"
   ],
   "id": "e0ec253fcb421bc0",
   "outputs": [],
   "execution_count": null
  },
  {
   "metadata": {},
   "cell_type": "code",
   "source": "pca.n_components_",
   "id": "f060111dfa1c2215",
   "outputs": [],
   "execution_count": null
  },
  {
   "metadata": {},
   "cell_type": "code",
   "source": [
    "x_train_pca = pca.transform(x_train)\n",
    "x_test_pca = pca.transform(x_test)"
   ],
   "id": "d2d78527414918e9",
   "outputs": [],
   "execution_count": null
  },
  {
   "metadata": {},
   "cell_type": "code",
   "source": "x_train.shape, x_train_pca.shape",
   "id": "f2a79f3ed5d6e7d8",
   "outputs": [],
   "execution_count": null
  },
  {
   "metadata": {},
   "cell_type": "markdown",
   "source": "### 模型训练",
   "id": "4791a2077a820b41"
  },
  {
   "metadata": {},
   "cell_type": "code",
   "source": [
    "from sklearn.linear_model import LogisticRegression\n",
    "clf = LogisticRegression(\n",
    "    solver='saga',\n",
    "    tol=1e-3,\n",
    "    max_iter=500,\n",
    "    random_state=233\n",
    ")"
   ],
   "id": "7a7de0b17da11548",
   "outputs": [],
   "execution_count": null
  },
  {
   "metadata": {},
   "cell_type": "code",
   "source": [
    "%%time\n",
    "clf.fit(x_train, y_train)\n",
    "clf.score(x_test, y_test)"
   ],
   "id": "e959963121ef2cb1",
   "outputs": [],
   "execution_count": null
  },
  {
   "metadata": {},
   "cell_type": "code",
   "source": [
    "%%time\n",
    "clf.fit(x_train_pca, y_train)\n",
    "clf.score(x_test_pca, y_test)"
   ],
   "id": "cb401883112b3fa6",
   "outputs": [],
   "execution_count": null
  },
  {
   "metadata": {},
   "cell_type": "markdown",
   "source": "### 可视化",
   "id": "935df3837bf59422"
  },
  {
   "metadata": {},
   "cell_type": "code",
   "source": [
    "pca = PCA(n_components=2)\n",
    "pca.fit(x)"
   ],
   "id": "38e10dcf451422db",
   "outputs": [],
   "execution_count": null
  },
  {
   "metadata": {},
   "cell_type": "code",
   "source": [
    "x_pca_2d = pca.transform(x_test)\n",
    "x_pca_2d.shape"
   ],
   "id": "944bc1c47941e18",
   "outputs": [],
   "execution_count": null
  },
  {
   "metadata": {},
   "cell_type": "code",
   "source": [
    "plt.rcParams['figure.figsize'] = (12, 6)\n",
    "for i, digit in enumerate(y_test):\n",
    "    plt.scatter(x_pca_2d[i, 0], \n",
    "                x_pca_2d[i, 1], \n",
    "                color=plt.cm.Dark2(digit), \n",
    "                marker=f'${digit}$'\n",
    "                ,s = 60, \n",
    "                alpha=0.6\n",
    "        )\n",
    "plt.show()"
   ],
   "id": "3f720d04327be829",
   "outputs": [],
   "execution_count": null
  }
 ],
 "metadata": {
  "kernelspec": {
   "display_name": "Python 3",
   "language": "python",
   "name": "python3"
  },
  "language_info": {
   "codemirror_mode": {
    "name": "ipython",
    "version": 2
   },
   "file_extension": ".py",
   "mimetype": "text/x-python",
   "name": "python",
   "nbconvert_exporter": "python",
   "pygments_lexer": "ipython2",
   "version": "2.7.6"
  }
 },
 "nbformat": 4,
 "nbformat_minor": 5
}
