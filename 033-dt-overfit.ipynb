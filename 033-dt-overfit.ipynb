{
 "cells": [
  {
   "cell_type": "code",
   "id": "initial_id",
   "metadata": {
    "collapsed": true
   },
   "source": [
    "import numpy as np\n",
    "import matplotlib.pyplot as plt"
   ],
   "outputs": [],
   "execution_count": null
  },
  {
   "metadata": {},
   "cell_type": "code",
   "source": [
    "from sklearn import datasets\n",
    "iris = datasets.load_iris()\n",
    "X = iris.data[:, 2:]  # petal length and width\n",
    "y = iris.target"
   ],
   "id": "4069ba21af336529",
   "outputs": [],
   "execution_count": null
  },
  {
   "metadata": {},
   "cell_type": "code",
   "source": [
    "from sklearn.tree import DecisionTreeClassifier\n",
    "dt_clf = DecisionTreeClassifier(max_depth=2, random_state=666)\n",
    "dt_clf.fit(X, y)"
   ],
   "id": "8cb152c3ec388686",
   "outputs": [],
   "execution_count": null
  },
  {
   "metadata": {},
   "cell_type": "code",
   "source": [
    "def decision_boundary_plot(X, y, clf):\n",
    "    axis_x1_min, axis_x1_max = X[:, 0].min(), X[:, 0].max()\n",
    "    axis_x2_min, axis_x2_max = X[:, 1].min(), X[:, 1].max()\n",
    "    \n",
    "    x1, x2 = np.meshgrid(np.arange(axis_x1_min, axis_x1_max, 0.01), np.arange(axis_x2_min, axis_x2_max, 0.01))\n",
    "    z = clf.predict(np.c_[x1.ravel(), x2.ravel()])\n",
    "    z = z.reshape(x1.shape)\n",
    "    \n",
    "    from matplotlib.colors import ListedColormap\n",
    "    custom_cmap = ListedColormap(['#F5B9FF', '#FFFFFF', '#F9F9CB'])\n",
    "    \n",
    "    plt.contourf(x1, x2, z, cmap=custom_cmap)\n",
    "    plt.scatter(X[:, 0], X[:, 1], c=y)\n",
    " \n",
    "    plt.show()"
   ],
   "id": "227009f414d5dcf0",
   "outputs": [],
   "execution_count": null
  },
  {
   "metadata": {},
   "cell_type": "code",
   "source": "decision_boundary_plot(X, y, dt_clf)",
   "id": "75a6c457a436104a",
   "outputs": [],
   "execution_count": null
  },
  {
   "metadata": {},
   "cell_type": "code",
   "source": [
    "X[130] = [6, 0.5]\n",
    "dt_clf.fit(X, y)\n",
    "decision_boundary_plot(X, y, dt_clf)"
   ],
   "id": "2f3d3a17bad8a8e7",
   "outputs": [],
   "execution_count": null
  }
 ],
 "metadata": {
  "kernelspec": {
   "display_name": "Python 3",
   "language": "python",
   "name": "python3"
  },
  "language_info": {
   "codemirror_mode": {
    "name": "ipython",
    "version": 2
   },
   "file_extension": ".py",
   "mimetype": "text/x-python",
   "name": "python",
   "nbconvert_exporter": "python",
   "pygments_lexer": "ipython2",
   "version": "2.7.6"
  }
 },
 "nbformat": 4,
 "nbformat_minor": 5
}
