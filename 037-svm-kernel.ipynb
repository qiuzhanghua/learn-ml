{
 "cells": [
  {
   "cell_type": "code",
   "id": "initial_id",
   "metadata": {
    "collapsed": true
   },
   "source": [
    "import numpy as np\n",
    "import matplotlib.pyplot as plt"
   ],
   "outputs": [],
   "execution_count": null
  },
  {
   "metadata": {},
   "cell_type": "code",
   "source": [
    "from sklearn.datasets import make_moons\n",
    "x, y = make_moons(n_samples=100, noise=0.2, random_state=0)\n",
    "plt.scatter(x[:, 0], x[:, 1], c=y)\n",
    "plt.show()"
   ],
   "id": "7085666f4c0b25a6",
   "outputs": [],
   "execution_count": null
  },
  {
   "metadata": {},
   "cell_type": "code",
   "source": [
    "from sklearn.svm import LinearSVC\n",
    "lsvc = LinearSVC().fit(x, y)"
   ],
   "id": "6de2180147e34aae",
   "outputs": [],
   "execution_count": null
  },
  {
   "metadata": {},
   "cell_type": "code",
   "source": [
    "def decision_boundary_plot(X, y, clf):\n",
    "    axis_x1_min, axis_x1_max = X[:, 0].min() - 1, X[:, 0].max() + 1\n",
    "    axis_x2_min, axis_x2_max = X[:, 1].min() - 1, X[:, 1].max() + 1\n",
    "    \n",
    "    x1, x2 = np.meshgrid(np.arange(axis_x1_min, axis_x1_max, 0.01), np.arange(axis_x2_min, axis_x2_max, 0.01))\n",
    "    z = clf.predict(np.c_[x1.ravel(), x2.ravel()])\n",
    "    z = z.reshape(x1.shape)\n",
    "    \n",
    "    from matplotlib.colors import ListedColormap\n",
    "    custom_cmap = ListedColormap(['#F5B9FF', '#FFFFFF', '#F9F9CB'])\n",
    "    \n",
    "    plt.contourf(x1, x2, z, cmap=custom_cmap)\n",
    "    plt.scatter(X[:, 0], X[:, 1], c=y)\n",
    " \n",
    "    plt.show()"
   ],
   "id": "531604837f6b65d",
   "outputs": [],
   "execution_count": null
  },
  {
   "metadata": {},
   "cell_type": "code",
   "source": "decision_boundary_plot(x, y, lsvc)",
   "id": "b983dc8c99419ffa",
   "outputs": [],
   "execution_count": null
  },
  {
   "metadata": {},
   "cell_type": "code",
   "source": [
    "from sklearn.preprocessing import PolynomialFeatures, StandardScaler\n",
    "from sklearn.pipeline import Pipeline"
   ],
   "id": "215d5ad4cd9eb448",
   "outputs": [],
   "execution_count": null
  },
  {
   "metadata": {},
   "cell_type": "code",
   "source": [
    "polynomial_svm_clf = Pipeline([\n",
    "    ('poly_features', PolynomialFeatures(degree=3)),\n",
    "    ('scaler', StandardScaler()),\n",
    "    ('svm_clf', LinearSVC())\n",
    "])\n",
    "polynomial_svm_clf.fit(x, y)"
   ],
   "id": "5f7b139c3fbd8bbd",
   "outputs": [],
   "execution_count": null
  },
  {
   "metadata": {},
   "cell_type": "code",
   "source": "decision_boundary_plot(x, y, polynomial_svm_clf)",
   "id": "1f4b4d21b9ff6ba1",
   "outputs": [],
   "execution_count": null
  },
  {
   "metadata": {},
   "cell_type": "markdown",
   "source": "### Kernel Trick",
   "id": "617849f90702d77"
  },
  {
   "metadata": {},
   "cell_type": "code",
   "source": [
    "from sklearn.svm import SVC\n",
    "poly_kernel_svm_clf = Pipeline([\n",
    "    ('scaler', StandardScaler()),\n",
    "    ('poly_svc', SVC(kernel='poly', degree=3))\n",
    "])\n",
    "poly_kernel_svm_clf.fit(x, y)"
   ],
   "id": "a8b841d89b9ba12a",
   "outputs": [],
   "execution_count": null
  },
  {
   "metadata": {},
   "cell_type": "code",
   "source": "decision_boundary_plot(x, y, poly_kernel_svm_clf)",
   "id": "ddb8c07a19d822b1",
   "outputs": [],
   "execution_count": null
  },
  {
   "metadata": {},
   "cell_type": "code",
   "source": [
    "from sklearn.svm import SVC\n",
    "\n",
    "rbf_kernel_svm_clf = Pipeline([\n",
    "    ('scaler', StandardScaler()),\n",
    "    ('rbf_svc', SVC(kernel='rbf', degree=3, coef0=5))\n",
    "])\n",
    "rbf_kernel_svm_clf.fit(x, y)"
   ],
   "id": "6a1a4ef7f392bf67",
   "outputs": [],
   "execution_count": null
  },
  {
   "metadata": {},
   "cell_type": "code",
   "source": "decision_boundary_plot(x, y, rbf_kernel_svm_clf)",
   "id": "aa7f85fce7729e58",
   "outputs": [],
   "execution_count": null
  },
  {
   "metadata": {},
   "cell_type": "code",
   "source": [
    "from sklearn.svm import SVC\n",
    "\n",
    "rbf_kernel_svm_clf = Pipeline([\n",
    "    ('scaler', StandardScaler()),\n",
    "    ('rbf_svc', SVC(kernel='rbf', gamma=5))\n",
    "])\n",
    "rbf_kernel_svm_clf.fit(x, y)\n",
    "decision_boundary_plot(x, y, rbf_kernel_svm_clf)"
   ],
   "id": "23f36010f5f62189",
   "outputs": [],
   "execution_count": null
  },
  {
   "metadata": {},
   "cell_type": "markdown",
   "source": [
    "#### 特征多且接近样本数，线性核\n",
    "#### 特征少，样本正常，高斯核\n",
    "#### 特征少，样本大，多项式核\n"
   ],
   "id": "ed0692d8552a29e9"
  }
 ],
 "metadata": {
  "kernelspec": {
   "display_name": "Python 3",
   "language": "python",
   "name": "python3"
  },
  "language_info": {
   "codemirror_mode": {
    "name": "ipython",
    "version": 2
   },
   "file_extension": ".py",
   "mimetype": "text/x-python",
   "name": "python",
   "nbconvert_exporter": "python",
   "pygments_lexer": "ipython2",
   "version": "2.7.6"
  }
 },
 "nbformat": 4,
 "nbformat_minor": 5
}
