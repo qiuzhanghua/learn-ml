{
 "cells": [
  {
   "cell_type": "code",
   "id": "initial_id",
   "metadata": {
    "collapsed": true
   },
   "source": [
    "import numpy as np\n",
    "import matplotlib.pyplot as plt\n",
    "from networkx.algorithms.bipartite.basic import color"
   ],
   "outputs": [],
   "execution_count": null
  },
  {
   "metadata": {},
   "cell_type": "code",
   "source": [
    "np.random.seed(233)\n",
    "x = np.random.uniform(-4, 2, size=100)\n",
    "y = x ** 2 + 4 * x + 3 + np.random.randn(100)\n",
    "\n",
    "X = x.reshape(-1, 1)"
   ],
   "id": "452b89a8719e718b",
   "outputs": [],
   "execution_count": null
  },
  {
   "metadata": {},
   "cell_type": "code",
   "source": [
    "plt.scatter(x, y)\n",
    "plt.show()"
   ],
   "id": "c9e465ce8713bdcf",
   "outputs": [],
   "execution_count": null
  },
  {
   "metadata": {},
   "cell_type": "code",
   "source": [
    "from sklearn.linear_model import LinearRegression\n",
    "from sklearn.preprocessing import PolynomialFeatures"
   ],
   "id": "bcde68d094ee686b",
   "outputs": [],
   "execution_count": null
  },
  {
   "metadata": {},
   "cell_type": "code",
   "source": "plt.rcParams['figure.figsize'] = (12, 8)",
   "id": "e4cc7b16dddc9da5",
   "outputs": [],
   "execution_count": null
  },
  {
   "metadata": {},
   "cell_type": "code",
   "source": [
    "degrees = [1, 2, 5, 20]\n",
    "for i in range(len(degrees)):\n",
    "    plt.subplot(2, 2, i + 1)\n",
    "    plt.scatter(x, y)\n",
    "    poly = PolynomialFeatures(degree=degrees[i])\n",
    "    X_poly = poly.fit_transform(X)\n",
    "    reg = LinearRegression()\n",
    "    reg.fit(X_poly, y)\n",
    "    y_pred = reg.predict(X_poly)\n",
    "    plt.ylim(-5, 25)\n",
    "    plt.plot(np.sort(x), y_pred[np.argsort(x)], color='r')\n",
    "    plt.title('degree = %d' % degrees[i])\n",
    "    print('Degree = %d, score = %f' % (degrees[i], reg.score(X_poly, y)))\n",
    "plt.show()"
   ],
   "id": "da260cb4eb73389e",
   "outputs": [],
   "execution_count": null
  },
  {
   "metadata": {},
   "cell_type": "markdown",
   "source": "### 划分训练集和测试集",
   "id": "c466f36226a63269"
  },
  {
   "metadata": {},
   "cell_type": "code",
   "source": [
    "from sklearn.model_selection import train_test_split\n",
    "\n",
    "X_train, X_test, y_train, y_test = train_test_split(X, y, test_size=0.3, random_state=233)"
   ],
   "id": "646c91aaf9596288",
   "outputs": [],
   "execution_count": null
  },
  {
   "metadata": {},
   "cell_type": "code",
   "source": [
    "from sklearn.metrics import mean_squared_error\n",
    "\n",
    "plt.rcParams['figure.figsize'] = (12, 8)\n",
    "\n",
    "degrees = [1, 2, 5, 20]\n",
    "for i in range(len(degrees)):\n",
    "    poly = PolynomialFeatures(degree=degrees[i])\n",
    "    X_poly_train = poly.fit_transform(X_train)\n",
    "    X_poly_test = poly.fit_transform(X_test)\n",
    "    \n",
    "    train_error, test_error = [], []\n",
    "    for k in range(len(X_train)):\n",
    "        reg = LinearRegression()\n",
    "        reg.fit(X_poly_train[:k + 1], y_train[:k + 1])\n",
    "        \n",
    "        y_pred_train = reg.predict(X_poly_train[:k + 1])\n",
    "        y_pred_test = reg.predict(X_poly_test)\n",
    "        train_error.append(mean_squared_error(y_train[:k + 1], y_pred_train))\n",
    "        test_error.append(mean_squared_error(y_test, y_pred_test))\n",
    "    \n",
    "    plt.subplot(2, 2, i + 1)\n",
    "    plt.title('Degree = %d' % degrees[i])\n",
    "    plt.ylim(-5, 25)\n",
    "    plt.plot([k + 1 for k in range(len(X_train))], train_error, label='train',color='r')\n",
    "    plt.plot([k + 1 for k in range(len(X_train))], test_error, label='test', color='b')\n",
    "\n",
    "plt.show()"
   ],
   "id": "efe1859a6ff5b44a",
   "outputs": [],
   "execution_count": null
  },
  {
   "metadata": {},
   "cell_type": "markdown",
   "source": "### $R^2$值",
   "id": "24e6137a9f56dda6"
  },
  {
   "metadata": {},
   "cell_type": "code",
   "source": [
    "from sklearn.metrics import mean_squared_error\n",
    "\n",
    "plt.rcParams['figure.figsize'] = (12, 8)\n",
    "\n",
    "degrees = [1, 2, 5, 20]\n",
    "for i, degree in enumerate(degrees):\n",
    "    poly = PolynomialFeatures(degree=degree)\n",
    "    X_poly_train = poly.fit_transform(X_train.reshape(-1, 1))\n",
    "    X_poly_test = poly.fit_transform(X_test.reshape(-1, 1))\n",
    "    \n",
    "    train_error, test_error = [], []\n",
    "    for k in range(1, len(X_train)):\n",
    "        reg = LinearRegression()\n",
    "        reg.fit(X_poly_train[:k + 1], y_train[:k + 1])\n",
    "        \n",
    "        y_pred_train = reg.predict(X_poly_train[:k + 1])\n",
    "        y_pred_test = reg.predict(X_poly_test)\n",
    "        train_error.append(reg.score(X_poly_train[:k + 1], y_train[:k + 1]))\n",
    "        test_error.append(reg.score(X_poly_test, y_test))\n",
    "    \n",
    "    plt.subplot(2, 2, i + 1)\n",
    "    plt.title('Degree = %d' % degrees[i])\n",
    "    plt.ylim(-1, 1)\n",
    "    plt.plot([k + 1 for k in range(1, len(X_train))], train_error, label='train',color='r')\n",
    "    plt.plot([k + 1 for k in range(1, len(X_train))], test_error, label='test', color='b')\n",
    "\n",
    "plt.show()"
   ],
   "id": "2e5f795c245bf63b",
   "outputs": [],
   "execution_count": null
  }
 ],
 "metadata": {
  "kernelspec": {
   "display_name": "Python 3",
   "language": "python",
   "name": "python3"
  },
  "language_info": {
   "codemirror_mode": {
    "name": "ipython",
    "version": 2
   },
   "file_extension": ".py",
   "mimetype": "text/x-python",
   "name": "python",
   "nbconvert_exporter": "python",
   "pygments_lexer": "ipython2",
   "version": "2.7.6"
  }
 },
 "nbformat": 4,
 "nbformat_minor": 5
}
