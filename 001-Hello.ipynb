{
 "cells": [
  {
   "cell_type": "code",
   "execution_count": null,
   "id": "efc087d7-fa43-4e77-a6bd-b2fb17c5eca4",
   "metadata": {},
   "outputs": [],
   "source": [
    "1+1"
   ]
  },
  {
   "cell_type": "code",
   "execution_count": null,
   "id": "a0494dc5-ed9d-426b-82f9-e1034959c0e9",
   "metadata": {},
   "outputs": [],
   "source": [
    "for i in range(5):\n",
    "    print(i)"
   ]
  },
  {
   "cell_type": "code",
   "execution_count": null,
   "id": "dde3618a-eacb-4101-b845-d85d84cf3aea",
   "metadata": {},
   "outputs": [],
   "source": [
    "3+4"
   ]
  },
  {
   "cell_type": "markdown",
   "id": "fb6610b0-1a88-4e57-a6f9-845f26bb1664",
   "metadata": {},
   "source": [
    "Hello world!"
   ]
  },
  {
   "cell_type": "markdown",
   "id": "df1e4ff3-96d8-4486-9998-a1cb9e79cad8",
   "metadata": {},
   "source": [
    "# 一级标题\n",
    "## 二级标题\n",
    "**加粗**\n",
    "正文\n",
    "公式 $a^2 + b^2 = c^2$"
   ]
  },
  {
   "cell_type": "code",
   "execution_count": null,
   "id": "a4935c41-2c13-48ca-a4d6-e3a2845b77c9",
   "metadata": {},
   "outputs": [],
   "source": [
    "%timeit data=[x*x for x in range(1000)]"
   ]
  },
  {
   "cell_type": "code",
   "execution_count": null,
   "id": "9eced7c1-ddcf-4fba-9c8b-cd51fc73ac0c",
   "metadata": {},
   "outputs": [],
   "source": [
    "%%timeit\n",
    "import time\n",
    "time.sleep(0.5)"
   ]
  },
  {
   "cell_type": "code",
   "execution_count": null,
   "id": "17949373-ab6c-479d-90e7-03d000cbb0f5",
   "metadata": {},
   "outputs": [],
   "source": [
    "%time data=[x*x for x in range(1000)]"
   ]
  },
  {
   "cell_type": "code",
   "execution_count": null,
   "id": "37b720b7-08a2-4f5a-bd19-418c7291d8aa",
   "metadata": {},
   "outputs": [],
   "source": [
    "%%time\n",
    "import time\n",
    "time.sleep(0.5)"
   ]
  },
  {
   "cell_type": "code",
   "execution_count": 8,
   "id": "3f5e6c2a-626d-4614-b2f0-cf43d184541b",
   "metadata": {},
   "outputs": [],
   "source": [
    "a = 456"
   ]
  },
  {
   "cell_type": "code",
   "execution_count": null,
   "id": "6caa2964-5662-4eae-a88b-df2ab5854d3d",
   "metadata": {},
   "outputs": [],
   "source": [
    "%whos"
   ]
  },
  {
   "cell_type": "code",
   "execution_count": null,
   "id": "cdb7acf0-ff0b-4e0d-ab17-76367e33955b",
   "metadata": {},
   "outputs": [],
   "source": [
    "%lsmagic"
   ]
  },
  {
   "cell_type": "code",
   "execution_count": null,
   "id": "391bf655-290a-4c84-8e19-09d2db39f1d7",
   "metadata": {},
   "outputs": [],
   "source": [
    "%magic"
   ]
  },
  {
   "cell_type": "code",
   "execution_count": null,
   "id": "cfa5498f-7019-4382-99c6-23d780346390",
   "metadata": {},
   "outputs": [],
   "source": []
  }
 ],
 "metadata": {
  "kernelspec": {
   "display_name": "all",
   "language": "python",
   "name": "python3"
  },
  "language_info": {
   "codemirror_mode": {
    "name": "ipython",
    "version": 3
   },
   "file_extension": ".py",
   "mimetype": "text/x-python",
   "name": "python",
   "nbconvert_exporter": "python",
   "pygments_lexer": "ipython3",
   "version": "3.12.2"
  }
 },
 "nbformat": 4,
 "nbformat_minor": 5
}
