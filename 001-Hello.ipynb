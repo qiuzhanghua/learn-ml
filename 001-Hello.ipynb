{
 "cells": [
  {
   "cell_type": "code",
   "id": "efc087d7-fa43-4e77-a6bd-b2fb17c5eca4",
   "metadata": {},
   "source": [
    "1+1"
   ],
   "outputs": [],
   "execution_count": null
  },
  {
   "cell_type": "code",
   "id": "a0494dc5-ed9d-426b-82f9-e1034959c0e9",
   "metadata": {},
   "source": [
    "for i in range(5):\n",
    "    print(i)"
   ],
   "outputs": [],
   "execution_count": null
  },
  {
   "cell_type": "code",
   "id": "dde3618a-eacb-4101-b845-d85d84cf3aea",
   "metadata": {},
   "source": [
    "3+4"
   ],
   "outputs": [],
   "execution_count": null
  },
  {
   "cell_type": "markdown",
   "id": "df1e4ff3-96d8-4486-9998-a1cb9e79cad8",
   "metadata": {},
   "source": [
    "# 一级标题\n",
    "## 二级标题\n",
    "**加粗**\n",
    "正文\n",
    "公式 $a^2 + b^2 = c^2$"
   ]
  },
  {
   "cell_type": "code",
   "id": "a4935c41-2c13-48ca-a4d6-e3a2845b77c9",
   "metadata": {},
   "source": [
    "%timeit data=[x*x for x in range(1000)]"
   ],
   "outputs": [],
   "execution_count": null
  },
  {
   "cell_type": "code",
   "id": "9eced7c1-ddcf-4fba-9c8b-cd51fc73ac0c",
   "metadata": {},
   "source": [
    "%%timeit\n",
    "import time\n",
    "time.sleep(0.5)"
   ],
   "outputs": [],
   "execution_count": null
  },
  {
   "cell_type": "code",
   "id": "17949373-ab6c-479d-90e7-03d000cbb0f5",
   "metadata": {},
   "source": [
    "%time data=[x*x for x in range(1000)]"
   ],
   "outputs": [],
   "execution_count": null
  },
  {
   "cell_type": "code",
   "id": "37b720b7-08a2-4f5a-bd19-418c7291d8aa",
   "metadata": {},
   "source": [
    "%%time\n",
    "import time\n",
    "time.sleep(0.5)"
   ],
   "outputs": [],
   "execution_count": null
  },
  {
   "cell_type": "code",
   "id": "3f5e6c2a-626d-4614-b2f0-cf43d184541b",
   "metadata": {},
   "source": [
    "a = 456"
   ],
   "outputs": [],
   "execution_count": null
  },
  {
   "cell_type": "code",
   "id": "6caa2964-5662-4eae-a88b-df2ab5854d3d",
   "metadata": {},
   "source": [
    "%whos"
   ],
   "outputs": [],
   "execution_count": null
  },
  {
   "cell_type": "code",
   "id": "cdb7acf0-ff0b-4e0d-ab17-76367e33955b",
   "metadata": {},
   "source": [
    "%lsmagic"
   ],
   "outputs": [],
   "execution_count": null
  },
  {
   "cell_type": "code",
   "id": "391bf655-290a-4c84-8e19-09d2db39f1d7",
   "metadata": {},
   "source": [
    "%magic"
   ],
   "outputs": [],
   "execution_count": null
  }
 ],
 "metadata": {
  "kernelspec": {
   "display_name": "all",
   "language": "python",
   "name": "python3"
  },
  "language_info": {
   "codemirror_mode": {
    "name": "ipython",
    "version": 3
   },
   "file_extension": ".py",
   "mimetype": "text/x-python",
   "name": "python",
   "nbconvert_exporter": "python",
   "pygments_lexer": "ipython3",
   "version": "3.12.2"
  }
 },
 "nbformat": 4,
 "nbformat_minor": 5
}
