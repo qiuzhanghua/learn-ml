{
 "cells": [
  {
   "cell_type": "code",
   "id": "initial_id",
   "metadata": {
    "collapsed": true
   },
   "source": [
    "from sklearn import datasets\n",
    "import warnings\n",
    "\n",
    "warnings.filterwarnings('ignore')"
   ],
   "outputs": [],
   "execution_count": null
  },
  {
   "metadata": {},
   "cell_type": "code",
   "source": [
    "import numpy as np\n",
    "from sklearn.neighbors import KNeighborsClassifier\n",
    "from sklearn.tree import DecisionTreeClassifier\n",
    "from sklearn.linear_model import LogisticRegression\n",
    "from sklearn.preprocessing import PolynomialFeatures\n",
    "from sklearn.pipeline import Pipeline\n",
    "from sklearn.model_selection import cross_val_score"
   ],
   "id": "6ea082df33168a05",
   "outputs": [],
   "execution_count": null
  },
  {
   "metadata": {},
   "cell_type": "code",
   "source": [
    "def model_selection(x, y, cv):\n",
    "    knn = KNeighborsClassifier(n_neighbors=3)\n",
    "    dt = DecisionTreeClassifier(max_depth=5)\n",
    "    \n",
    "    lr = Pipeline([\n",
    "        ('poly', PolynomialFeatures(degree=2)),\n",
    "        ('lr', LogisticRegression())\n",
    "    ])\n",
    "    \n",
    "    print('knn_sccore:%f, dt_score:%f, lr_score:%f' % (\n",
    "        np.mean(cross_val_score(knn, x, y, cv=cv)),\n",
    "        np.mean(cross_val_score(dt, x, y, cv=cv)),\n",
    "        np.mean(cross_val_score(lr, x, y, cv=cv))\n",
    "    ))\n",
    "    "
   ],
   "id": "ba1341b33777feaf",
   "outputs": [],
   "execution_count": null
  },
  {
   "metadata": {},
   "cell_type": "code",
   "source": [
    "iris = datasets.load_iris()\n",
    "x = iris.data\n",
    "y = iris.target\n",
    "model_selection(x, y, 5)"
   ],
   "id": "6d928b1e8c672de0",
   "outputs": [],
   "execution_count": null
  },
  {
   "metadata": {},
   "cell_type": "code",
   "source": [
    "digits = datasets.load_digits()\n",
    "x = digits.data\n",
    "y = digits.target\n",
    "model_selection(x, y, 5)"
   ],
   "id": "5adeb86142411be",
   "outputs": [],
   "execution_count": null
  },
  {
   "metadata": {},
   "cell_type": "code",
   "source": [
    "from sklearn.neural_network import MLPClassifier\n",
    "nn = MLPClassifier(hidden_layer_sizes=(1, ), activation='identity', learning_rate_init=0.01,\n",
    "                   random_state=233)\n",
    "np.mean(cross_val_score(nn, x, y, cv=5))"
   ],
   "id": "fda205bea03b867c",
   "outputs": [],
   "execution_count": null
  },
  {
   "metadata": {},
   "cell_type": "markdown",
   "source": "# 神经网络的模型选择",
   "id": "3aff525af2e39d67"
  },
  {
   "metadata": {},
   "cell_type": "code",
   "source": [
    "nn = MLPClassifier(hidden_layer_sizes=(5, ), activation='identity', learning_rate_init=0.01,\n",
    "                   random_state=233)\n",
    "np.mean(cross_val_score(nn, x, y, cv=5))"
   ],
   "id": "98614b0830f566ae",
   "outputs": [],
   "execution_count": null
  },
  {
   "metadata": {},
   "cell_type": "code",
   "source": [
    "nn = MLPClassifier(hidden_layer_sizes=(100,), activation='identity', learning_rate_init=0.01,\n",
    "                   random_state=233)\n",
    "np.mean(cross_val_score(nn, x, y, cv=5))"
   ],
   "id": "4f25ce76da063148",
   "outputs": [],
   "execution_count": null
  },
  {
   "metadata": {},
   "cell_type": "code",
   "source": [
    "nn = MLPClassifier(hidden_layer_sizes=(100, ), activation='relu', learning_rate_init=0.01,\n",
    "                   random_state=233)\n",
    "np.mean(cross_val_score(nn, x, y, cv=5))"
   ],
   "id": "e2986873c89f8018",
   "outputs": [],
   "execution_count": null
  },
  {
   "metadata": {},
   "cell_type": "code",
   "source": [
    "nn = MLPClassifier(hidden_layer_sizes=(100, 100), activation='relu', learning_rate_init=0.01,\n",
    "                   random_state=233)\n",
    "np.mean(cross_val_score(nn, x, y, cv=5))"
   ],
   "id": "4ca3ab5936ccf252",
   "outputs": [],
   "execution_count": null
  },
  {
   "metadata": {},
   "cell_type": "code",
   "source": [
    "nn = MLPClassifier(hidden_layer_sizes=(100, 50, 100), activation='relu', learning_rate_init=0.01,\n",
    "                   random_state=233)\n",
    "np.mean(cross_val_score(nn, x, y, cv=5))"
   ],
   "id": "7629ad2834cc16e0",
   "outputs": [],
   "execution_count": null
  },
  {
   "metadata": {},
   "cell_type": "code",
   "source": [
    "nn = MLPClassifier(hidden_layer_sizes=(100, 50, 100, 100, 50, 100, 100, 50, 100), activation='relu', learning_rate_init=0.01,\n",
    "                   random_state=233)\n",
    "np.mean(cross_val_score(nn, x, y, cv=5))"
   ],
   "id": "6a3e2ea80c60311d",
   "outputs": [],
   "execution_count": null
  }
 ],
 "metadata": {
  "kernelspec": {
   "display_name": "Python 3",
   "language": "python",
   "name": "python3"
  },
  "language_info": {
   "codemirror_mode": {
    "name": "ipython",
    "version": 2
   },
   "file_extension": ".py",
   "mimetype": "text/x-python",
   "name": "python",
   "nbconvert_exporter": "python",
   "pygments_lexer": "ipython2",
   "version": "2.7.6"
  }
 },
 "nbformat": 4,
 "nbformat_minor": 5
}
