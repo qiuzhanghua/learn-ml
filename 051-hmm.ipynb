{
 "cells": [
  {
   "cell_type": "markdown",
   "id": "initial_id",
   "metadata": {
    "collapsed": true
   },
   "source": [
    "### Hidden Markov Model"
   ]
  },
  {
   "cell_type": "code",
   "execution_count": 38,
   "id": "1a805d2f",
   "metadata": {},
   "outputs": [],
   "source": [
    "import numpy as np\n",
    "import matplotlib.pyplot as plt"
   ]
  },
  {
   "cell_type": "code",
   "execution_count": 39,
   "id": "2e87d6c3",
   "metadata": {},
   "outputs": [],
   "source": [
    "state = np.array(['认真复习', '简单复习', '没有复习'])\n",
    "grade = np.array(['A+', 'A', 'A-', 'B+','B', 'B-', 'C+', 'C', 'C-'])\n",
    "n_state = len(state)\n",
    "n_grade = len(grade)\n",
    "\n",
    "pi = np.ones(n_state) / n_state\n",
    "t = np.array([\n",
    "    [0.4, 0.3, 0.3],\n",
    "    [0.3, 0.4, 0.3],\n",
    "    [0.3, 0.3, 0.4],\n",
    "])\n",
    "e = np.zeros((n_state, n_grade))\n",
    "e[0, :9] = 1/ 9\n",
    "e[1, 3:9] = 1 / 6\n",
    "e[2, 5:9] = 1 / 4"
   ]
  },
  {
   "cell_type": "code",
   "execution_count": null,
   "id": "6bcfe4a0",
   "metadata": {},
   "outputs": [],
   "source": [
    "print(\"初始概率矩阵:\", pi)\n",
    "print(\"转移矩阵：\", t)\n",
    "print(\"发射矩阵：\", e)"
   ]
  },
  {
   "cell_type": "code",
   "execution_count": 41,
   "id": "4627759f",
   "metadata": {},
   "outputs": [],
   "source": [
    "from hmmlearn.hmm import CategoricalHMM\n",
    "model = CategoricalHMM(n_state)\n",
    "model.startprob_ = pi\n",
    "model.transmat_ = t\n",
    "model.emissionprob_ = e\n",
    "model.n_features = n_grade"
   ]
  },
  {
   "cell_type": "code",
   "execution_count": null,
   "id": "4aedda40",
   "metadata": {},
   "outputs": [],
   "source": [
    "data = np.array([0, 4, 2, 6, 1])\n",
    "data = np.expand_dims(data, axis=1)\n",
    "data.shape"
   ]
  },
  {
   "cell_type": "code",
   "execution_count": null,
   "id": "589fc85c",
   "metadata": {},
   "outputs": [],
   "source": [
    "states = model.predict(data)\n",
    "states"
   ]
  },
  {
   "cell_type": "code",
   "execution_count": null,
   "id": "e1f0e0f5",
   "metadata": {},
   "outputs": [],
   "source": [
    "prob = model.score(data)\n",
    "prob"
   ]
  },
  {
   "cell_type": "code",
   "execution_count": null,
   "id": "26016dab",
   "metadata": {},
   "outputs": [],
   "source": [
    "np.exp(prob)"
   ]
  },
  {
   "cell_type": "code",
   "execution_count": 46,
   "id": "c5b600c7",
   "metadata": {},
   "outputs": [],
   "source": [
    "data, states = model.sample(1000)"
   ]
  },
  {
   "cell_type": "code",
   "execution_count": null,
   "id": "5c95e49c",
   "metadata": {},
   "outputs": [],
   "source": [
    "t_2 = np.zeros([3,3])\n",
    "for i in range(3):\n",
    "    current = np.where(states == i)[0]\n",
    "    next_index = current+1\n",
    "    next_index = next_index[:-1]\n",
    "\n",
    "    tmp = states[next_index]\n",
    "    for j in range(3):\n",
    "        t_2[i][j] = np.where(tmp==j)[0].shape[0]/np.shape(tmp)[0]\n",
    "print(t_2)"
   ]
  },
  {
   "cell_type": "code",
   "execution_count": null,
   "id": "b0f3647a",
   "metadata": {},
   "outputs": [],
   "source": [
    "e_2 = np.zeros([3,9])\n",
    "for i in range(3):\n",
    "    current = np.where(states == i)[0]\n",
    "    next_index = current+1\n",
    "    next_index = next_index[:-1]\n",
    "    tmp = data[current]\n",
    "    for j in range(9):\n",
    "        e_2[i][j] = np.where(tmp==j)[0].shape[0]/np.shape(tmp)[0]\n",
    "print(e_2)"
   ]
  }
 ],
 "metadata": {
  "kernelspec": {
   "display_name": "all",
   "language": "python",
   "name": "python3"
  },
  "language_info": {
   "codemirror_mode": {
    "name": "ipython",
    "version": 3
   },
   "file_extension": ".py",
   "mimetype": "text/x-python",
   "name": "python",
   "nbconvert_exporter": "python",
   "pygments_lexer": "ipython3",
   "version": "3.12.2"
  }
 },
 "nbformat": 4,
 "nbformat_minor": 5
}
