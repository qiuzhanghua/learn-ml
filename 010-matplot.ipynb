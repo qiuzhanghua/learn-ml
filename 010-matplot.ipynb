{
 "cells": [
  {
   "cell_type": "code",
   "id": "fa64fc97-6aa9-472c-a468-b802e83058ba",
   "metadata": {},
   "source": [
    "import numpy as np"
   ],
   "outputs": [],
   "execution_count": null
  },
  {
   "cell_type": "code",
   "id": "c6897c6d-458a-4740-9f06-308a5df914f3",
   "metadata": {},
   "source": [
    "import matplotlib.pyplot as plt"
   ],
   "outputs": [],
   "execution_count": null
  },
  {
   "cell_type": "code",
   "id": "532e7191-4f5f-48dc-949d-d58a314e559c",
   "metadata": {},
   "source": [
    "x = np.linspace(-10, 10, 100)"
   ],
   "outputs": [],
   "execution_count": null
  },
  {
   "cell_type": "code",
   "id": "64d61450-dd4a-4fa6-8be9-46694df79180",
   "metadata": {},
   "source": [
    "y = x * x"
   ],
   "outputs": [],
   "execution_count": null
  },
  {
   "cell_type": "code",
   "id": "1ec5ea52-504d-4ab5-b85f-2d2f717eef5b",
   "metadata": {},
   "source": [
    "plt.plot(x, y)\n",
    "plt.show()"
   ],
   "outputs": [],
   "execution_count": null
  },
  {
   "cell_type": "code",
   "id": "91fcbada-fc7b-4272-9b58-00197df4118c",
   "metadata": {},
   "source": [
    "x = np.linspace(0, 10, 100)\n",
    "y1 = np.sin(x)\n",
    "y2 = np.cos(x)\n",
    "plt.plot(x, y1, color='green', linestyle=':', label=\"sin(x)\")\n",
    "plt.plot(x, y2, label='cons(x)')\n",
    "plt.xlim(-5, 15)\n",
    "plt.ylim(-2, 2)\n",
    "# or\n",
    "plt.axis((-5, 10, -1.1, 1.1))\n",
    "\n",
    "plt.xlabel('x axis')\n",
    "plt.ylabel(\"y\")\n",
    "\n",
    "plt.legend()\n",
    "plt.title('First Plot')\n",
    "plt.show()"
   ],
   "outputs": [],
   "execution_count": null
  },
  {
   "cell_type": "markdown",
   "id": "dd7be991-4055-4017-b2b5-321dd90c4f75",
   "metadata": {},
   "source": [
    "### 离散情况"
   ]
  },
  {
   "cell_type": "code",
   "id": "1a68f466-3362-4ba3-8314-7742de3ebac4",
   "metadata": {},
   "source": [
    "plt.scatter(x, y1, color='green')\n",
    "plt.scatter(x, y2)\n",
    "plt.show()"
   ],
   "outputs": [],
   "execution_count": null
  },
  {
   "cell_type": "code",
   "id": "e61be93c-65c2-496e-a679-7be2bde84180",
   "metadata": {},
   "source": [
    "x = np.random.normal(0, 1, 10000)\n",
    "y = np.random.normal(0, 1, 10000)\n",
    "plt.scatter(x, y, alpha = 0.1)\n",
    "plt.show()"
   ],
   "outputs": [],
   "execution_count": null
  },
  {
   "cell_type": "code",
   "id": "cda9263a-e7a0-4180-8f1a-2eb302d773b5",
   "metadata": {},
   "source": [
    " "
   ],
   "outputs": [],
   "execution_count": null
  }
 ],
 "metadata": {
  "kernelspec": {
   "display_name": "all",
   "language": "python",
   "name": "python3"
  },
  "language_info": {
   "codemirror_mode": {
    "name": "ipython",
    "version": 3
   },
   "file_extension": ".py",
   "mimetype": "text/x-python",
   "name": "python",
   "nbconvert_exporter": "python",
   "pygments_lexer": "ipython3",
   "version": "3.12.2"
  }
 },
 "nbformat": 4,
 "nbformat_minor": 5
}
